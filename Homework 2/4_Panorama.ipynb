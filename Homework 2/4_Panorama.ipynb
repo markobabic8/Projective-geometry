{
 "cells": [
  {
   "cell_type": "markdown",
   "metadata": {},
   "source": [
    "# Panorama\n",
    "\n",
    "Aplikacija ucitava dve JPG slike, korisnik, klikom misa, bira 6 tacaka na prvoj slici i istih tih 6 tacaka na drugoj slici, zatim se na taj nacin dobija matrica projektivnog preslikavanja kojom mozemo preslikati prvu sliku na drugu sliku. Na kraju spajamo modifikovanu prvu sliku sa drugom po horizontali i dobijamo panoramu."
   ]
  },
  {
   "cell_type": "code",
   "execution_count": 1,
   "metadata": {},
   "outputs": [],
   "source": [
    "import cv2\n",
    "import numpy as np\n",
    "from numpy import linalg as LA"
   ]
  },
  {
   "cell_type": "code",
   "execution_count": 2,
   "metadata": {
    "scrolled": true
   },
   "outputs": [],
   "source": [
    "def homogenizacija(tacka):\n",
    "    return [tacka[0], tacka[1], 1]"
   ]
  },
  {
   "cell_type": "code",
   "execution_count": 3,
   "metadata": {},
   "outputs": [],
   "source": [
    "def dehomogenizacija(tacka):\n",
    "    return [tacka[0]/tacka[2], tacka[1]/tacka[2]]"
   ]
  },
  {
   "cell_type": "code",
   "execution_count": 4,
   "metadata": {},
   "outputs": [],
   "source": [
    "def matricaKorespodencije(o, s):\n",
    "    M = np.array([[0, 0, 0, -s[2]*o[0], -s[2]*o[1], -s[2]*o[2], s[1]*o[0], s[1]*o[1], s[1]*o[2]],\n",
    "                 [s[2]*o[0], s[2]*o[1], s[2]*o[2], 0, 0, 0, -s[0]*o[0], -s[0]*o[1], -s[0]*o[2]]])\n",
    "    return M"
   ]
  },
  {
   "cell_type": "code",
   "execution_count": 5,
   "metadata": {},
   "outputs": [],
   "source": [
    "def dltAlgoritam(n, originali, slike):\n",
    "    \n",
    "    M1 = matricaKorespodencije(originali[0], slike[0])\n",
    "    \n",
    "    for i in range(1,n):\n",
    "        M2 = matricaKorespodencije(originali[i], slike[i])\n",
    "        M1 = np.vstack((M1, M2))\n",
    "            \n",
    "    U, D, V_transponovano = LA.svd(M1, full_matrices=True)\n",
    "    \n",
    "    P = V_transponovano[-1]\n",
    "    P = P.reshape(3,3)\n",
    "    return P"
   ]
  },
  {
   "cell_type": "code",
   "execution_count": 6,
   "metadata": {},
   "outputs": [],
   "source": [
    "def normalizacija(n,tacke):\n",
    "    afine = []\n",
    "\n",
    "    tx = 0\n",
    "    ty = 0\n",
    "    for i in range(n):\n",
    "        afine.append(dehomogenizacija(tacke[i]))\n",
    "        tx = tx + afine[i][0]\n",
    "        ty = ty + afine[i][1]\n",
    "    tx = tx/n\n",
    "    ty = ty/n\n",
    "\n",
    "    G = np.array([[1,0,-tx], [0,1,-ty], [0,0,1]])\n",
    "\n",
    "    for i in range(n):\n",
    "        afine[i] = G.dot(homogenizacija(afine[i]))\n",
    "   \n",
    "    dist = 0\n",
    "    for i in range(n):\n",
    "        dist = dist + np.sqrt(np.square(afine[i][0]) + np.square(afine[i][1]))\n",
    "\n",
    "    dist = dist/n\n",
    "\n",
    "    S = np.array([[np.sqrt(2)/dist,0, 0], [0,np.sqrt(2)/dist,0], [0,0,1]])\n",
    "\n",
    "    for i in range(n):\n",
    "        afine[i] = S.dot(homogenizacija(afine[i]))\n",
    "\n",
    "    T = S.dot(G)\n",
    "  \n",
    "    return T, afine"
   ]
  },
  {
   "cell_type": "code",
   "execution_count": 7,
   "metadata": {},
   "outputs": [],
   "source": [
    "def normDltAlgoritam(n, originali, slike):\n",
    "    originali_t, originali_n = normalizacija(n, originali)\n",
    "\n",
    "    slike_t, slike_n = normalizacija(n, slike)\n",
    "\n",
    "    MP = dltAlgoritam(n, originali_n, slike_n)\n",
    "\n",
    "    M = MP.dot(originali_t)\n",
    "    M = LA.inv(slike_t).dot(M)\n",
    "\n",
    "    return np.round(M, decimals=5)"
   ]
  },
  {
   "cell_type": "code",
   "execution_count": 8,
   "metadata": {},
   "outputs": [],
   "source": [
    "def click_event(event, x, y, flags, params):\n",
    "    global i\n",
    "    global naziv\n",
    "    if event == cv2.EVENT_LBUTTONDOWN:\n",
    "        tacke.append((x,y))\n",
    "        font = cv2.FONT_HERSHEY_DUPLEX\n",
    "        print(\"Tacka {} : {}, {}\".format(i, x, y))\n",
    "        i = i + 1\n",
    "        cv2.putText(img, '(' + str(x) + ',' + str(y) + ')', (x,y), font, 0.9, (50, 50, 100), 2)\n",
    "        cv2.imshow(naziv, img)"
   ]
  },
  {
   "cell_type": "code",
   "execution_count": null,
   "metadata": {
    "scrolled": true
   },
   "outputs": [
    {
     "name": "stdout",
     "output_type": "stream",
     "text": [
      "Slika 1\n",
      "Tacka 1 : 778, 531\n",
      "Tacka 2 : 770, 208\n",
      "Tacka 3 : 662, 529\n",
      "Tacka 4 : 660, 373\n",
      "Tacka 5 : 657, 229\n",
      "Tacka 6 : 657, 83\n",
      "\n",
      "Slika 2\n",
      "Tacka 1 : 514, 530\n",
      "Tacka 2 : 507, 209\n",
      "Tacka 3 : 389, 529\n",
      "Tacka 4 : 385, 374\n",
      "Tacka 5 : 384, 230\n",
      "Tacka 6 : 381, 82\n"
     ]
    }
   ],
   "source": [
    "global i\n",
    "i = 1\n",
    "tacke = []\n",
    "naziv = 'Slika 1'\n",
    "\n",
    "print('Slika 1')\n",
    "img = cv2.imread(\"panorama1.jpg\", 1)\n",
    "img = cv2.resize(img,(800,600))\n",
    "cv2.imshow(naziv, img)\n",
    "cv2.setMouseCallback(naziv, click_event)\n",
    "\n",
    "while True:\n",
    "    if cv2.waitKey(1) & len(tacke) == 6:\n",
    "        break\n",
    "        \n",
    "originali = []\n",
    "for i in range(6):\n",
    "    originali.append(homogenizacija(tacke[i]))\n",
    "\n",
    "tacke = []\n",
    "    \n",
    "naziv = 'Slika 2'\n",
    "\n",
    "i = 1\n",
    "\n",
    "img2 = cv2.imread(\"panorama2.jpg\", 1)\n",
    "img2 = cv2.resize(img2,(800,600))\n",
    "\n",
    "print('\\nSlika 2')\n",
    "img = cv2.imread(\"panorama2.jpg\", 1)\n",
    "img = cv2.resize(img,(800,600))\n",
    "\n",
    "cv2.imshow(naziv, img)\n",
    "cv2.setMouseCallback(naziv, click_event)\n",
    "\n",
    "while True:\n",
    "    if cv2.waitKey(1) & len(tacke) == 6:\n",
    "        break\n",
    "        \n",
    "slike = []\n",
    "for i in range(6):\n",
    "    slike.append(homogenizacija(tacke[i]))    \n",
    "\n",
    "for i in range(6):\n",
    "    slike[i][0] = slike[i][0] + 800\n",
    "    \n",
    "P = normDltAlgoritam(6, originali, slike)\n",
    "P = np.round(P,decimals=5)\n",
    "\n",
    "img = cv2.imread(\"panorama1.jpg\", 1)\n",
    "img = cv2.resize(img,(800,600))\n",
    "\n",
    "P = np.float64(P)\n",
    "dst = cv2.warpPerspective(img,P,(800,600))\n",
    "img1 = dst\n",
    "# cv2.imshow('Nova slika 1',dst)\n",
    "\n",
    "# M = np.float32([[1, 0, 100], [0, 1, 50]])\n",
    "# translated = cv2.warpAffine(dst, M, (1600, 600))\n",
    "# cv2.imshow('nova slika', translated)\n",
    "# Na ovaj nacin mozemo da spojimo dve slike po horizontali,\n",
    "# ali to nam ovde nije potrebno.\n",
    "\n",
    "im_v = cv2.hconcat([img1, img2])\n",
    "cv2.imshow('Panorama', im_v)\n",
    "\n",
    "cv2.waitKey(0)"
   ]
  },
  {
   "cell_type": "code",
   "execution_count": null,
   "metadata": {},
   "outputs": [],
   "source": []
  },
  {
   "cell_type": "code",
   "execution_count": null,
   "metadata": {},
   "outputs": [],
   "source": []
  }
 ],
 "metadata": {
  "kernelspec": {
   "display_name": "Python 3",
   "language": "python",
   "name": "python3"
  },
  "language_info": {
   "codemirror_mode": {
    "name": "ipython",
    "version": 3
   },
   "file_extension": ".py",
   "mimetype": "text/x-python",
   "name": "python",
   "nbconvert_exporter": "python",
   "pygments_lexer": "ipython3",
   "version": "3.7.6"
  }
 },
 "nbformat": 4,
 "nbformat_minor": 4
}
