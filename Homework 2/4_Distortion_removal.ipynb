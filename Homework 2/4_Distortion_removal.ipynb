{
 "cells": [
  {
   "cell_type": "markdown",
   "metadata": {},
   "source": [
    "# Otklanjanje distorzije\n",
    "\n",
    "Aplikacija ucitava JPG sliku, korisnik, klikom misa, bira 4 piksela koji se slikaju u pravougaonik i aplikacija prikazuje sliku sa otklonjenom projektivnom distorzijom."
   ]
  },
  {
   "cell_type": "code",
   "execution_count": 1,
   "metadata": {},
   "outputs": [],
   "source": [
    "import cv2\n",
    "import numpy as np\n",
    "from numpy import linalg as LA"
   ]
  },
  {
   "cell_type": "code",
   "execution_count": 2,
   "metadata": {
    "scrolled": true
   },
   "outputs": [],
   "source": [
    "def homogenizacija(tacka):\n",
    "    return [tacka[0], tacka[1], 1]"
   ]
  },
  {
   "cell_type": "code",
   "execution_count": 3,
   "metadata": {},
   "outputs": [],
   "source": [
    "def dehomogenizacija(tacka):\n",
    "    return [tacka[0]/tacka[2], tacka[1]/tacka[2]]"
   ]
  },
  {
   "cell_type": "code",
   "execution_count": 4,
   "metadata": {},
   "outputs": [],
   "source": [
    "def matricaKorespodencije(o, s):\n",
    "    M = np.array([[0, 0, 0, -s[2]*o[0], -s[2]*o[1], -s[2]*o[2], s[1]*o[0], s[1]*o[1], s[1]*o[2]],\n",
    "                 [s[2]*o[0], s[2]*o[1], s[2]*o[2], 0, 0, 0, -s[0]*o[0], -s[0]*o[1], -s[0]*o[2]]])\n",
    "    return M"
   ]
  },
  {
   "cell_type": "code",
   "execution_count": 5,
   "metadata": {},
   "outputs": [],
   "source": [
    "def dltAlgoritam(n, originali, slike):\n",
    "    \n",
    "    M1 = matricaKorespodencije(originali[0], slike[0])\n",
    "    \n",
    "    for i in range(1,n):\n",
    "        M2 = matricaKorespodencije(originali[i], slike[i])\n",
    "        M1 = np.vstack((M1, M2))\n",
    "            \n",
    "    U, D, V_transponovano = LA.svd(M1, full_matrices=True)\n",
    "    \n",
    "    P = V_transponovano[-1]\n",
    "    P = P.reshape(3,3)\n",
    "    return P"
   ]
  },
  {
   "cell_type": "code",
   "execution_count": 6,
   "metadata": {},
   "outputs": [],
   "source": [
    "def normalizacija(n,tacke):\n",
    "    afine = []\n",
    "\n",
    "    tx = 0\n",
    "    ty = 0\n",
    "    for i in range(n):\n",
    "        afine.append(dehomogenizacija(tacke[i]))\n",
    "        tx = tx + afine[i][0]\n",
    "        ty = ty + afine[i][1]\n",
    "    tx = tx/n\n",
    "    ty = ty/n\n",
    "\n",
    "    G = np.array([[1,0,-tx], [0,1,-ty], [0,0,1]])\n",
    "\n",
    "    for i in range(n):\n",
    "        afine[i] = G.dot(homogenizacija(afine[i]))\n",
    "   \n",
    "    dist = 0\n",
    "    for i in range(n):\n",
    "        dist = dist + np.sqrt(np.square(afine[i][0]) + np.square(afine[i][1]))\n",
    "\n",
    "    dist = dist/n\n",
    "\n",
    "    S = np.array([[np.sqrt(2)/dist,0, 0], [0,np.sqrt(2)/dist,0], [0,0,1]])\n",
    "\n",
    "    for i in range(n):\n",
    "        afine[i] = S.dot(homogenizacija(afine[i]))\n",
    "\n",
    "    T = S.dot(G)\n",
    "  \n",
    "    return T, afine"
   ]
  },
  {
   "cell_type": "code",
   "execution_count": 7,
   "metadata": {},
   "outputs": [],
   "source": [
    "def normDltAlgoritam(n, originali, slike):\n",
    "    originali_t, originali_n = normalizacija(n, originali)\n",
    "\n",
    "    slike_t, slike_n = normalizacija(n, slike)\n",
    "\n",
    "    MP = dltAlgoritam(n, originali_n, slike_n)\n",
    "\n",
    "    M = MP.dot(originali_t)\n",
    "    M = LA.inv(slike_t).dot(M)\n",
    "\n",
    "    return np.round(M, decimals=5)"
   ]
  },
  {
   "cell_type": "code",
   "execution_count": 8,
   "metadata": {},
   "outputs": [],
   "source": [
    "def pravougaonik(originali):\n",
    "    slike = []\n",
    "    originali.sort()\n",
    "    \n",
    "    w = (originali[1][1] - originali[0][1]+originali[2][1] - originali[3][1])/2.0  \n",
    "    h = (originali[2][0] - originali[1][0]+originali[3][0] - originali[0][0])/2.0\n",
    "    \n",
    "    slike.append((originali[0][0], originali[0][1], originali[0][2]))\n",
    "    slike.append((originali[0][0], originali[0][1] + w, originali[0][2]))\n",
    "    slike.append((originali[0][0] + h, originali[0][1] + w, originali[0][2]))     \n",
    "    slike.append((originali[0][0] + h, originali[0][1], originali[0][2])) \n",
    "\n",
    "    return slike"
   ]
  },
  {
   "cell_type": "code",
   "execution_count": 9,
   "metadata": {},
   "outputs": [],
   "source": [
    "def click_event(event, x, y, flags, params):\n",
    "    global i\n",
    "    if event == cv2.EVENT_LBUTTONDOWN:\n",
    "        tacke.append((x,y))\n",
    "        font = cv2.FONT_HERSHEY_DUPLEX\n",
    "        print(\"Tacka {} : {}, {}\".format(i, x, y))\n",
    "        i = i + 1\n",
    "        cv2.putText(img, '(' + str(x) + ',' + str(y) + ')', (x,y), font, 0.9, (50, 50, 100), 2)\n",
    "        cv2.imshow('Originalna slika', img)"
   ]
  },
  {
   "cell_type": "code",
   "execution_count": 10,
   "metadata": {
    "scrolled": true
   },
   "outputs": [
    {
     "name": "stdout",
     "output_type": "stream",
     "text": [
      "Tacka 1 : 521, 62\n",
      "Tacka 2 : 518, 31\n",
      "Tacka 3 : 161, 118\n",
      "Tacka 4 : 164, 93\n"
     ]
    },
    {
     "data": {
      "text/plain": [
       "27"
      ]
     },
     "execution_count": 10,
     "metadata": {},
     "output_type": "execute_result"
    }
   ],
   "source": [
    "i = 1\n",
    "tacke = []\n",
    "\n",
    "img = cv2.imread(\"zgrada.jpg\", 1)\n",
    "img = cv2.resize(img,(800,600))\n",
    "cv2.imshow('Originalna slika', img)\n",
    "cv2.setMouseCallback('Originalna slika', click_event)\n",
    "\n",
    "while True:\n",
    "    if cv2.waitKey(1) & len(tacke) == 4:\n",
    "        break\n",
    "\n",
    "originali = []\n",
    "for i in range(4):\n",
    "    originali.append(homogenizacija(tacke[i]))    \n",
    "\n",
    "\n",
    "slike = pravougaonik(originali)\n",
    "\n",
    "P = normDltAlgoritam(4, originali, slike)\n",
    "P = np.round(P,decimals=5)\n",
    "\n",
    "img = cv2.imread(\"zgrada.jpg\", 1)\n",
    "img = cv2.resize(img,(800,600))\n",
    "\n",
    "P = np.float64(P)\n",
    "dst = cv2.warpPerspective(img,P,(800,600))\n",
    "\n",
    "cv2.imshow('Nova slika',dst)\n",
    "cv2.waitKey(0)"
   ]
  }
 ],
 "metadata": {
  "kernelspec": {
   "display_name": "Python 3",
   "language": "python",
   "name": "python3"
  },
  "language_info": {
   "codemirror_mode": {
    "name": "ipython",
    "version": 3
   },
   "file_extension": ".py",
   "mimetype": "text/x-python",
   "name": "python",
   "nbconvert_exporter": "python",
   "pygments_lexer": "ipython3",
   "version": "3.8.10"
  }
 },
 "nbformat": 4,
 "nbformat_minor": 4
}
