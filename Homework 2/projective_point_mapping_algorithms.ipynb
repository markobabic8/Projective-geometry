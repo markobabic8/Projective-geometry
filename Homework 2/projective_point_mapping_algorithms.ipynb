{
 "cells": [
  {
   "cell_type": "markdown",
   "metadata": {},
   "source": [
    "# Naivni algoritam,  DLT algoritam i modifikovani DLT algoritam"
   ]
  },
  {
   "cell_type": "code",
   "execution_count": 1,
   "metadata": {},
   "outputs": [],
   "source": [
    "import numpy as np\n",
    "from numpy import linalg as LA"
   ]
  },
  {
   "cell_type": "markdown",
   "metadata": {},
   "source": [
    "# Naivni algoritam\n",
    "\n",
    "Moze da radi za najvise **4 tacke** i samim tim ima manju preciznost u odnosu na ostale. Ovim algoritmom nalazimo **matricu preslikavanja** tacaka. Funkcija **naivniAlgoritam** kao argumente prima originalne 4 tacke i 4 tacke u koje originalne tacke treba da se preslikaju koriscenjem dobijene matrice(tacke su date u **homogenim** koordinatama). Prvo trazimo koeficijente α, β i γ funkcijom **coefs** za oreginalne tacke, a zatim i za tacke u koje originalne zelimo da preslikamo zatim pravimo matricu P1 koja kao kolone ima αA, βB i γC gde su A, B i C oreginalne tacke, i tako isto P2 za tacke u koje originalne slikamo. Na kraju cemo konacnu matricu preslikavanja dobiti tako sto primenimo formulu P = P2 * inverz(P1)."
   ]
  },
  {
   "cell_type": "code",
   "execution_count": 2,
   "metadata": {},
   "outputs": [],
   "source": [
    "def coefs(matrix):\n",
    "    A = matrix.T[:,:3]\n",
    "    B = matrix[3]\n",
    "    A_inv = LA.inv(A)\n",
    "    X = LA.inv(A).dot(B.T)\n",
    "    return X"
   ]
  },
  {
   "cell_type": "code",
   "execution_count": 3,
   "metadata": {},
   "outputs": [],
   "source": [
    "def naivniAlgoritam(original, slika):\n",
    "    p1 = coefs(original)\n",
    "    p2 = coefs(slika)\n",
    "    \n",
    "    P1 = np.array([[p1[i] * x for x in original[i]] for i in range(3)]).T\n",
    "    P2 = np.array([[p2[i] * x for x in slika[i]] for i in range(3)]).T\n",
    "    \n",
    "    P = P2.dot(LA.inv(P1))\n",
    "    return P"
   ]
  },
  {
   "cell_type": "markdown",
   "metadata": {},
   "source": [
    "Matrica koju daje naivni algoritam"
   ]
  },
  {
   "cell_type": "code",
   "execution_count": 4,
   "metadata": {},
   "outputs": [
    {
     "name": "stdout",
     "output_type": "stream",
     "text": [
      "Naivni algoritam daje matricu projektivnog preslikavanja:\n",
      " [[ 2.  0.  0.]\n",
      " [ 0.  2. -1.]\n",
      " [ 0. -1.  2.]]\n"
     ]
    }
   ],
   "source": [
    "originali = np.array([[-3,-1,1], [3,-1,1], [1,1,1], [-1,1,1]])\n",
    "slike = np.array([[-2,-1,1], [2,-1,1], [2,1,1], [-2,1,1]])\n",
    "P = naivniAlgoritam(originali, slike)\n",
    "P = np.round(P, decimals=5)\n",
    "print('Naivni algoritam daje matricu projektivnog preslikavanja:\\n', P)"
   ]
  },
  {
   "cell_type": "markdown",
   "metadata": {},
   "source": [
    "# DLT algoritam\n",
    "\n",
    "Moze da radi za vise od 4 tacke za razliku od naivnog pa mu je i preciznost veca. Prvo je potrebno da odredimo matricu korespodencije 2 X 9 za sve originalne tacke i tacke u koje preslikavamo oreginalne, zatim ih spajamo jednu na drugu i dobijamo matricu 2*N X 9 gde je N broj tacaka koje preslikavamo. Nakon toga vrsimo SVD  dekompoziciju matrice. Rezultujuca matrica ce biti poslednja kolona matrice V sto je u stvari poslednja vrsta matrice V_transponovano. Zatim rezultujucu matricu projektivnog preslikavanja skaliramo kako bismo poredili sa naivnim algoritmom(mnozimo sa 2 jer je kod matrice naivnog algoritma P[0][0] = 2)."
   ]
  },
  {
   "cell_type": "code",
   "execution_count": 5,
   "metadata": {},
   "outputs": [],
   "source": [
    "def matricaKorespodencije(o, s):\n",
    "    M = np.array([[0, 0, 0, -s[2]*o[0], -s[2]*o[1], -s[2]*o[2], s[1]*o[0], s[1]*o[1], s[1]*o[2]],\n",
    "                 [s[2]*o[0], s[2]*o[1], s[2]*o[2], 0, 0, 0, -s[0]*o[0], -s[0]*o[1], -s[0]*o[2]]])\n",
    "    return M"
   ]
  },
  {
   "cell_type": "code",
   "execution_count": 6,
   "metadata": {},
   "outputs": [],
   "source": [
    "def dltAlgoritam(n, originali, slike):\n",
    "    \n",
    "    M1 = matricaKorespodencije(originali[0], slike[0])\n",
    "    \n",
    "    for i in range(1,n):\n",
    "        M2 = matricaKorespodencije(originali[i], slike[i])\n",
    "        M1 = np.vstack((M1, M2))\n",
    "            \n",
    "    U, D, V_transponovano = LA.svd(M1, full_matrices=True)\n",
    "    \n",
    "    P = V_transponovano[-1]\n",
    "    P = P.reshape(3,3)\n",
    "    return P"
   ]
  },
  {
   "cell_type": "markdown",
   "metadata": {},
   "source": [
    "Vidimo da su matrice koje daju naivni algoritam i dlt algoritam iste nakon skaliranja."
   ]
  },
  {
   "cell_type": "code",
   "execution_count": 7,
   "metadata": {},
   "outputs": [
    {
     "name": "stdout",
     "output_type": "stream",
     "text": [
      "DLT algoritam daje matricu projektivnog preslikavanja:\n",
      " [[-0.53452  0.      -0.     ]\n",
      " [ 0.      -0.53452  0.26726]\n",
      " [-0.       0.26726 -0.53452]]\n",
      "Skalirana matrica:\n",
      " [[ 2. -0.  0.]\n",
      " [-0.  2. -1.]\n",
      " [ 0. -1.  2.]]\n"
     ]
    }
   ],
   "source": [
    "originali = np.array([[-3,-1,1], [3,-1,1], [1,1,1], [-1,1,1], [1, 2, 3], [- 8, - 2, 1]])\n",
    "slike = np.array([[-2,-1,1], [2,-1,1], [2,1,1], [-2,1,1], [2, 1, 4], [- 16, - 5, 4]])\n",
    "\n",
    "P = dltAlgoritam(6, originali, slike)\n",
    "P = np.round(P, decimals=5)\n",
    "print(\"DLT algoritam daje matricu projektivnog preslikavanja:\\n\", P)\n",
    "\n",
    "P = P/P[0][0]*2\n",
    "print(\"Skalirana matrica:\\n\", P)"
   ]
  },
  {
   "cell_type": "markdown",
   "metadata": {},
   "source": [
    "# Modifikovani DLT algotitam(sa normalizacijom)\n",
    "\n",
    "Takodje kao i DLT moze raditi sa vise tacaka i dosta je precizan. Modifikujemo ovaj algoritam kako bi radio preciznije i sa manjim brojevima jer cemo u praksi imati mnogo vise od npr. 6 tacaka.  **Normalizaciju** tacaka vrsimo tako sto prvo odredimo teziste tacaka , pravimo matricu koja translira teziste u koordinatni pocetak(G), svaku tacku transliramo za vektor TO(T je teziste, O koordinatni pocetak). Nakon toga racunamo prosecno rastojanje tacaka od koordinatnog pocetka, pravimo matricu homotetije kako bismo skalirali tacke da prosecka udaljenost bude koren(2), skaliramo tacke i na kraju matricu normalizacije dobijamo kao proizvod matrice homotetije i matrice translacije. Normalizovani DLT algoritam funkcionise tako sto prvo normalizujemo originalne tacke i tacke u koje se originalne slikaju, dobijamo pomocnu matricu tako sto primenimo klasican DLT na normalizovane tacke, a samu matricu projektivnog preslikavanja dobijamo kao proizvod inverza matrice normalizacije tacaka u koje se slikaju oreginalne tacke, pomocne matrice i matrice normalizacije oreginalnih tacaka."
   ]
  },
  {
   "cell_type": "code",
   "execution_count": 8,
   "metadata": {},
   "outputs": [],
   "source": [
    "def homogenizacija(tacka):\n",
    "    return [tacka[0], tacka[1], 1]"
   ]
  },
  {
   "cell_type": "code",
   "execution_count": 9,
   "metadata": {},
   "outputs": [],
   "source": [
    "def dehomogenizacija(tacka):\n",
    "    return [tacka[0]/tacka[2], tacka[1]/tacka[2]]"
   ]
  },
  {
   "cell_type": "code",
   "execution_count": 10,
   "metadata": {},
   "outputs": [],
   "source": [
    "def normalizacija(n,tacke):\n",
    "    afine = []\n",
    "\n",
    "    tx = 0\n",
    "    ty = 0\n",
    "    for i in range(n):\n",
    "        afine.append(dehomogenizacija(tacke[i]))\n",
    "        tx = tx + afine[i][0]\n",
    "        ty = ty + afine[i][1]\n",
    "    tx = tx/n\n",
    "    ty = ty/n\n",
    "\n",
    "    G = np.array([[1,0,-tx], [0,1,-ty], [0,0,1]])\n",
    "\n",
    "    for i in range(n):\n",
    "        afine[i] = G.dot(homogenizacija(afine[i]))\n",
    "   \n",
    "    dist = 0\n",
    "    for i in range(n):\n",
    "        dist = dist + np.sqrt(np.square(afine[i][0]) + np.square(afine[i][1]))\n",
    "\n",
    "    dist = dist/n\n",
    "\n",
    "    S = np.array([[np.sqrt(2)/dist,0, 0], [0,np.sqrt(2)/dist,0], [0,0,1]])\n",
    "\n",
    "    for i in range(n):\n",
    "        afine[i] = S.dot(homogenizacija(afine[i]))\n",
    "\n",
    "    T = S.dot(G)\n",
    "  \n",
    "    return T, afine"
   ]
  },
  {
   "cell_type": "code",
   "execution_count": 11,
   "metadata": {},
   "outputs": [],
   "source": [
    "def normDltAlgoritam(n, originali, slike):\n",
    "    originali_t, originali_n = normalizacija(n, originali)\n",
    "\n",
    "    slike_t, slike_n = normalizacija(n, slike)\n",
    "\n",
    "    MP = dltAlgoritam(n, originali_n, slike_n)\n",
    "\n",
    "    M = MP.dot(originali_t)\n",
    "    M = LA.inv(slike_t).dot(M)\n",
    "\n",
    "    return np.round(M, decimals=5)"
   ]
  },
  {
   "cell_type": "markdown",
   "metadata": {},
   "source": [
    "Vidimo da su matrice koje daju naivni algoritam, dlt algoritam i modifikovani dlt algoritam iste nakon skaliranja."
   ]
  },
  {
   "cell_type": "code",
   "execution_count": 12,
   "metadata": {},
   "outputs": [
    {
     "name": "stdout",
     "output_type": "stream",
     "text": [
      "Normalizovani DLT algoritam daje matricu projektivnog preslikavanja:\n",
      " [[-0.397   0.     -0.    ]\n",
      " [ 0.     -0.397   0.1985]\n",
      " [-0.      0.1985 -0.397 ]]\n",
      "Skalirana matrica:\n",
      " [[ 2. -0.  0.]\n",
      " [-0.  2. -1.]\n",
      " [ 0. -1.  2.]]\n"
     ]
    }
   ],
   "source": [
    "originali = np.array([[-3,-1,1], [3,-1,1], [1,1,1], [-1,1,1], [1, 2, 3], [- 8, - 2, 1]])\n",
    "slike = np.array([[-2,-1,1], [2,-1,1] ,[2,1,1], [-2,1,1] ,[2, 1, 4], [- 16, - 5, 4]])\n",
    "\n",
    "P = normDltAlgoritam(6, originali, slike)\n",
    "print(\"Normalizovani DLT algoritam daje matricu projektivnog preslikavanja:\\n\", P)\n",
    "\n",
    "P = P/P[0][0]*2\n",
    "print(\"Skalirana matrica:\\n\", P)"
   ]
  },
  {
   "cell_type": "markdown",
   "metadata": {},
   "source": [
    "# Model za predaju domaceg"
   ]
  },
  {
   "cell_type": "code",
   "execution_count": 13,
   "metadata": {},
   "outputs": [],
   "source": [
    "def pom(cc, originali):\n",
    "    niz_tacaka = np.array(cc.dot(originali[0]))\n",
    "    for i in range(1,7):\n",
    "        T = cc.dot(originali[i])\n",
    "        niz_tacaka = np.vstack((niz_tacaka, T))\n",
    "    return niz_tacaka"
   ]
  },
  {
   "cell_type": "code",
   "execution_count": 14,
   "metadata": {},
   "outputs": [
    {
     "name": "stdout",
     "output_type": "stream",
     "text": [
      "Polazna matrica preslikavanja:\n",
      " [[ 0  3  5]\n",
      " [ 4  0  0]\n",
      " [-1 -1  6]]\n",
      "\n",
      "\n",
      "Naivni algoritam daje matricu preslikavanja:\n",
      " [[ 0.  3.  5.]\n",
      " [ 4. -0. -0.]\n",
      " [-1. -1.  6.]]\n",
      "\n",
      "\n",
      "DLT algoritam daje matricu preslikavanja:\n",
      " [[-0.00000000e+00 -3.19801075e-01 -5.33001791e-01]\n",
      " [-4.26401433e-01 -3.45015596e-17 -4.82600207e-17]\n",
      " [ 1.06600358e-01  1.06600358e-01 -6.39602149e-01]]\n",
      "Skalirana matrica:\n",
      " [[ 0.00000000e+00  3.00000000e+00  5.00000000e+00]\n",
      " [ 4.00000000e+00  3.23653318e-16  4.52719124e-16]\n",
      " [-1.00000000e+00 -1.00000000e+00  6.00000000e+00]]\n",
      "Zaokruzena matrica:\n",
      " [[ 0.  3.  5.]\n",
      " [ 4.  0.  0.]\n",
      " [-1. -1.  6.]]\n",
      "\n",
      "\n",
      "Normalizovan DLT algoritam daje matricu preslikavanja:\n",
      " [[ 0.      -0.22489 -0.37482]\n",
      " [-0.29985 -0.      -0.     ]\n",
      " [ 0.07496  0.07496 -0.44978]]\n",
      "Slakirana matrica:\n",
      " [[-0.          3.          5.00004447]\n",
      " [ 3.99995553  0.          0.        ]\n",
      " [-0.99995553 -0.99995553  6.        ]]\n",
      "Zaokruzena matrica:\n",
      " [[-0.  3.  5.]\n",
      " [ 4.  0.  0.]\n",
      " [-1. -1.  6.]]\n",
      "\n",
      "\n",
      "Primena matrice cc na originale:\n",
      " [[ 4  6  1]\n",
      " [ 9  8  2]\n",
      " [ 6  8  3]\n",
      " [ 5 10  1]\n",
      " [ 5  4  2]\n",
      " [ 4  4  1]\n",
      " [ 3  2  1]]\n",
      "Primena matrice cc na slike:\n",
      " [[ 2.   10.    7.  ]\n",
      " [10.    2.    9.  ]\n",
      " [38.   36.   17.  ]\n",
      " [-8.   16.   10.  ]\n",
      " [26.   14.    9.  ]\n",
      " [ 6.    4.    5.  ]\n",
      " [12.    3.98  4.  ]]\n",
      "\n",
      "\n",
      "dlt:\n",
      "\n",
      "[[ 0.06980605  0.06987025 -0.76828951]\n",
      " [ 0.2095467  -0.10479124 -0.55872647]\n",
      " [ 0.03489971 -0.03492463 -0.1745637 ]]\n",
      "\n",
      "\n",
      "[[-1.73564676e-05 -1.04847554e-01 -1.74607666e-01]\n",
      " [-1.39719503e-01  6.61760914e-06  9.63372330e-06]\n",
      " [ 3.49246285e-02  3.48997143e-02 -2.09538156e-01]]\n",
      "\n",
      "\n",
      "[[ 4.96620099e-04  3.00000000e+00  4.99604404e+00]\n",
      " [ 3.99779004e+00 -1.89349457e-04 -2.75649443e-04]\n",
      " [-9.99297373e-01 -9.98584504e-01  5.99550913e+00]]\n",
      "\n",
      "modifikovani dlt:\n",
      "\n",
      "[[ 0.15545  0.15656 -1.71733]\n",
      " [ 0.46858 -0.23458 -1.24853]\n",
      " [ 0.07771 -0.0781  -0.38956]]\n",
      "\n",
      "\n",
      "[[-2.8000e-04 -2.3545e-01 -3.9021e-01]\n",
      " [-3.1276e-01  3.0000e-05  1.3000e-04]\n",
      " [ 7.8100e-02  7.7710e-02 -4.6844e-01]]\n",
      "\n",
      "\n",
      "[[ 3.56763644e-03  3.00000000e+00  4.97188363e+00]\n",
      " [ 3.98504990e+00 -3.82246762e-04 -1.65640263e-03]\n",
      " [-9.95115736e-01 -9.90146528e-01  5.96865577e+00]]\n"
     ]
    }
   ],
   "source": [
    "P = np.array([[0, 3, 5], [4, 0, 0], [-1, -1, 6]])\n",
    "print('Polazna matrica preslikavanja:\\n', P)\n",
    "print('\\n')\n",
    "\n",
    "originali = np.array([[-3, 2, 1], [-2, 5, 2], [1, 0, 3], [-7, 3, 1]])\n",
    "slike = np.array([[11, -12, 7], [25, -8, 9], [15, 4, 17], [14, -28, 10]])\n",
    "\n",
    "P = np.round(naivniAlgoritam(originali, slike), decimals=5)\n",
    "print(\"Naivni algoritam daje matricu preslikavanja:\\n\", P)\n",
    "print('\\n')\n",
    "\n",
    "originali = np.array([[-3, 2, 1], [-2, 5, 2], [1, 0, 3], [-7, 3, 1], [2, 1, 2], [-1, 2, 1], [1, 1, 1]])\n",
    "slike = np.array([[11, -12, 7], [25, -8, 9], [15, 4, 17], [14, -28, 10], [13, 8, 9], [11, -4, 5], [8.02, 4, 4]])\n",
    "\n",
    "P = dltAlgoritam(6, originali, slike)\n",
    "print('DLT algoritam daje matricu preslikavanja:\\n', P)\n",
    "\n",
    "P = P/P[0][1]*3\n",
    "print('Skalirana matrica:\\n', P)\n",
    "\n",
    "P = np.round(P, decimals=2)\n",
    "print('Zaokruzena matrica:\\n', P)\n",
    "print('\\n')\n",
    "\n",
    "P = normDltAlgoritam(6, originali, slike)\n",
    "print('Normalizovan DLT algoritam daje matricu preslikavanja:\\n', P)\n",
    "\n",
    "P = P/P[0][1]*3\n",
    "print('Slakirana matrica:\\n', P)\n",
    "\n",
    "P = np.round(P, decimals=2)\n",
    "print('Zaokruzena matrica:\\n', P)\n",
    "print('\\n')\n",
    "\n",
    "cc = np.array([[0,1,2], [-1, 0, 3], [0, 0, 1]])\n",
    "\n",
    "O = pom(cc, originali)\n",
    "print('Primena matrice cc na originale:\\n', O)\n",
    "\n",
    "S = pom(cc, slike)\n",
    "print('Primena matrice cc na slike:\\n', S)\n",
    "print('\\n')\n",
    "\n",
    "print(\"dlt:\\n\")\n",
    "P = dltAlgoritam(7, O, S)\n",
    "print(P)\n",
    "print('\\n')\n",
    "Ps = LA.inv(cc).dot(P).dot(cc)\n",
    "print(Ps)\n",
    "print('\\n')\n",
    "Pp = Ps/Ps[0][1]*3\n",
    "print(Pp)\n",
    "\n",
    "print(\"\\nmodifikovani dlt:\\n\")\n",
    "P = normDltAlgoritam(7, O, S)\n",
    "print(P)\n",
    "print('\\n')\n",
    "Ps = LA.inv(cc).dot(P).dot(cc)\n",
    "print(Ps)\n",
    "print('\\n')\n",
    "Pp = Ps/Ps[0][1]*3\n",
    "print(Pp)"
   ]
  },
  {
   "cell_type": "markdown",
   "metadata": {},
   "source": [
    "# Provera domaceg"
   ]
  },
  {
   "cell_type": "code",
   "execution_count": 15,
   "metadata": {},
   "outputs": [
    {
     "name": "stdout",
     "output_type": "stream",
     "text": [
      "1)\n",
      "Naivni:\n",
      " [[ 1.         -0.4893617  -1.5106383 ]\n",
      " [ 0.62765957 -0.04255319 -0.54255319]\n",
      " [ 0.5        -0.46808511  0.13829787]]\n",
      "Dlt:\n",
      " [[ 1.         -0.4893617  -1.5106383 ]\n",
      " [ 0.62765957 -0.04255319 -0.54255319]\n",
      " [ 0.5        -0.46808511  0.13829787]]\n",
      "Dlt norm:\n",
      " [[ 1.         -0.48934973 -1.51063268]\n",
      " [ 0.62765377 -0.04254833 -0.54255712]\n",
      " [ 0.49999121 -0.46808436  0.13830405]]\n",
      "\n",
      "\n",
      "2)\n",
      "Dlt:\n",
      " [[ 1.         -0.50215564 -1.45779447]\n",
      " [ 0.51618777 -0.00399712 -0.44345389]\n",
      " [ 0.46632343 -0.43192449  0.10723129]]\n",
      "Dlt norm:\n",
      " [[ 1.         -0.50218349 -1.45773658]\n",
      " [ 0.51826357 -0.00508863 -0.44493172]\n",
      " [ 0.46676659 -0.4322934   0.10741645]]\n",
      "\n",
      "\n",
      "3)\n",
      "Dlt norm:\n",
      " [[ 1.          8.1878513  14.71482102]\n",
      " [-1.23459225  1.60704073  7.8510995 ]\n",
      " [-0.09180554  2.39562173  3.94320087]]\n",
      "\n",
      "\n"
     ]
    }
   ],
   "source": [
    "# 1)\n",
    "print('1)')\n",
    "originali_y = np.array([[2,1,1], [1,2,1], [3,4,1], [-1,-3,1]])\n",
    "slike_y = np.array([[0,1,1], [5,0,1], [2,-5,1], [-1,-1,1]])\n",
    "\n",
    "Pn = naivniAlgoritam(originali_y, slike_y)\n",
    "Pn = Pn/Pn[0][0]  * 1.0\n",
    "\n",
    "print('Naivni:\\n', Pn)\n",
    "\n",
    "Pd = dltAlgoritam(4, originali_y, slike_y)\n",
    "Pd = Pd/Pd[0][0] * 1.0\n",
    "\n",
    "print('Dlt:\\n', Pd)\n",
    "\n",
    "Pdn = normDltAlgoritam(4, originali_y, slike_y)\n",
    "Pdn = Pdn/Pdn[0][0] * 1.0\n",
    "\n",
    "print('Dlt norm:\\n', Pdn)\n",
    "print('\\n')\n",
    "\n",
    "# 2)\n",
    "print('2)')\n",
    "\n",
    "originali_y = np.array([[2,1,1], [1,2,1], [3,4,1], [-1,-3,1], [-2,5,1]])\n",
    "slike_y = np.array([[0,1,1], [5,0,1], [2,-5,1], [-1,-1,1], [4,1,2]])\n",
    "\n",
    "Pd = dltAlgoritam(5, originali_y, slike_y)\n",
    "Pd = Pd/Pd[0][0] * 1.0\n",
    "\n",
    "print('Dlt:\\n', Pd)\n",
    "\n",
    "Pdn = normDltAlgoritam(5, originali_y, slike_y)\n",
    "Pdn = Pdn/Pdn[0][0] * 1.0\n",
    "\n",
    "print('Dlt norm:\\n', Pdn)\n",
    "print('\\n')\n",
    "\n",
    "# 3)\n",
    "print('3)')\n",
    "\n",
    "originali_yn = np.array([[0,-3,1], [0,-1,1], [4,-1,1], [-7,-4,1], [0,5,1]])\n",
    "slike_yn = np.array([[3,-1,1], [4,4,1], [9,1,1], [5,-2,1], [7,2,2]])\n",
    "\n",
    "Pdn = normDltAlgoritam(5, originali_yn, slike_yn)\n",
    "Pdn = Pdn/Pdn[0][0] * 1.0\n",
    "\n",
    "print('Dlt norm:\\n', Pdn)\n",
    "print('\\n')"
   ]
  },
  {
   "cell_type": "markdown",
   "metadata": {},
   "source": [
    "Vidimo da su dobijene vrednosti za deo 1) i 2) vrlo slicne za sve algritme, ali postoje mala odstupanja, razlog je to sto je naivan algoritam manje precizan od dlt, a dlt je manje precizan od modifikovanog dlt, takodje jos jedan razlog je taj da sto vise tacaka prosledimo dlt i modifikovanom dlt algoritmu dobijamo vecu preciznost od njih."
   ]
  },
  {
   "cell_type": "code",
   "execution_count": null,
   "metadata": {},
   "outputs": [],
   "source": []
  }
 ],
 "metadata": {
  "kernelspec": {
   "display_name": "Python 3",
   "language": "python",
   "name": "python3"
  },
  "language_info": {
   "codemirror_mode": {
    "name": "ipython",
    "version": 3
   },
   "file_extension": ".py",
   "mimetype": "text/x-python",
   "name": "python",
   "nbconvert_exporter": "python",
   "pygments_lexer": "ipython3",
   "version": "3.7.6"
  }
 },
 "nbformat": 4,
 "nbformat_minor": 4
}
