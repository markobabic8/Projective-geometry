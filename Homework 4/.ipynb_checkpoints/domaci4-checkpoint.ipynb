{
 "cells": [
  {
   "cell_type": "code",
   "execution_count": 46,
   "metadata": {},
   "outputs": [],
   "source": [
    "import numpy as np\n",
    "from numpy import linalg as la"
   ]
  },
  {
   "cell_type": "code",
   "execution_count": 47,
   "metadata": {},
   "outputs": [],
   "source": [
    "def ParametriKamere(T):\n",
    "    #TC = 0\n",
    "    \n",
    "    #Determinante minora\n",
    "    c_1 = la.det([[T[0][1], T[0][2], T[0][3]],\n",
    "                 [T[1][1], T[1][2], T[1][3]],\n",
    "                 [T[2][1], T[2][2], T[2][3]]])\n",
    "    \n",
    "    c_2 = -la.det([[T[0][0], T[0][2], T[0][3]],\n",
    "                  [T[1][0], T[1][2], T[1][3]],\n",
    "                  [T[2][0], T[2][2], T[2][3]]])\n",
    "    \n",
    "    c_3 = la.det([[T[0][0], T[0][1], T[0][3]],\n",
    "                 [T[1][0], T[1][1], T[1][3]],\n",
    "                 [T[2][0], T[2][1], T[2][3]]])\n",
    "    \n",
    "    c_4 = -la.det([[T[0][0], T[0][1], T[0][2]],\n",
    "                  [T[1][0], T[1][1], T[1][2]],\n",
    "                  [T[2][0], T[2][1], T[2][2]]])\n",
    "    \n",
    "    #Normiranje po c4\n",
    "    c_1 = np.round(c_1/c_4)\n",
    "    c_2 = np.round(c_2/c_4)\n",
    "    c_3 = np.round(c_3/c_4)\n",
    "    c_4 = np.round(c_4/c_4)\n",
    "    \n",
    "    #Pravimo T0 to je matrica 3x3 napravljena tako sto smo polaznoj T uklonili poslednju kolonu\n",
    "    T0 = np.array(T)\n",
    "    T0 = T0[:, :3]\n",
    "    \n",
    "    #Vodimo racuna o tome da T0 i detT0 budu > 0\n",
    "    if la.det(T0) < 0:\n",
    "        T0 = np.array(-T)\n",
    "        T0 = T0[:, :3]\n",
    "    \n",
    "    #QR Dekompozicija matrice\n",
    "    [Q, R] = la.qr(la.inv(T0))\n",
    "    \n",
    "    #Vodimo racuna o tome da nijedan element na dijagonali matrice R ne bude negativan\n",
    "    if R[0, 0] < 0:\n",
    "        R[0, :] = -R[0, :]\n",
    "        Q[:, 0] = -Q[:, 0]\n",
    "        \n",
    "    if R[1, 1] < 0:\n",
    "        R[1, :] = -R[1, :]\n",
    "        Q[:, 1] = -Q[:, 1]\n",
    " \n",
    "    if R[2, 2] < 0:\n",
    "        R[2, :] = -R[2, :]\n",
    "        Q[:, 2] = -Q[:, 2]\n",
    "    \n",
    "    #Konacno dobijamo K,A,C\n",
    "    K = la.inv(R)\n",
    "    \n",
    "    #Normiranje po k33\n",
    "    K = K/K[2][2]\n",
    "    \n",
    "    A = la.inv(Q)\n",
    "    \n",
    "    C = np.array([c_1, c_2, c_3])\n",
    "    \n",
    "    print(\"\\nK:\\n\", K)\n",
    "    print(\"\\nA:\\n\", A)\n",
    "    print(\"\\nC:\\n\", C)"
   ]
  },
  {
   "cell_type": "code",
   "execution_count": 48,
   "metadata": {},
   "outputs": [
    {
     "name": "stdout",
     "output_type": "stream",
     "text": [
      "\n",
      "K:\n",
      " [[ 5.  3. 23.]\n",
      " [ 0.  5.  1.]\n",
      " [ 0.  0.  1.]]\n",
      "\n",
      "A:\n",
      " [[ 1.  0.  0.]\n",
      " [ 0.  0.  1.]\n",
      " [-0. -1.  0.]]\n",
      "\n",
      "C:\n",
      " [10.  1. -4.]\n"
     ]
    }
   ],
   "source": [
    "#Test primer\n",
    "n = 11\n",
    "T = np.array([[5,-1-2*n, 3, 18-3*n], [0,-1,5,21], [0,-1,0,1]])\n",
    "ParametriKamere(T)"
   ]
  },
  {
   "cell_type": "code",
   "execution_count": 49,
   "metadata": {},
   "outputs": [
    {
     "name": "stdout",
     "output_type": "stream",
     "text": [
      "\n",
      "K:\n",
      " [[ 5.  3. 15.]\n",
      " [ 0.  5.  1.]\n",
      " [ 0.  0.  1.]]\n",
      "\n",
      "A:\n",
      " [[ 1.  0.  0.]\n",
      " [ 0.  0.  1.]\n",
      " [-0. -1.  0.]]\n",
      "\n",
      "C:\n",
      " [ 6.  1. -4.]\n"
     ]
    }
   ],
   "source": [
    "#Test primer sa brojem indeksa\n",
    "#77/2017 => n=7\n",
    "n=7\n",
    "T = np.array([[5,-1-2*n, 3, 18-3*n], [0,-1,5,21], [0,-1,0,1]])\n",
    "ParametriKamere(T)"
   ]
  },
  {
   "cell_type": "code",
   "execution_count": 50,
   "metadata": {},
   "outputs": [],
   "source": [
    "def jednacine(o, s):\n",
    "    m = np.array([[0, 0, 0, 0, o[0]*(-s[2]), o[1]*(-s[2]), o[2]*(-s[2]),  o[3]*(-s[2]), o[0]*s[1], o[1]*s[1], o[2]*s[1], o[3]*s[1]],\n",
    "                   [o[0]*s[2], o[1]*s[2], o[2]*s[2], o[3]*s[2], 0, 0, 0, 0, o[0]*(-s[0]), o[1]*(-s[0]), o[2]*(-s[0]), o[3]*(-s[0])]])\n",
    "    return m"
   ]
  },
  {
   "cell_type": "code",
   "execution_count": 51,
   "metadata": {},
   "outputs": [],
   "source": [
    "def CameraDLP(originali, projekcije):\n",
    "    \n",
    "    for i in range(6):\n",
    "        if i > 0:\n",
    "            m = jednacine(originali[i], projekcije[i])\n",
    "            matrix = np.append(matrix, m, axis = 0)\n",
    "        else:\n",
    "            matrix = jednacine(originali[i], projekcije[i])\n",
    "    \n",
    "    #SVD dekompozicija matrice\n",
    "    U, D, Vt = la.svd(matrix)\n",
    "    \n",
    "    P = Vt[-1] / Vt[-1, 0]\n",
    "    P = P.round(4)\n",
    "    P = P.reshape(3,4)\n",
    "   \n",
    "    return P"
   ]
  },
  {
   "cell_type": "code",
   "execution_count": 52,
   "metadata": {},
   "outputs": [
    {
     "name": "stdout",
     "output_type": "stream",
     "text": [
      "[[     1.        -10.98       33.956   -9692.0317]\n",
      " [    26.7404    -10.7543     34.2971 -20328.2746]\n",
      " [     0.0417     -0.0073      0.0722    -46.8369]]\n"
     ]
    }
   ],
   "source": [
    "#Test primer\n",
    "n = 11\n",
    "\n",
    "M1 = np.array([460, 280, 250, 1])\n",
    "M2 = np.array([50, 380, 350, 1])\n",
    "M3 = np.array([470, 500, 100, 1])\n",
    "M4 = np.array([380, 630, 50*n, 1])\n",
    "M5 = np.array([30*n, 290, 0, 1])\n",
    "M6 = np.array([580, 0, 130, 1])\n",
    "originali = np.array([M1, M2, M3, M4, M5, M6])\n",
    "\n",
    "M1p = np.array([288, 251, 1])\n",
    "M2p = np.array([79, 510, 1])\n",
    "M3p = np.array([470, 440, 1])\n",
    "M4p = np.array([520, 590, 1])\n",
    "M5p = np.array([365, 388, 1])\n",
    "M6p = np.array([365, 20, 1])\n",
    "projekcije = np.array([M1p, M2p, M3p, M4p, M5p, M6p])\n",
    "\n",
    "P = CameraDLP(originali, projekcije)\n",
    "print(P)"
   ]
  },
  {
   "cell_type": "code",
   "execution_count": 53,
   "metadata": {},
   "outputs": [
    {
     "name": "stdout",
     "output_type": "stream",
     "text": [
      "[[    1.        -2.4205     7.204  -1792.0238]\n",
      " [    2.6979    -2.2288     6.4077 -2405.5111]\n",
      " [    0.0059    -0.0039     0.0163    -6.3613]]\n"
     ]
    }
   ],
   "source": [
    "#Broj indeksa 77/2017 => n=7\n",
    "n = 7\n",
    "\n",
    "M1 = np.array([460, 280, 250, 1])\n",
    "M2 = np.array([50, 380, 350, 1])\n",
    "M3 = np.array([470, 500, 100, 1])\n",
    "M4 = np.array([380, 630, 50 * n, 1])\n",
    "M5 = np.array([30 * n, 290, 0, 1])\n",
    "M6 = np.array([580, 0, 130, 1])\n",
    "originali = np.array([M1, M2, M3, M4, M5, M6])\n",
    "\n",
    "M1p = np.array([288, 251, 1])\n",
    "M2p = np.array([79, 510, 1])\n",
    "M3p = np.array([470, 440, 1])\n",
    "M4p = np.array([520, 590, 1])\n",
    "M5p = np.array([365, 388, 1])\n",
    "M6p = np.array([365, 20, 1])\n",
    "projekcije = np.array([M1p, M2p, M3p, M4p, M5p, M6p])\n",
    "\n",
    "P = CameraDLP(originali, projekcije)\n",
    "print(P)"
   ]
  },
  {
   "cell_type": "code",
   "execution_count": null,
   "metadata": {},
   "outputs": [],
   "source": []
  }
 ],
 "metadata": {
  "kernelspec": {
   "display_name": "Python 3",
   "language": "python",
   "name": "python3"
  },
  "language_info": {
   "codemirror_mode": {
    "name": "ipython",
    "version": 3
   },
   "file_extension": ".py",
   "mimetype": "text/x-python",
   "name": "python",
   "nbconvert_exporter": "python",
   "pygments_lexer": "ipython3",
   "version": "3.8.10"
  }
 },
 "nbformat": 4,
 "nbformat_minor": 4
}
