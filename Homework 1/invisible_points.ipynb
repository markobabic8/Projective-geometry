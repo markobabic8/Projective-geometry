{
 "cells": [
  {
   "cell_type": "code",
   "execution_count": 1,
   "id": "experienced-tenant",
   "metadata": {},
   "outputs": [],
   "source": [
    "import numpy as np"
   ]
  },
  {
   "cell_type": "code",
   "execution_count": 2,
   "id": "developed-republican",
   "metadata": {},
   "outputs": [
    {
     "name": "stdout",
     "output_type": "stream",
     "text": [
      "Invisible point(T8): (467, 183)\n"
     ]
    }
   ],
   "source": [
    "class Point:\n",
    "    def __init__(self, x, y):\n",
    "        self.x = x\n",
    "        self.y = y\n",
    "        \n",
    "    def __str__(self):\n",
    "        return \"({}, {})\".format(self.x, self.y)\n",
    "    \n",
    "def homogeneous(t):\n",
    "    return [t.x, t.y, 1]\n",
    "\n",
    "def inhomogeneous(T):\n",
    "    return Point(round(T[0]/T[2]), round(T[1]/T[2]))\n",
    "\n",
    "def invisiblePoint(t1, t2, t3, t4, t5, t6, t7):\n",
    "    T1 = homogeneous(t1)\n",
    "    T2 = homogeneous(t2)\n",
    "    T3 = homogeneous(t3)\n",
    "    T4 = homogeneous(t4)\n",
    "    T5 = homogeneous(t5)\n",
    "    T6 = homogeneous(t6)\n",
    "    T7 = homogeneous(t7)\n",
    "    \n",
    "    \n",
    "    T1T2 = np.cross(T1, T2)\n",
    "    T5T6 = np.cross(T5, T6)\n",
    "    P = np.cross(T1T2, T5T6)\n",
    "    \n",
    "    T2T3 = np.cross(T2, T3)\n",
    "    T1T4 = np.cross(T1, T4)\n",
    "    Q = np.cross(T2T3, T1T4)\n",
    "    \n",
    "    PT7 = np.cross(P, T7)\n",
    "    T5Q = np.cross(T5, Q)\n",
    "    T = np.cross(PT7, T5Q)\n",
    "    \n",
    "    return inhomogeneous(T)\n",
    "\n",
    "# Test\n",
    "t1 = Point(38, 400)\n",
    "t2 = Point(410, 551)\n",
    "t3 = Point(703, 72)\n",
    "t4 = Point(439, 46)\n",
    "t5 = Point(124, 580)\n",
    "t6 = Point(451, 740)\n",
    "t7 = Point(703, 234)\n",
    "\n",
    "t = invisiblePoint(t1, t2, t3, t4, t5 ,t6, t7)\n",
    "print(\"Invisible point(T8):\", t)"
   ]
  }
 ],
 "metadata": {
  "kernelspec": {
   "display_name": "Python 3",
   "language": "python",
   "name": "python3"
  },
  "language_info": {
   "codemirror_mode": {
    "name": "ipython",
    "version": 3
   },
   "file_extension": ".py",
   "mimetype": "text/x-python",
   "name": "python",
   "nbconvert_exporter": "python",
   "pygments_lexer": "ipython3",
   "version": "3.8.10"
  }
 },
 "nbformat": 4,
 "nbformat_minor": 5
}
