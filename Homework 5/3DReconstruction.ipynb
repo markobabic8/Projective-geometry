{
 "cells": [
  {
   "cell_type": "code",
   "execution_count": 1,
   "metadata": {},
   "outputs": [],
   "source": [
    "import numpy as np\n",
    "import numpy.linalg as linalg\n",
    "import matplotlib.pyplot as plt\n",
    "from mpl_toolkits.mplot3d import Axes3D\n",
    "%matplotlib notebook"
   ]
  },
  {
   "cell_type": "markdown",
   "metadata": {},
   "source": [
    "# Slika 1"
   ]
  },
  {
   "cell_type": "code",
   "execution_count": 2,
   "metadata": {},
   "outputs": [],
   "source": [
    "x1 = np.array([815, 112, 1])\n",
    "x2 = np.array([952, 163, 1])\n",
    "x3 = np.array([986, 126, 1])\n",
    "x4 = np.array([854, 80, 1])\n",
    "x5 = np.array([791, 303, 1])\n",
    "x6 = np.array([913, 358, 1])\n",
    "x7 = np.array([950, 318, 1])\n",
    "x9 = np.array([322, 345, 1])\n",
    "x10 = np.array([454, 368, 1])\n",
    "x11 = np.array([509, 272, 1])\n",
    "x12 = np.array([388, 248, 1])\n",
    "x13 = np.array([364, 558, 1])\n",
    "x14 = np.array([478, 582, 1])\n",
    "x15 = np.array([526, 486, 1])\n",
    "x17 = np.array([137, 551, 1])\n",
    "x18 = np.array([434, 761, 1])\n",
    "x19 = np.array([817, 384, 1])\n",
    "x20 = np.array([549, 251, 1])\n",
    "x21 = np.array([174, 655, 1])\n",
    "x22 = np.array([449, 860, 1])\n",
    "x23 = np.array([806, 489, 1])"
   ]
  },
  {
   "cell_type": "markdown",
   "metadata": {},
   "source": [
    "# Slika 2"
   ]
  },
  {
   "cell_type": "code",
   "execution_count": 3,
   "metadata": {},
   "outputs": [],
   "source": [
    "y1 = np.array([912, 445, 1])\n",
    "y2 = np.array([812, 559, 1])\n",
    "y3 = np.array([918, 611, 1])\n",
    "y4 = np.array([1014, 491, 1])\n",
    "y6 = np.array([772, 769, 1])\n",
    "y7 = np.array([864, 823, 1])\n",
    "y8 = np.array([956, 702, 1])\n",
    "y9 = np.array([296, 74, 1])\n",
    "y10 = np.array([252,  119,  1])\n",
    "y11 = np.array([371,  137,  1])\n",
    "y12 = np.array([414,  88,  1])\n",
    "y14 = np.array([287,  324,  1]) \n",
    "y15 = np.array([397,  342,  1])\n",
    "y16 = np.array([433,  288,  1])\n",
    "y18 = np.array([135,  319,  1])\n",
    "y19 = np.array([527,  529,  1])\n",
    "y20 = np.array([744,  348,  1])\n",
    "y22 = np.array([162,  425,  1])\n",
    "y23 = np.array([538,  642,  1])\n",
    "y24 = np.array([733,  454,  1])"
   ]
  },
  {
   "cell_type": "markdown",
   "metadata": {},
   "source": [
    "# Tacke na osnovu kojih odredjujemo FF"
   ]
  },
  {
   "cell_type": "code",
   "execution_count": 4,
   "metadata": {},
   "outputs": [],
   "source": [
    "xx = np.array([x1, x2, x3, x4, x6, x7, x9, x10])\n",
    "yy = np.array([y1, y2, y3, y4, y6, y7, y9, y10])"
   ]
  },
  {
   "cell_type": "markdown",
   "metadata": {},
   "source": [
    "# Jednacina y^T * F * x = 0"
   ]
  },
  {
   "cell_type": "code",
   "execution_count": 5,
   "metadata": {},
   "outputs": [],
   "source": [
    "def jed(x, y):\n",
    "    a1 = x[0]\n",
    "    a2 = x[1]\n",
    "    a3 = x[2]\n",
    "    b1 = y[0]\n",
    "    b2 = y[1]\n",
    "    b3 = y[2]\n",
    "    \n",
    "    return np.matrix([[a1*b1, a2*b1, a3*b1, a1*b2, a2*b2, a3*b2, a1*b3, a2*b3, a3*b3]])"
   ]
  },
  {
   "cell_type": "code",
   "execution_count": 6,
   "metadata": {},
   "outputs": [],
   "source": [
    "def MapThread1(jed, xx, yy):\n",
    "    matrix = jed(xx[0], yy[0])\n",
    "    n = len(xx)\n",
    "    for j in range(1, n):\n",
    "        pomocna = jed(xx[j], yy[j])\n",
    "        matrix = np.concatenate((matrix, pomocna), axis = 0)\n",
    "        \n",
    "    return matrix"
   ]
  },
  {
   "cell_type": "code",
   "execution_count": 7,
   "metadata": {},
   "outputs": [
    {
     "name": "stdout",
     "output_type": "stream",
     "text": [
      "[[743280 102144    912 362675  49840    445    815    112      1]\n",
      " [773024 132356    812 532168  91117    559    952    163      1]\n",
      " [905148 115668    918 602446  76986    611    986    126      1]\n",
      " [865956  81120   1014 419314  39280    491    854     80      1]\n",
      " [704836 276376    772 702097 275302    769    913    358      1]\n",
      " [820800 274752    864 781850 261714    823    950    318      1]\n",
      " [ 95312 102120    296  23828  25530     74    322    345      1]\n",
      " [114408  92736    252  54026  43792    119    454    368      1]]\n"
     ]
    }
   ],
   "source": [
    "jed8 = MapThread1(jed, xx, yy)\n",
    "print(jed8)"
   ]
  },
  {
   "cell_type": "markdown",
   "metadata": {},
   "source": [
    "# SVD dekompozicija matrice jednacina"
   ]
  },
  {
   "cell_type": "code",
   "execution_count": 8,
   "metadata": {},
   "outputs": [
    {
     "name": "stdout",
     "output_type": "stream",
     "text": [
      "[[-0.3299884   0.37196416 -0.30022714 -0.28160958 -0.18931914 -0.53531941\n",
      "   0.37886956 -0.34257741]\n",
      " [-0.38280847  0.12035227  0.14436208  0.38223353  0.2484914  -0.55442183\n",
      "  -0.28844419  0.4687201 ]\n",
      " [-0.43913347  0.24258799  0.34556743  0.46153521  0.12230182  0.3399582\n",
      "   0.05749368 -0.53108044]\n",
      " [-0.38006899  0.4984475  -0.12224282 -0.41009414 -0.05433882  0.47266244\n",
      "  -0.24749418  0.36927129]\n",
      " [-0.42028929 -0.55243306 -0.09693217 -0.36299363  0.17065106 -0.06387152\n",
      "  -0.47991407 -0.33689098]\n",
      " [-0.47470652 -0.47901402  0.0842886   0.05115302 -0.33664148  0.15262793\n",
      "   0.5256319   0.35009489]\n",
      " [-0.04426672 -0.03681334 -0.66710568  0.49810429 -0.45079541  0.0983959\n",
      "  -0.29614286 -0.05430015]\n",
      " [-0.05766954 -0.06218686 -0.5414173   0.10446403  0.73405319  0.17323856\n",
      "   0.33821873  0.07432363]]\n",
      "\n",
      "[[2.48309011e+06 0.00000000e+00 0.00000000e+00 0.00000000e+00\n",
      "  0.00000000e+00 0.00000000e+00 0.00000000e+00 0.00000000e+00]\n",
      " [0.00000000e+00 4.14532957e+05 0.00000000e+00 0.00000000e+00\n",
      "  0.00000000e+00 0.00000000e+00 0.00000000e+00 0.00000000e+00]\n",
      " [0.00000000e+00 0.00000000e+00 1.34998049e+05 0.00000000e+00\n",
      "  0.00000000e+00 0.00000000e+00 0.00000000e+00 0.00000000e+00]\n",
      " [0.00000000e+00 0.00000000e+00 0.00000000e+00 3.51987154e+04\n",
      "  0.00000000e+00 0.00000000e+00 0.00000000e+00 0.00000000e+00]\n",
      " [0.00000000e+00 0.00000000e+00 0.00000000e+00 0.00000000e+00\n",
      "  2.07305563e+02 0.00000000e+00 0.00000000e+00 0.00000000e+00]\n",
      " [0.00000000e+00 0.00000000e+00 0.00000000e+00 0.00000000e+00\n",
      "  0.00000000e+00 6.13505563e+01 0.00000000e+00 0.00000000e+00]\n",
      " [0.00000000e+00 0.00000000e+00 0.00000000e+00 0.00000000e+00\n",
      "  0.00000000e+00 0.00000000e+00 6.43300018e+00 0.00000000e+00]\n",
      " [0.00000000e+00 0.00000000e+00 0.00000000e+00 0.00000000e+00\n",
      "  0.00000000e+00 0.00000000e+00 0.00000000e+00 3.07686630e-01]]\n",
      "\n",
      "[[-7.91146828e-01]\n",
      " [ 5.48925006e-01]\n",
      " [-2.16947921e-01]\n",
      " [-1.60307894e-01]\n",
      " [-3.10120678e-04]\n",
      " [ 2.75080776e-04]\n",
      " [ 1.35003131e-03]\n",
      " [-1.00968094e-03]\n",
      " [-6.31881248e-06]]\n"
     ]
    }
   ],
   "source": [
    "# SingularValueDecomposition\n",
    "SVDjed8 =  linalg.svd(jed8)\n",
    "print(SVDjed8[0])\n",
    "print()\n",
    "print(np.diag(SVDjed8[1]))\n",
    "print()\n",
    "print(SVDjed8[2][:, 0])"
   ]
  },
  {
   "cell_type": "code",
   "execution_count": 9,
   "metadata": {},
   "outputs": [
    {
     "name": "stdout",
     "output_type": "stream",
     "text": [
      "[[-6.31881248e-06 -6.22650639e-06  1.89230982e-03  2.25207589e-07\n",
      "  -4.71362907e-06  7.91632362e-03 -7.11139610e-04 -1.63428346e-03\n",
      "   9.99965287e-01]]\n"
     ]
    }
   ],
   "source": [
    "# koeficijenti matrice\n",
    "Fvector = SVDjed8[2][-1]\n",
    "print(Fvector)\n"
   ]
  },
  {
   "cell_type": "code",
   "execution_count": 10,
   "metadata": {},
   "outputs": [
    {
     "name": "stdout",
     "output_type": "stream",
     "text": [
      "[[-6.31881248e-06 -6.22650639e-06  1.89230982e-03]\n",
      " [ 2.25207589e-07 -4.71362907e-06  7.91632362e-03]\n",
      " [-7.11139610e-04 -1.63428346e-03  9.99965287e-01]]\n"
     ]
    }
   ],
   "source": [
    "FF = Fvector.reshape(3,3)\n",
    "print(FF)"
   ]
  },
  {
   "cell_type": "markdown",
   "metadata": {},
   "source": [
    "# Provera da li je y^T * F * x = 0 za odgovarajuce tacke"
   ]
  },
  {
   "cell_type": "code",
   "execution_count": 11,
   "metadata": {},
   "outputs": [],
   "source": [
    "def test(x, y, FF):\n",
    "    pom = np.dot(np.dot(y, FF), x)\n",
    "    return pom[0, 0]"
   ]
  },
  {
   "cell_type": "code",
   "execution_count": 12,
   "metadata": {},
   "outputs": [],
   "source": [
    "def MapThread2(xx, yy, FF):\n",
    "    lista = []\n",
    "    for i in range(len(xx)):\n",
    "        element = test(xx[i], yy[i], FF)\n",
    "        lista.append(element)\n",
    "    return lista"
   ]
  },
  {
   "cell_type": "code",
   "execution_count": 13,
   "metadata": {},
   "outputs": [
    {
     "name": "stdout",
     "output_type": "stream",
     "text": [
      "[0.0, -1.865174681370263e-14, -4.263256414560601e-14, -3.197442310920451e-14, 5.1514348342607263e-14, 3.730349362740526e-14, -1.9539925233402755e-14, 6.661338147750939e-15]\n"
     ]
    }
   ],
   "source": [
    "# Provera je uspesna jer su sve dobijene vrednosti dovoljno bliske nuli.\n",
    "lista = MapThread2(xx,yy,FF)\n",
    "print(lista)"
   ]
  },
  {
   "cell_type": "code",
   "execution_count": 14,
   "metadata": {},
   "outputs": [
    {
     "name": "stdout",
     "output_type": "stream",
     "text": [
      "-2.2550803975367105e-11\n"
     ]
    }
   ],
   "source": [
    "print(linalg.det(FF))"
   ]
  },
  {
   "cell_type": "code",
   "execution_count": 15,
   "metadata": {},
   "outputs": [],
   "source": [
    "SVDFF = linalg.svd(FF)"
   ]
  },
  {
   "cell_type": "code",
   "execution_count": 16,
   "metadata": {},
   "outputs": [
    {
     "name": "stdout",
     "output_type": "stream",
     "text": [
      "[[-0.00189232  0.48837068 -0.87263423]\n",
      " [-0.00791632 -0.87261576 -0.48834318]\n",
      " [-0.99996687  0.00598395  0.00551737]]\n",
      "\n",
      "[[1.00000000e+00 0.00000000e+00 0.00000000e+00]\n",
      " [0.00000000e+00 1.15166748e-05 0.00000000e+00]\n",
      " [0.00000000e+00 0.00000000e+00 1.95810026e-06]]\n",
      "\n",
      "[[ 7.11126228e-04 -6.54517489e-01  7.56046527e-01]\n",
      " [ 1.63427842e-03 -7.56044948e-01 -6.54517659e-01]\n",
      " [-9.99998412e-01 -1.70103520e-03 -5.32020418e-04]]\n"
     ]
    }
   ],
   "source": [
    "print(SVDFF[0])\n",
    "print()\n",
    "print(np.diag(SVDFF[1]))\n",
    "print()\n",
    "print(np.transpose(SVDFF[2]))"
   ]
  },
  {
   "cell_type": "code",
   "execution_count": 17,
   "metadata": {},
   "outputs": [],
   "source": [
    "V = np.transpose(SVDFF[2])"
   ]
  },
  {
   "cell_type": "code",
   "execution_count": 18,
   "metadata": {},
   "outputs": [
    {
     "name": "stdout",
     "output_type": "stream",
     "text": [
      "[[ 7.56046527e-01 -6.54517659e-01 -5.32020418e-04]]\n"
     ]
    }
   ],
   "source": [
    "# Treca kolona matrice SVDFF[2] je trazeni epipol\n",
    "e1 = np.transpose(V[:, 2])\n",
    "print(e1)"
   ]
  },
  {
   "cell_type": "code",
   "execution_count": 19,
   "metadata": {},
   "outputs": [
    {
     "name": "stdout",
     "output_type": "stream",
     "text": [
      "[[-1.42108555e+03  1.23024914e+03  1.00000000e+00]]\n"
     ]
    }
   ],
   "source": [
    "# Afine koordinate epipola\n",
    "e1 = (1 / e1[0, 2]) * e1\n",
    "e1 = np.array(e1[0])\n",
    "print(e1)"
   ]
  },
  {
   "cell_type": "code",
   "execution_count": 20,
   "metadata": {},
   "outputs": [
    {
     "name": "stdout",
     "output_type": "stream",
     "text": [
      "[[-0.87263423 -0.48834318  0.00551737]]\n"
     ]
    }
   ],
   "source": [
    "# e2 je treca kolona matrice SVDFF[0]\n",
    "e2 = np.transpose(SVDFF[0][:, 2])\n",
    "print(e2)"
   ]
  },
  {
   "cell_type": "code",
   "execution_count": 21,
   "metadata": {},
   "outputs": [
    {
     "name": "stdout",
     "output_type": "stream",
     "text": [
      "[[-158.16133884  -88.51017907    1.        ]]\n"
     ]
    }
   ],
   "source": [
    "# Afine koordinate epipola e2\n",
    "e2 = (1 / e2[0, 2]) * e2\n",
    "e2 = np.array(e2[0])\n",
    "print(e2)"
   ]
  },
  {
   "cell_type": "code",
   "execution_count": 22,
   "metadata": {},
   "outputs": [
    {
     "name": "stdout",
     "output_type": "stream",
     "text": [
      "[[1.00000000e+00 0.00000000e+00 0.00000000e+00]\n",
      " [0.00000000e+00 1.15166748e-05 0.00000000e+00]\n",
      " [0.00000000e+00 0.00000000e+00 0.00000000e+00]]\n"
     ]
    }
   ],
   "source": [
    "# Postizanje uslova Det(FF) = 0\n",
    "DD1 = np.diag([1, 1, 0]) * SVDFF[1]\n",
    "print(DD1)"
   ]
  },
  {
   "cell_type": "code",
   "execution_count": 23,
   "metadata": {},
   "outputs": [
    {
     "name": "stdout",
     "output_type": "stream",
     "text": [
      "FF:\n",
      "[[-6.31881248e-06 -6.22650639e-06  1.89230982e-03]\n",
      " [ 2.25207589e-07 -4.71362907e-06  7.91632362e-03]\n",
      " [-7.11139610e-04 -1.63428346e-03  9.99965287e-01]]\n",
      "\n",
      "FF1:\n",
      "[[-5.02695177e-06 -7.34488419e-06  1.89230891e-03]\n",
      " [ 9.48158114e-07 -5.33949517e-06  7.91632311e-03]\n",
      " [-7.11147778e-04 -1.63427639e-03  9.99965287e-01]]\n"
     ]
    }
   ],
   "source": [
    "FF1 = np.dot(np.dot(SVDFF[0], DD1), np.transpose(V))\n",
    "print('FF:')\n",
    "print(FF)\n",
    "print()\n",
    "print('FF1:')\n",
    "print(FF1)"
   ]
  },
  {
   "cell_type": "code",
   "execution_count": 24,
   "metadata": {},
   "outputs": [
    {
     "name": "stdout",
     "output_type": "stream",
     "text": [
      "Determinanta od FF\n",
      "-2.2550803975367105e-11\n",
      "\n",
      "Determinanta od FF1\n",
      "4.7656222426583334e-27\n"
     ]
    }
   ],
   "source": [
    "print('Determinanta od FF')\n",
    "print(linalg.det(FF))\n",
    "print()\n",
    "# Determinanta FF1 se opet razlikuje ali opet ide u 0\n",
    "print('Determinanta od FF1')\n",
    "print(linalg.det(FF1))\n",
    "# Nadalje cemo koristiti FF1"
   ]
  },
  {
   "cell_type": "markdown",
   "metadata": {},
   "source": [
    "# Rekonstrukcija skrivenih tacaka"
   ]
  },
  {
   "cell_type": "code",
   "execution_count": 25,
   "metadata": {},
   "outputs": [
    {
     "data": {
      "text/plain": [
       "array([829., 264.,   1.])"
      ]
     },
     "execution_count": 25,
     "metadata": {},
     "output_type": "execute_result"
    }
   ],
   "source": [
    "x8 = np.cross(np.cross(np.cross(np.cross(x1, x5), np.cross(x7, x3)), x4), np.cross(np.cross(np.cross(x4, x1), np.cross(x2, x3)), x5))\n",
    "x8 = x8 / x8[2]\n",
    "x8.round()"
   ]
  },
  {
   "cell_type": "code",
   "execution_count": 26,
   "metadata": {},
   "outputs": [
    {
     "data": {
      "text/plain": [
       "array([419., 459.,   1.])"
      ]
     },
     "execution_count": 26,
     "metadata": {},
     "output_type": "execute_result"
    }
   ],
   "source": [
    "x16 = np.cross(np.cross(np.cross(np.cross(x9, x13), np.cross(x15, x11)), x12), np.cross(np.cross(np.cross(x12, x9), np.cross(x10, x11)), x13))\n",
    "x16 = x16 / x16[2]\n",
    "x16.round()"
   ]
  },
  {
   "cell_type": "code",
   "execution_count": 27,
   "metadata": {},
   "outputs": [
    {
     "data": {
      "text/plain": [
       "array([555., 352.,   1.])"
      ]
     },
     "execution_count": 27,
     "metadata": {},
     "output_type": "execute_result"
    }
   ],
   "source": [
    "x24 = np.cross(np.cross(np.cross(np.cross(x17, x21), np.cross(x23, x19)), x20), np.cross(np.cross(np.cross(x20, x17), np.cross(x18, x19)), x21))\n",
    "x24 = x24 / x24[2]\n",
    "x24.round()"
   ]
  },
  {
   "cell_type": "code",
   "execution_count": 28,
   "metadata": {},
   "outputs": [
    {
     "data": {
      "text/plain": [
       "array([865., 656.,   1.])"
      ]
     },
     "execution_count": 28,
     "metadata": {},
     "output_type": "execute_result"
    }
   ],
   "source": [
    "y5 = np.cross(np.cross(np.cross(np.cross(y4, y8), np.cross(y6, y2)), y1), np.cross(np.cross(np.cross(y4, y1), np.cross(y2, y3)), y8))\n",
    "y5 = y5 / y5[2]\n",
    "y5.round()"
   ]
  },
  {
   "cell_type": "code",
   "execution_count": 29,
   "metadata": {},
   "outputs": [
    {
     "data": {
      "text/plain": [
       "array([324., 262.,   1.])"
      ]
     },
     "execution_count": 29,
     "metadata": {},
     "output_type": "execute_result"
    }
   ],
   "source": [
    "y13 = np.cross(np.cross(np.cross(np.cross(y12, y16), np.cross(y14, y10)), y9), np.cross(np.cross(np.cross(y12, y9), np.cross(y10, y11)), y16))\n",
    "y13 = y13 / y13[2]\n",
    "y13.round()"
   ]
  },
  {
   "cell_type": "code",
   "execution_count": 30,
   "metadata": {},
   "outputs": [
    {
     "data": {
      "text/plain": [
       "array([403., 299.,   1.])"
      ]
     },
     "execution_count": 30,
     "metadata": {},
     "output_type": "execute_result"
    }
   ],
   "source": [
    "y17 = np.cross(np.cross(np.cross(np.cross(y19, y18), np.cross(y23, y22)), y24), np.cross(np.cross(np.cross(y20, y19), np.cross(y23, y24)), y22))\n",
    "y17 = y17 / y17[2]\n",
    "y17.round()"
   ]
  },
  {
   "cell_type": "code",
   "execution_count": 31,
   "metadata": {},
   "outputs": [
    {
     "data": {
      "text/plain": [
       "array([409., 361.,   1.])"
      ]
     },
     "execution_count": 31,
     "metadata": {},
     "output_type": "execute_result"
    }
   ],
   "source": [
    "y21 = np.cross(np.cross(np.cross(np.cross(y20, y24), np.cross(y22, y18)), y17), np.cross(np.cross(np.cross(y20, y17), np.cross(y18, y19)), y24))\n",
    "y21 = y21 / y21[2]\n",
    "y21.round()"
   ]
  },
  {
   "cell_type": "markdown",
   "metadata": {},
   "source": [
    "# Triangulacija"
   ]
  },
  {
   "cell_type": "code",
   "execution_count": 32,
   "metadata": {},
   "outputs": [
    {
     "data": {
      "text/plain": [
       "matrix([[1., 0., 0., 0.],\n",
       "        [0., 1., 0., 0.],\n",
       "        [0., 0., 1., 0.]])"
      ]
     },
     "execution_count": 32,
     "metadata": {},
     "output_type": "execute_result"
    }
   ],
   "source": [
    "eye = np.eye(3)\n",
    "rest = np.matrix([[0, 0, 0]])\n",
    "T1 = np.concatenate((eye, np.transpose(rest)), axis = 1)\n",
    "T1"
   ]
  },
  {
   "cell_type": "code",
   "execution_count": 33,
   "metadata": {},
   "outputs": [],
   "source": [
    "def vec(x):\n",
    "    p1 = x[0, 0]\n",
    "    p2 = x[0, 1]\n",
    "    p3 = x[0, 2]\n",
    "    matrix = np.matrix([[0, -p3, p2], [p3, 0, -p1], [-p2, p1, 0]])\n",
    "    return matrix"
   ]
  },
  {
   "cell_type": "code",
   "execution_count": 34,
   "metadata": {},
   "outputs": [
    {
     "name": "stdout",
     "output_type": "stream",
     "text": [
      "[[   0.           -1.          -88.51017907]\n",
      " [   1.            0.          158.16133884]\n",
      " [  88.51017907 -158.16133884    0.        ]]\n"
     ]
    },
    {
     "data": {
      "text/plain": [
       "array([[-158.16133884,  -88.51017907,    1.        ]])"
      ]
     },
     "execution_count": 34,
     "metadata": {},
     "output_type": "execute_result"
    }
   ],
   "source": [
    "E2 = vec(e2)\n",
    "print(E2)\n",
    "e2"
   ]
  },
  {
   "cell_type": "code",
   "execution_count": 35,
   "metadata": {},
   "outputs": [
    {
     "name": "stdout",
     "output_type": "stream",
     "text": [
      "[[ 6.29428690e-02  1.44655435e-01 -8.85150229e+01]\n",
      " [-1.12481112e-01 -2.58486687e-01  1.58157741e+02]\n",
      " [-5.94898358e-04  1.94404689e-04 -1.08456766e+00]]\n",
      "\n",
      "[[ 6.29428690e-02  1.44655435e-01 -8.85150229e+01 -1.58161339e+02]\n",
      " [-1.12481112e-01 -2.58486687e-01  1.58157741e+02 -8.85101791e+01]\n",
      " [-5.94898358e-04  1.94404689e-04 -1.08456766e+00  1.00000000e+00]]\n"
     ]
    }
   ],
   "source": [
    "firstPart = E2 * FF1\n",
    "print(firstPart)\n",
    "print()\n",
    "T2 = np.concatenate((firstPart, np.transpose(e2)), axis = 1)\n",
    "print(T2)"
   ]
  },
  {
   "cell_type": "code",
   "execution_count": 36,
   "metadata": {},
   "outputs": [
    {
     "name": "stdout",
     "output_type": "stream",
     "text": [
      "[[ 0.00000000e+00 -1.00000000e+00  1.12000000e+02  0.00000000e+00]\n",
      " [ 1.00000000e+00  0.00000000e+00 -8.15000000e+02  0.00000000e+00]\n",
      " [-1.52248658e-01  3.44996774e-01 -6.40790350e+02  5.33510179e+02]\n",
      " [ 6.05490172e-01 -3.26416410e-02  9.00610684e+02 -1.07016134e+03]]\n"
     ]
    }
   ],
   "source": [
    "def jednacine(x, y, T1, T2):\n",
    "    niz = np.array([x[1] * T1[2] - x[2] * T1[1], -x[0] * T1[2] + x[2] * T1[0], y[1] * T2[2] - y[2] * T2[1], -y[0] * T2[2] + y[2] * T2[0]])\n",
    "    return np.matrix(niz)\n",
    "\n",
    "print(jednacine(x1, y1, T1, T2))"
   ]
  },
  {
   "cell_type": "code",
   "execution_count": 37,
   "metadata": {},
   "outputs": [],
   "source": [
    "def uAfine(x):\n",
    "    x = x / x[3]\n",
    "    return x[:-1]"
   ]
  },
  {
   "cell_type": "code",
   "execution_count": 38,
   "metadata": {},
   "outputs": [
    {
     "name": "stdout",
     "output_type": "stream",
     "text": [
      "[[-0.04967487  0.12366959  0.94978113 -0.2831149 ]\n",
      " [ 0.3614727  -0.89991811  0.18385317  0.16025883]\n",
      " [ 0.48214902 -0.0033346  -0.22660808 -0.84626827]\n",
      " [-0.7964937  -0.41814126 -0.11297166 -0.42189226]]\n",
      "\n",
      "[[1.72936482e+03 0.00000000e+00 0.00000000e+00 0.00000000e+00]\n",
      " [0.00000000e+00 5.81083493e+02 0.00000000e+00 0.00000000e+00]\n",
      " [0.00000000e+00 0.00000000e+00 1.03519062e+00 0.00000000e+00]\n",
      " [0.00000000e+00 0.00000000e+00 0.00000000e+00 3.40091807e-02]]\n",
      "\n",
      "[[-1.12297269e-04 -1.98352019e-03  1.44853245e-01  9.89451156e-01]\n",
      " [ 1.39943626e-04 -1.91317083e-04 -9.89453134e-01  1.44853167e-01]\n",
      " [-7.67016303e-01  6.41626472e-01 -5.57912086e-05  1.20736305e-03]\n",
      " [ 6.41627585e-01  7.67014667e-01  1.74464938e-04  1.58488904e-03]]\n"
     ]
    }
   ],
   "source": [
    "pom = linalg.svd(jednacine(x1, y1, T1, T2))\n",
    "\n",
    "print(pom[0])\n",
    "print()\n",
    "print(np.diag(pom[1]))\n",
    "print()\n",
    "print(pom[2].T)"
   ]
  },
  {
   "cell_type": "code",
   "execution_count": 39,
   "metadata": {},
   "outputs": [
    {
     "name": "stdout",
     "output_type": "stream",
     "text": [
      "[[0.98945116 0.14485317 0.00120736 0.00158489]]\n"
     ]
    }
   ],
   "source": [
    "print(linalg.svd(jednacine(x1, y1, T1, T2))[2][3])"
   ]
  },
  {
   "cell_type": "code",
   "execution_count": 40,
   "metadata": {},
   "outputs": [],
   "source": [
    "def TriD(x, y, T1, T2):\n",
    "    mat = np.transpose(linalg.svd(jednacine(x, y, T1, T2))[2][3])\n",
    "    niz = np.array(mat)\n",
    "    return uAfine(niz)"
   ]
  },
  {
   "cell_type": "code",
   "execution_count": 41,
   "metadata": {},
   "outputs": [
    {
     "name": "stdout",
     "output_type": "stream",
     "text": [
      "[[698.42087384]\n",
      " [125.65104115]\n",
      " [  0.73010438]]\n"
     ]
    }
   ],
   "source": [
    "print(TriD(x2, y2, T1, T2))"
   ]
  },
  {
   "cell_type": "code",
   "execution_count": 42,
   "metadata": {},
   "outputs": [],
   "source": [
    "slika1 = np.array([x1, x2, x3, x4, x5, x6, x7, x8, x9, x10, x11, x12, x13, x14, x15, x16, x17, x18, x19, x20, x21, x22, x23, x24])\n",
    "slika2 = np.array([y1, y2, y3, y4, y5, y6, y7, y8, y9, y10, y11, y12, y13, y14, y15, y16, y17, y18, y19, y20, y21, y22, y23, y24])"
   ]
  },
  {
   "cell_type": "markdown",
   "metadata": {},
   "source": [
    "# Rekonstrukcija 3D koordinata tacaka"
   ]
  },
  {
   "cell_type": "code",
   "execution_count": 43,
   "metadata": {},
   "outputs": [],
   "source": [
    "def MapThread3(TriD, xx, yy):\n",
    "    rekonstruisane = []\n",
    "    for i in range(len(slika1)):\n",
    "        tmp = TriD(slika1[i], slika2[i], T1, T2)\n",
    "        rekonstruisane.append(tmp)\n",
    "        print(tmp)\n",
    "    return rekonstruisane"
   ]
  },
  {
   "cell_type": "code",
   "execution_count": 44,
   "metadata": {},
   "outputs": [
    {
     "name": "stdout",
     "output_type": "stream",
     "text": [
      "[[624.3031101 ]\n",
      " [ 91.39640931]\n",
      " [  0.76179658]]\n",
      "[[698.42087384]\n",
      " [125.65104115]\n",
      " [  0.73010438]]\n",
      "[[699.8518311 ]\n",
      " [ 96.00612343]\n",
      " [  0.70606592]]\n",
      "[[632.54398356]\n",
      " [ 65.38662527]\n",
      " [  0.73629412]]\n",
      "[[618.87208036]\n",
      " [240.95569856]\n",
      " [  0.77970102]]\n",
      "[[686.94575264]\n",
      " [273.61456924]\n",
      " [  0.75016987]]\n",
      "[[692.20557801]\n",
      " [236.49170595]\n",
      " [  0.72617012]]\n",
      "[[627.96182666]\n",
      " [204.47081883]\n",
      " [  0.7547389 ]]\n",
      "[[430.50815639]\n",
      " [461.36856619]\n",
      " [  1.33660153]]\n",
      "[[585.35035587]\n",
      " [475.33341008]\n",
      " [  1.28790278]]\n",
      "[[560.55994893]\n",
      " [301.47056109]\n",
      " [  1.09862275]]\n",
      "[[446.17433013]\n",
      " [286.81241322]\n",
      " [  1.14625971]]\n",
      "[[439.77524185]\n",
      " [673.48815206]\n",
      " [  1.20985886]]\n",
      "[[549.18497148]\n",
      " [669.0716296 ]\n",
      " [  1.14843592]]\n",
      "[[546.16078754]\n",
      " [505.54150036]\n",
      " [  1.03729164]]\n",
      "[[454.95965164]\n",
      " [499.08435899]\n",
      " [  1.08385044]]\n",
      "[[178.65697053]\n",
      " [714.76276702]\n",
      " [  1.28444483]]\n",
      "[[ 603.29487405]\n",
      " [1058.04191979]\n",
      " [   1.38988159]]\n",
      "[[683.06735647]\n",
      " [325.40552906]\n",
      " [  0.83339114]]\n",
      "[[495.24163311]\n",
      " [230.41768753]\n",
      " [  0.89683674]]\n",
      "[[219.57534903]\n",
      " [827.11262144]\n",
      " [  1.26487821]]\n",
      "[[ 582.42512735]\n",
      " [1113.32516403]\n",
      " [   1.29888483]]\n",
      "[[674.57043523]\n",
      " [411.79877411]\n",
      " [  0.83556007]]\n",
      "[[500.17713873]\n",
      " [319.73608944]\n",
      " [  0.89854065]]\n"
     ]
    }
   ],
   "source": [
    "rekonstruisane = MapThread3(TriD, slika1, slika2)"
   ]
  },
  {
   "cell_type": "code",
   "execution_count": 45,
   "metadata": {
    "scrolled": true
   },
   "outputs": [
    {
     "name": "stdout",
     "output_type": "stream",
     "text": [
      "Rekonstruisano400:\n",
      "[624.3031101   91.39640931 304.71863174]\n",
      "[698.42087384 125.65104115 292.0417527 ]\n",
      "[699.8518311   96.00612343 282.42636751]\n",
      "[632.54398356  65.38662527 294.51764811]\n",
      "[618.87208036 240.95569856 311.88040662]\n",
      "[686.94575264 273.61456924 300.06794875]\n",
      "[692.20557801 236.49170595 290.46804978]\n",
      "[627.96182666 204.47081883 301.89555959]\n",
      "[430.50815639 461.36856619 534.64061135]\n",
      "[585.35035587 475.33341008 515.16111331]\n",
      "[560.55994893 301.47056109 439.44909833]\n",
      "[446.17433013 286.81241322 458.50388498]\n",
      "[439.77524185 673.48815206 483.94354376]\n",
      "[549.18497148 669.0716296  459.37436864]\n",
      "[546.16078754 505.54150036 414.91665556]\n",
      "[454.95965164 499.08435899 433.54017551]\n",
      "[178.65697053 714.76276702 513.77793212]\n",
      "[ 603.29487405 1058.04191979  555.95263682]\n",
      "[683.06735647 325.40552906 333.35645436]\n",
      "[495.24163311 230.41768753 358.73469657]\n",
      "[219.57534903 827.11262144 505.95128504]\n",
      "[ 582.42512735 1113.32516403  519.55393324]\n",
      "[674.57043523 411.79877411 334.22402718]\n",
      "[500.17713873 319.73608944 359.4162598 ]\n"
     ]
    }
   ],
   "source": [
    "dig = np.eye(3)\n",
    "dig[2][2] = 400\n",
    "rekonstruisane400 = np.zeros((24, 3))\n",
    "print(\"Rekonstruisano400:\")\n",
    "for i in range(len(rekonstruisane)):\n",
    "    rekonstruisane400[i] = dig.dot(rekonstruisane[i][:,0])\n",
    "    print(rekonstruisane400[i])"
   ]
  },
  {
   "cell_type": "code",
   "execution_count": 46,
   "metadata": {},
   "outputs": [],
   "source": [
    "iviceKeks = np.array([[1, 2], [2, 3], [3, 4], [4, 1],\n",
    "                      [5, 6], [6, 7], [7, 8], [8, 5],\n",
    "                      [1, 5], [2, 6], [3, 7], [4, 8]])\n",
    "\n",
    "iviceCaj = np.array([[9, 10], [10, 11], [11, 12], [12,  9], \n",
    "                        [13, 14], [14, 15], [15, 16], [16, 13],\n",
    "                        [9, 13], [10, 14], [11, 15], [12, 16]])\n",
    "\n",
    "iviceModem = np.array([[17, 18], [18, 19], [19, 20], [20, 17], \n",
    "                        [21, 22], [22, 23], [23, 24], [24, 21],\n",
    "                        [17, 21], [18, 22], [19, 23], [20, 24]])"
   ]
  },
  {
   "cell_type": "code",
   "execution_count": 47,
   "metadata": {},
   "outputs": [
    {
     "data": {
      "application/javascript": [
       "/* Put everything inside the global mpl namespace */\n",
       "window.mpl = {};\n",
       "\n",
       "\n",
       "mpl.get_websocket_type = function() {\n",
       "    if (typeof(WebSocket) !== 'undefined') {\n",
       "        return WebSocket;\n",
       "    } else if (typeof(MozWebSocket) !== 'undefined') {\n",
       "        return MozWebSocket;\n",
       "    } else {\n",
       "        alert('Your browser does not have WebSocket support. ' +\n",
       "              'Please try Chrome, Safari or Firefox ≥ 6. ' +\n",
       "              'Firefox 4 and 5 are also supported but you ' +\n",
       "              'have to enable WebSockets in about:config.');\n",
       "    };\n",
       "}\n",
       "\n",
       "mpl.figure = function(figure_id, websocket, ondownload, parent_element) {\n",
       "    this.id = figure_id;\n",
       "\n",
       "    this.ws = websocket;\n",
       "\n",
       "    this.supports_binary = (this.ws.binaryType != undefined);\n",
       "\n",
       "    if (!this.supports_binary) {\n",
       "        var warnings = document.getElementById(\"mpl-warnings\");\n",
       "        if (warnings) {\n",
       "            warnings.style.display = 'block';\n",
       "            warnings.textContent = (\n",
       "                \"This browser does not support binary websocket messages. \" +\n",
       "                    \"Performance may be slow.\");\n",
       "        }\n",
       "    }\n",
       "\n",
       "    this.imageObj = new Image();\n",
       "\n",
       "    this.context = undefined;\n",
       "    this.message = undefined;\n",
       "    this.canvas = undefined;\n",
       "    this.rubberband_canvas = undefined;\n",
       "    this.rubberband_context = undefined;\n",
       "    this.format_dropdown = undefined;\n",
       "\n",
       "    this.image_mode = 'full';\n",
       "\n",
       "    this.root = $('<div/>');\n",
       "    this._root_extra_style(this.root)\n",
       "    this.root.attr('style', 'display: inline-block');\n",
       "\n",
       "    $(parent_element).append(this.root);\n",
       "\n",
       "    this._init_header(this);\n",
       "    this._init_canvas(this);\n",
       "    this._init_toolbar(this);\n",
       "\n",
       "    var fig = this;\n",
       "\n",
       "    this.waiting = false;\n",
       "\n",
       "    this.ws.onopen =  function () {\n",
       "            fig.send_message(\"supports_binary\", {value: fig.supports_binary});\n",
       "            fig.send_message(\"send_image_mode\", {});\n",
       "            if (mpl.ratio != 1) {\n",
       "                fig.send_message(\"set_dpi_ratio\", {'dpi_ratio': mpl.ratio});\n",
       "            }\n",
       "            fig.send_message(\"refresh\", {});\n",
       "        }\n",
       "\n",
       "    this.imageObj.onload = function() {\n",
       "            if (fig.image_mode == 'full') {\n",
       "                // Full images could contain transparency (where diff images\n",
       "                // almost always do), so we need to clear the canvas so that\n",
       "                // there is no ghosting.\n",
       "                fig.context.clearRect(0, 0, fig.canvas.width, fig.canvas.height);\n",
       "            }\n",
       "            fig.context.drawImage(fig.imageObj, 0, 0);\n",
       "        };\n",
       "\n",
       "    this.imageObj.onunload = function() {\n",
       "        fig.ws.close();\n",
       "    }\n",
       "\n",
       "    this.ws.onmessage = this._make_on_message_function(this);\n",
       "\n",
       "    this.ondownload = ondownload;\n",
       "}\n",
       "\n",
       "mpl.figure.prototype._init_header = function() {\n",
       "    var titlebar = $(\n",
       "        '<div class=\"ui-dialog-titlebar ui-widget-header ui-corner-all ' +\n",
       "        'ui-helper-clearfix\"/>');\n",
       "    var titletext = $(\n",
       "        '<div class=\"ui-dialog-title\" style=\"width: 100%; ' +\n",
       "        'text-align: center; padding: 3px;\"/>');\n",
       "    titlebar.append(titletext)\n",
       "    this.root.append(titlebar);\n",
       "    this.header = titletext[0];\n",
       "}\n",
       "\n",
       "\n",
       "\n",
       "mpl.figure.prototype._canvas_extra_style = function(canvas_div) {\n",
       "\n",
       "}\n",
       "\n",
       "\n",
       "mpl.figure.prototype._root_extra_style = function(canvas_div) {\n",
       "\n",
       "}\n",
       "\n",
       "mpl.figure.prototype._init_canvas = function() {\n",
       "    var fig = this;\n",
       "\n",
       "    var canvas_div = $('<div/>');\n",
       "\n",
       "    canvas_div.attr('style', 'position: relative; clear: both; outline: 0');\n",
       "\n",
       "    function canvas_keyboard_event(event) {\n",
       "        return fig.key_event(event, event['data']);\n",
       "    }\n",
       "\n",
       "    canvas_div.keydown('key_press', canvas_keyboard_event);\n",
       "    canvas_div.keyup('key_release', canvas_keyboard_event);\n",
       "    this.canvas_div = canvas_div\n",
       "    this._canvas_extra_style(canvas_div)\n",
       "    this.root.append(canvas_div);\n",
       "\n",
       "    var canvas = $('<canvas/>');\n",
       "    canvas.addClass('mpl-canvas');\n",
       "    canvas.attr('style', \"left: 0; top: 0; z-index: 0; outline: 0\")\n",
       "\n",
       "    this.canvas = canvas[0];\n",
       "    this.context = canvas[0].getContext(\"2d\");\n",
       "\n",
       "    var backingStore = this.context.backingStorePixelRatio ||\n",
       "\tthis.context.webkitBackingStorePixelRatio ||\n",
       "\tthis.context.mozBackingStorePixelRatio ||\n",
       "\tthis.context.msBackingStorePixelRatio ||\n",
       "\tthis.context.oBackingStorePixelRatio ||\n",
       "\tthis.context.backingStorePixelRatio || 1;\n",
       "\n",
       "    mpl.ratio = (window.devicePixelRatio || 1) / backingStore;\n",
       "\n",
       "    var rubberband = $('<canvas/>');\n",
       "    rubberband.attr('style', \"position: absolute; left: 0; top: 0; z-index: 1;\")\n",
       "\n",
       "    var pass_mouse_events = true;\n",
       "\n",
       "    canvas_div.resizable({\n",
       "        start: function(event, ui) {\n",
       "            pass_mouse_events = false;\n",
       "        },\n",
       "        resize: function(event, ui) {\n",
       "            fig.request_resize(ui.size.width, ui.size.height);\n",
       "        },\n",
       "        stop: function(event, ui) {\n",
       "            pass_mouse_events = true;\n",
       "            fig.request_resize(ui.size.width, ui.size.height);\n",
       "        },\n",
       "    });\n",
       "\n",
       "    function mouse_event_fn(event) {\n",
       "        if (pass_mouse_events)\n",
       "            return fig.mouse_event(event, event['data']);\n",
       "    }\n",
       "\n",
       "    rubberband.mousedown('button_press', mouse_event_fn);\n",
       "    rubberband.mouseup('button_release', mouse_event_fn);\n",
       "    // Throttle sequential mouse events to 1 every 20ms.\n",
       "    rubberband.mousemove('motion_notify', mouse_event_fn);\n",
       "\n",
       "    rubberband.mouseenter('figure_enter', mouse_event_fn);\n",
       "    rubberband.mouseleave('figure_leave', mouse_event_fn);\n",
       "\n",
       "    canvas_div.on(\"wheel\", function (event) {\n",
       "        event = event.originalEvent;\n",
       "        event['data'] = 'scroll'\n",
       "        if (event.deltaY < 0) {\n",
       "            event.step = 1;\n",
       "        } else {\n",
       "            event.step = -1;\n",
       "        }\n",
       "        mouse_event_fn(event);\n",
       "    });\n",
       "\n",
       "    canvas_div.append(canvas);\n",
       "    canvas_div.append(rubberband);\n",
       "\n",
       "    this.rubberband = rubberband;\n",
       "    this.rubberband_canvas = rubberband[0];\n",
       "    this.rubberband_context = rubberband[0].getContext(\"2d\");\n",
       "    this.rubberband_context.strokeStyle = \"#000000\";\n",
       "\n",
       "    this._resize_canvas = function(width, height) {\n",
       "        // Keep the size of the canvas, canvas container, and rubber band\n",
       "        // canvas in synch.\n",
       "        canvas_div.css('width', width)\n",
       "        canvas_div.css('height', height)\n",
       "\n",
       "        canvas.attr('width', width * mpl.ratio);\n",
       "        canvas.attr('height', height * mpl.ratio);\n",
       "        canvas.attr('style', 'width: ' + width + 'px; height: ' + height + 'px;');\n",
       "\n",
       "        rubberband.attr('width', width);\n",
       "        rubberband.attr('height', height);\n",
       "    }\n",
       "\n",
       "    // Set the figure to an initial 600x600px, this will subsequently be updated\n",
       "    // upon first draw.\n",
       "    this._resize_canvas(600, 600);\n",
       "\n",
       "    // Disable right mouse context menu.\n",
       "    $(this.rubberband_canvas).bind(\"contextmenu\",function(e){\n",
       "        return false;\n",
       "    });\n",
       "\n",
       "    function set_focus () {\n",
       "        canvas.focus();\n",
       "        canvas_div.focus();\n",
       "    }\n",
       "\n",
       "    window.setTimeout(set_focus, 100);\n",
       "}\n",
       "\n",
       "mpl.figure.prototype._init_toolbar = function() {\n",
       "    var fig = this;\n",
       "\n",
       "    var nav_element = $('<div/>');\n",
       "    nav_element.attr('style', 'width: 100%');\n",
       "    this.root.append(nav_element);\n",
       "\n",
       "    // Define a callback function for later on.\n",
       "    function toolbar_event(event) {\n",
       "        return fig.toolbar_button_onclick(event['data']);\n",
       "    }\n",
       "    function toolbar_mouse_event(event) {\n",
       "        return fig.toolbar_button_onmouseover(event['data']);\n",
       "    }\n",
       "\n",
       "    for(var toolbar_ind in mpl.toolbar_items) {\n",
       "        var name = mpl.toolbar_items[toolbar_ind][0];\n",
       "        var tooltip = mpl.toolbar_items[toolbar_ind][1];\n",
       "        var image = mpl.toolbar_items[toolbar_ind][2];\n",
       "        var method_name = mpl.toolbar_items[toolbar_ind][3];\n",
       "\n",
       "        if (!name) {\n",
       "            // put a spacer in here.\n",
       "            continue;\n",
       "        }\n",
       "        var button = $('<button/>');\n",
       "        button.addClass('ui-button ui-widget ui-state-default ui-corner-all ' +\n",
       "                        'ui-button-icon-only');\n",
       "        button.attr('role', 'button');\n",
       "        button.attr('aria-disabled', 'false');\n",
       "        button.click(method_name, toolbar_event);\n",
       "        button.mouseover(tooltip, toolbar_mouse_event);\n",
       "\n",
       "        var icon_img = $('<span/>');\n",
       "        icon_img.addClass('ui-button-icon-primary ui-icon');\n",
       "        icon_img.addClass(image);\n",
       "        icon_img.addClass('ui-corner-all');\n",
       "\n",
       "        var tooltip_span = $('<span/>');\n",
       "        tooltip_span.addClass('ui-button-text');\n",
       "        tooltip_span.html(tooltip);\n",
       "\n",
       "        button.append(icon_img);\n",
       "        button.append(tooltip_span);\n",
       "\n",
       "        nav_element.append(button);\n",
       "    }\n",
       "\n",
       "    var fmt_picker_span = $('<span/>');\n",
       "\n",
       "    var fmt_picker = $('<select/>');\n",
       "    fmt_picker.addClass('mpl-toolbar-option ui-widget ui-widget-content');\n",
       "    fmt_picker_span.append(fmt_picker);\n",
       "    nav_element.append(fmt_picker_span);\n",
       "    this.format_dropdown = fmt_picker[0];\n",
       "\n",
       "    for (var ind in mpl.extensions) {\n",
       "        var fmt = mpl.extensions[ind];\n",
       "        var option = $(\n",
       "            '<option/>', {selected: fmt === mpl.default_extension}).html(fmt);\n",
       "        fmt_picker.append(option);\n",
       "    }\n",
       "\n",
       "    // Add hover states to the ui-buttons\n",
       "    $( \".ui-button\" ).hover(\n",
       "        function() { $(this).addClass(\"ui-state-hover\");},\n",
       "        function() { $(this).removeClass(\"ui-state-hover\");}\n",
       "    );\n",
       "\n",
       "    var status_bar = $('<span class=\"mpl-message\"/>');\n",
       "    nav_element.append(status_bar);\n",
       "    this.message = status_bar[0];\n",
       "}\n",
       "\n",
       "mpl.figure.prototype.request_resize = function(x_pixels, y_pixels) {\n",
       "    // Request matplotlib to resize the figure. Matplotlib will then trigger a resize in the client,\n",
       "    // which will in turn request a refresh of the image.\n",
       "    this.send_message('resize', {'width': x_pixels, 'height': y_pixels});\n",
       "}\n",
       "\n",
       "mpl.figure.prototype.send_message = function(type, properties) {\n",
       "    properties['type'] = type;\n",
       "    properties['figure_id'] = this.id;\n",
       "    this.ws.send(JSON.stringify(properties));\n",
       "}\n",
       "\n",
       "mpl.figure.prototype.send_draw_message = function() {\n",
       "    if (!this.waiting) {\n",
       "        this.waiting = true;\n",
       "        this.ws.send(JSON.stringify({type: \"draw\", figure_id: this.id}));\n",
       "    }\n",
       "}\n",
       "\n",
       "\n",
       "mpl.figure.prototype.handle_save = function(fig, msg) {\n",
       "    var format_dropdown = fig.format_dropdown;\n",
       "    var format = format_dropdown.options[format_dropdown.selectedIndex].value;\n",
       "    fig.ondownload(fig, format);\n",
       "}\n",
       "\n",
       "\n",
       "mpl.figure.prototype.handle_resize = function(fig, msg) {\n",
       "    var size = msg['size'];\n",
       "    if (size[0] != fig.canvas.width || size[1] != fig.canvas.height) {\n",
       "        fig._resize_canvas(size[0], size[1]);\n",
       "        fig.send_message(\"refresh\", {});\n",
       "    };\n",
       "}\n",
       "\n",
       "mpl.figure.prototype.handle_rubberband = function(fig, msg) {\n",
       "    var x0 = msg['x0'] / mpl.ratio;\n",
       "    var y0 = (fig.canvas.height - msg['y0']) / mpl.ratio;\n",
       "    var x1 = msg['x1'] / mpl.ratio;\n",
       "    var y1 = (fig.canvas.height - msg['y1']) / mpl.ratio;\n",
       "    x0 = Math.floor(x0) + 0.5;\n",
       "    y0 = Math.floor(y0) + 0.5;\n",
       "    x1 = Math.floor(x1) + 0.5;\n",
       "    y1 = Math.floor(y1) + 0.5;\n",
       "    var min_x = Math.min(x0, x1);\n",
       "    var min_y = Math.min(y0, y1);\n",
       "    var width = Math.abs(x1 - x0);\n",
       "    var height = Math.abs(y1 - y0);\n",
       "\n",
       "    fig.rubberband_context.clearRect(\n",
       "        0, 0, fig.canvas.width / mpl.ratio, fig.canvas.height / mpl.ratio);\n",
       "\n",
       "    fig.rubberband_context.strokeRect(min_x, min_y, width, height);\n",
       "}\n",
       "\n",
       "mpl.figure.prototype.handle_figure_label = function(fig, msg) {\n",
       "    // Updates the figure title.\n",
       "    fig.header.textContent = msg['label'];\n",
       "}\n",
       "\n",
       "mpl.figure.prototype.handle_cursor = function(fig, msg) {\n",
       "    var cursor = msg['cursor'];\n",
       "    switch(cursor)\n",
       "    {\n",
       "    case 0:\n",
       "        cursor = 'pointer';\n",
       "        break;\n",
       "    case 1:\n",
       "        cursor = 'default';\n",
       "        break;\n",
       "    case 2:\n",
       "        cursor = 'crosshair';\n",
       "        break;\n",
       "    case 3:\n",
       "        cursor = 'move';\n",
       "        break;\n",
       "    }\n",
       "    fig.rubberband_canvas.style.cursor = cursor;\n",
       "}\n",
       "\n",
       "mpl.figure.prototype.handle_message = function(fig, msg) {\n",
       "    fig.message.textContent = msg['message'];\n",
       "}\n",
       "\n",
       "mpl.figure.prototype.handle_draw = function(fig, msg) {\n",
       "    // Request the server to send over a new figure.\n",
       "    fig.send_draw_message();\n",
       "}\n",
       "\n",
       "mpl.figure.prototype.handle_image_mode = function(fig, msg) {\n",
       "    fig.image_mode = msg['mode'];\n",
       "}\n",
       "\n",
       "mpl.figure.prototype.updated_canvas_event = function() {\n",
       "    // Called whenever the canvas gets updated.\n",
       "    this.send_message(\"ack\", {});\n",
       "}\n",
       "\n",
       "// A function to construct a web socket function for onmessage handling.\n",
       "// Called in the figure constructor.\n",
       "mpl.figure.prototype._make_on_message_function = function(fig) {\n",
       "    return function socket_on_message(evt) {\n",
       "        if (evt.data instanceof Blob) {\n",
       "            /* FIXME: We get \"Resource interpreted as Image but\n",
       "             * transferred with MIME type text/plain:\" errors on\n",
       "             * Chrome.  But how to set the MIME type?  It doesn't seem\n",
       "             * to be part of the websocket stream */\n",
       "            evt.data.type = \"image/png\";\n",
       "\n",
       "            /* Free the memory for the previous frames */\n",
       "            if (fig.imageObj.src) {\n",
       "                (window.URL || window.webkitURL).revokeObjectURL(\n",
       "                    fig.imageObj.src);\n",
       "            }\n",
       "\n",
       "            fig.imageObj.src = (window.URL || window.webkitURL).createObjectURL(\n",
       "                evt.data);\n",
       "            fig.updated_canvas_event();\n",
       "            fig.waiting = false;\n",
       "            return;\n",
       "        }\n",
       "        else if (typeof evt.data === 'string' && evt.data.slice(0, 21) == \"data:image/png;base64\") {\n",
       "            fig.imageObj.src = evt.data;\n",
       "            fig.updated_canvas_event();\n",
       "            fig.waiting = false;\n",
       "            return;\n",
       "        }\n",
       "\n",
       "        var msg = JSON.parse(evt.data);\n",
       "        var msg_type = msg['type'];\n",
       "\n",
       "        // Call the  \"handle_{type}\" callback, which takes\n",
       "        // the figure and JSON message as its only arguments.\n",
       "        try {\n",
       "            var callback = fig[\"handle_\" + msg_type];\n",
       "        } catch (e) {\n",
       "            console.log(\"No handler for the '\" + msg_type + \"' message type: \", msg);\n",
       "            return;\n",
       "        }\n",
       "\n",
       "        if (callback) {\n",
       "            try {\n",
       "                // console.log(\"Handling '\" + msg_type + \"' message: \", msg);\n",
       "                callback(fig, msg);\n",
       "            } catch (e) {\n",
       "                console.log(\"Exception inside the 'handler_\" + msg_type + \"' callback:\", e, e.stack, msg);\n",
       "            }\n",
       "        }\n",
       "    };\n",
       "}\n",
       "\n",
       "// from http://stackoverflow.com/questions/1114465/getting-mouse-location-in-canvas\n",
       "mpl.findpos = function(e) {\n",
       "    //this section is from http://www.quirksmode.org/js/events_properties.html\n",
       "    var targ;\n",
       "    if (!e)\n",
       "        e = window.event;\n",
       "    if (e.target)\n",
       "        targ = e.target;\n",
       "    else if (e.srcElement)\n",
       "        targ = e.srcElement;\n",
       "    if (targ.nodeType == 3) // defeat Safari bug\n",
       "        targ = targ.parentNode;\n",
       "\n",
       "    // jQuery normalizes the pageX and pageY\n",
       "    // pageX,Y are the mouse positions relative to the document\n",
       "    // offset() returns the position of the element relative to the document\n",
       "    var x = e.pageX - $(targ).offset().left;\n",
       "    var y = e.pageY - $(targ).offset().top;\n",
       "\n",
       "    return {\"x\": x, \"y\": y};\n",
       "};\n",
       "\n",
       "/*\n",
       " * return a copy of an object with only non-object keys\n",
       " * we need this to avoid circular references\n",
       " * http://stackoverflow.com/a/24161582/3208463\n",
       " */\n",
       "function simpleKeys (original) {\n",
       "  return Object.keys(original).reduce(function (obj, key) {\n",
       "    if (typeof original[key] !== 'object')\n",
       "        obj[key] = original[key]\n",
       "    return obj;\n",
       "  }, {});\n",
       "}\n",
       "\n",
       "mpl.figure.prototype.mouse_event = function(event, name) {\n",
       "    var canvas_pos = mpl.findpos(event)\n",
       "\n",
       "    if (name === 'button_press')\n",
       "    {\n",
       "        this.canvas.focus();\n",
       "        this.canvas_div.focus();\n",
       "    }\n",
       "\n",
       "    var x = canvas_pos.x * mpl.ratio;\n",
       "    var y = canvas_pos.y * mpl.ratio;\n",
       "\n",
       "    this.send_message(name, {x: x, y: y, button: event.button,\n",
       "                             step: event.step,\n",
       "                             guiEvent: simpleKeys(event)});\n",
       "\n",
       "    /* This prevents the web browser from automatically changing to\n",
       "     * the text insertion cursor when the button is pressed.  We want\n",
       "     * to control all of the cursor setting manually through the\n",
       "     * 'cursor' event from matplotlib */\n",
       "    event.preventDefault();\n",
       "    return false;\n",
       "}\n",
       "\n",
       "mpl.figure.prototype._key_event_extra = function(event, name) {\n",
       "    // Handle any extra behaviour associated with a key event\n",
       "}\n",
       "\n",
       "mpl.figure.prototype.key_event = function(event, name) {\n",
       "\n",
       "    // Prevent repeat events\n",
       "    if (name == 'key_press')\n",
       "    {\n",
       "        if (event.which === this._key)\n",
       "            return;\n",
       "        else\n",
       "            this._key = event.which;\n",
       "    }\n",
       "    if (name == 'key_release')\n",
       "        this._key = null;\n",
       "\n",
       "    var value = '';\n",
       "    if (event.ctrlKey && event.which != 17)\n",
       "        value += \"ctrl+\";\n",
       "    if (event.altKey && event.which != 18)\n",
       "        value += \"alt+\";\n",
       "    if (event.shiftKey && event.which != 16)\n",
       "        value += \"shift+\";\n",
       "\n",
       "    value += 'k';\n",
       "    value += event.which.toString();\n",
       "\n",
       "    this._key_event_extra(event, name);\n",
       "\n",
       "    this.send_message(name, {key: value,\n",
       "                             guiEvent: simpleKeys(event)});\n",
       "    return false;\n",
       "}\n",
       "\n",
       "mpl.figure.prototype.toolbar_button_onclick = function(name) {\n",
       "    if (name == 'download') {\n",
       "        this.handle_save(this, null);\n",
       "    } else {\n",
       "        this.send_message(\"toolbar_button\", {name: name});\n",
       "    }\n",
       "};\n",
       "\n",
       "mpl.figure.prototype.toolbar_button_onmouseover = function(tooltip) {\n",
       "    this.message.textContent = tooltip;\n",
       "};\n",
       "mpl.toolbar_items = [[\"Home\", \"Reset original view\", \"fa fa-home icon-home\", \"home\"], [\"Back\", \"Back to previous view\", \"fa fa-arrow-left icon-arrow-left\", \"back\"], [\"Forward\", \"Forward to next view\", \"fa fa-arrow-right icon-arrow-right\", \"forward\"], [\"\", \"\", \"\", \"\"], [\"Pan\", \"Pan axes with left mouse, zoom with right\", \"fa fa-arrows icon-move\", \"pan\"], [\"Zoom\", \"Zoom to rectangle\", \"fa fa-square-o icon-check-empty\", \"zoom\"], [\"\", \"\", \"\", \"\"], [\"Download\", \"Download plot\", \"fa fa-floppy-o icon-save\", \"download\"]];\n",
       "\n",
       "mpl.extensions = [\"eps\", \"jpeg\", \"pdf\", \"png\", \"ps\", \"raw\", \"svg\", \"tif\"];\n",
       "\n",
       "mpl.default_extension = \"png\";var comm_websocket_adapter = function(comm) {\n",
       "    // Create a \"websocket\"-like object which calls the given IPython comm\n",
       "    // object with the appropriate methods. Currently this is a non binary\n",
       "    // socket, so there is still some room for performance tuning.\n",
       "    var ws = {};\n",
       "\n",
       "    ws.close = function() {\n",
       "        comm.close()\n",
       "    };\n",
       "    ws.send = function(m) {\n",
       "        //console.log('sending', m);\n",
       "        comm.send(m);\n",
       "    };\n",
       "    // Register the callback with on_msg.\n",
       "    comm.on_msg(function(msg) {\n",
       "        //console.log('receiving', msg['content']['data'], msg);\n",
       "        // Pass the mpl event to the overridden (by mpl) onmessage function.\n",
       "        ws.onmessage(msg['content']['data'])\n",
       "    });\n",
       "    return ws;\n",
       "}\n",
       "\n",
       "mpl.mpl_figure_comm = function(comm, msg) {\n",
       "    // This is the function which gets called when the mpl process\n",
       "    // starts-up an IPython Comm through the \"matplotlib\" channel.\n",
       "\n",
       "    var id = msg.content.data.id;\n",
       "    // Get hold of the div created by the display call when the Comm\n",
       "    // socket was opened in Python.\n",
       "    var element = $(\"#\" + id);\n",
       "    var ws_proxy = comm_websocket_adapter(comm)\n",
       "\n",
       "    function ondownload(figure, format) {\n",
       "        window.open(figure.imageObj.src);\n",
       "    }\n",
       "\n",
       "    var fig = new mpl.figure(id, ws_proxy,\n",
       "                           ondownload,\n",
       "                           element.get(0));\n",
       "\n",
       "    // Call onopen now - mpl needs it, as it is assuming we've passed it a real\n",
       "    // web socket which is closed, not our websocket->open comm proxy.\n",
       "    ws_proxy.onopen();\n",
       "\n",
       "    fig.parent_element = element.get(0);\n",
       "    fig.cell_info = mpl.find_output_cell(\"<div id='\" + id + \"'></div>\");\n",
       "    if (!fig.cell_info) {\n",
       "        console.error(\"Failed to find cell for figure\", id, fig);\n",
       "        return;\n",
       "    }\n",
       "\n",
       "    var output_index = fig.cell_info[2]\n",
       "    var cell = fig.cell_info[0];\n",
       "\n",
       "};\n",
       "\n",
       "mpl.figure.prototype.handle_close = function(fig, msg) {\n",
       "    var width = fig.canvas.width/mpl.ratio\n",
       "    fig.root.unbind('remove')\n",
       "\n",
       "    // Update the output cell to use the data from the current canvas.\n",
       "    fig.push_to_output();\n",
       "    var dataURL = fig.canvas.toDataURL();\n",
       "    // Re-enable the keyboard manager in IPython - without this line, in FF,\n",
       "    // the notebook keyboard shortcuts fail.\n",
       "    IPython.keyboard_manager.enable()\n",
       "    $(fig.parent_element).html('<img src=\"' + dataURL + '\" width=\"' + width + '\">');\n",
       "    fig.close_ws(fig, msg);\n",
       "}\n",
       "\n",
       "mpl.figure.prototype.close_ws = function(fig, msg){\n",
       "    fig.send_message('closing', msg);\n",
       "    // fig.ws.close()\n",
       "}\n",
       "\n",
       "mpl.figure.prototype.push_to_output = function(remove_interactive) {\n",
       "    // Turn the data on the canvas into data in the output cell.\n",
       "    var width = this.canvas.width/mpl.ratio\n",
       "    var dataURL = this.canvas.toDataURL();\n",
       "    this.cell_info[1]['text/html'] = '<img src=\"' + dataURL + '\" width=\"' + width + '\">';\n",
       "}\n",
       "\n",
       "mpl.figure.prototype.updated_canvas_event = function() {\n",
       "    // Tell IPython that the notebook contents must change.\n",
       "    IPython.notebook.set_dirty(true);\n",
       "    this.send_message(\"ack\", {});\n",
       "    var fig = this;\n",
       "    // Wait a second, then push the new image to the DOM so\n",
       "    // that it is saved nicely (might be nice to debounce this).\n",
       "    setTimeout(function () { fig.push_to_output() }, 1000);\n",
       "}\n",
       "\n",
       "mpl.figure.prototype._init_toolbar = function() {\n",
       "    var fig = this;\n",
       "\n",
       "    var nav_element = $('<div/>');\n",
       "    nav_element.attr('style', 'width: 100%');\n",
       "    this.root.append(nav_element);\n",
       "\n",
       "    // Define a callback function for later on.\n",
       "    function toolbar_event(event) {\n",
       "        return fig.toolbar_button_onclick(event['data']);\n",
       "    }\n",
       "    function toolbar_mouse_event(event) {\n",
       "        return fig.toolbar_button_onmouseover(event['data']);\n",
       "    }\n",
       "\n",
       "    for(var toolbar_ind in mpl.toolbar_items){\n",
       "        var name = mpl.toolbar_items[toolbar_ind][0];\n",
       "        var tooltip = mpl.toolbar_items[toolbar_ind][1];\n",
       "        var image = mpl.toolbar_items[toolbar_ind][2];\n",
       "        var method_name = mpl.toolbar_items[toolbar_ind][3];\n",
       "\n",
       "        if (!name) { continue; };\n",
       "\n",
       "        var button = $('<button class=\"btn btn-default\" href=\"#\" title=\"' + name + '\"><i class=\"fa ' + image + ' fa-lg\"></i></button>');\n",
       "        button.click(method_name, toolbar_event);\n",
       "        button.mouseover(tooltip, toolbar_mouse_event);\n",
       "        nav_element.append(button);\n",
       "    }\n",
       "\n",
       "    // Add the status bar.\n",
       "    var status_bar = $('<span class=\"mpl-message\" style=\"text-align:right; float: right;\"/>');\n",
       "    nav_element.append(status_bar);\n",
       "    this.message = status_bar[0];\n",
       "\n",
       "    // Add the close button to the window.\n",
       "    var buttongrp = $('<div class=\"btn-group inline pull-right\"></div>');\n",
       "    var button = $('<button class=\"btn btn-mini btn-primary\" href=\"#\" title=\"Stop Interaction\"><i class=\"fa fa-power-off icon-remove icon-large\"></i></button>');\n",
       "    button.click(function (evt) { fig.handle_close(fig, {}); } );\n",
       "    button.mouseover('Stop Interaction', toolbar_mouse_event);\n",
       "    buttongrp.append(button);\n",
       "    var titlebar = this.root.find($('.ui-dialog-titlebar'));\n",
       "    titlebar.prepend(buttongrp);\n",
       "}\n",
       "\n",
       "mpl.figure.prototype._root_extra_style = function(el){\n",
       "    var fig = this\n",
       "    el.on(\"remove\", function(){\n",
       "\tfig.close_ws(fig, {});\n",
       "    });\n",
       "}\n",
       "\n",
       "mpl.figure.prototype._canvas_extra_style = function(el){\n",
       "    // this is important to make the div 'focusable\n",
       "    el.attr('tabindex', 0)\n",
       "    // reach out to IPython and tell the keyboard manager to turn it's self\n",
       "    // off when our div gets focus\n",
       "\n",
       "    // location in version 3\n",
       "    if (IPython.notebook.keyboard_manager) {\n",
       "        IPython.notebook.keyboard_manager.register_events(el);\n",
       "    }\n",
       "    else {\n",
       "        // location in version 2\n",
       "        IPython.keyboard_manager.register_events(el);\n",
       "    }\n",
       "\n",
       "}\n",
       "\n",
       "mpl.figure.prototype._key_event_extra = function(event, name) {\n",
       "    var manager = IPython.notebook.keyboard_manager;\n",
       "    if (!manager)\n",
       "        manager = IPython.keyboard_manager;\n",
       "\n",
       "    // Check for shift+enter\n",
       "    if (event.shiftKey && event.which == 13) {\n",
       "        this.canvas_div.blur();\n",
       "        // select the cell after this one\n",
       "        var index = IPython.notebook.find_cell_index(this.cell_info[0]);\n",
       "        IPython.notebook.select(index + 1);\n",
       "    }\n",
       "}\n",
       "\n",
       "mpl.figure.prototype.handle_save = function(fig, msg) {\n",
       "    fig.ondownload(fig, null);\n",
       "}\n",
       "\n",
       "\n",
       "mpl.find_output_cell = function(html_output) {\n",
       "    // Return the cell and output element which can be found *uniquely* in the notebook.\n",
       "    // Note - this is a bit hacky, but it is done because the \"notebook_saving.Notebook\"\n",
       "    // IPython event is triggered only after the cells have been serialised, which for\n",
       "    // our purposes (turning an active figure into a static one), is too late.\n",
       "    var cells = IPython.notebook.get_cells();\n",
       "    var ncells = cells.length;\n",
       "    for (var i=0; i<ncells; i++) {\n",
       "        var cell = cells[i];\n",
       "        if (cell.cell_type === 'code'){\n",
       "            for (var j=0; j<cell.output_area.outputs.length; j++) {\n",
       "                var data = cell.output_area.outputs[j];\n",
       "                if (data.data) {\n",
       "                    // IPython >= 3 moved mimebundle to data attribute of output\n",
       "                    data = data.data;\n",
       "                }\n",
       "                if (data['text/html'] == html_output) {\n",
       "                    return [cell, data, j];\n",
       "                }\n",
       "            }\n",
       "        }\n",
       "    }\n",
       "}\n",
       "\n",
       "// Register the function which deals with the matplotlib target/channel.\n",
       "// The kernel may be null if the page has been refreshed.\n",
       "if (IPython.notebook.kernel != null) {\n",
       "    IPython.notebook.kernel.comm_manager.register_target('matplotlib', mpl.mpl_figure_comm);\n",
       "}\n"
      ],
      "text/plain": [
       "<IPython.core.display.Javascript object>"
      ]
     },
     "metadata": {},
     "output_type": "display_data"
    },
    {
     "data": {
      "text/html": [
       "<img src=\"data:image/png;base64,iVBORw0KGgoAAAANSUhEUgAAAsAAAAIQCAYAAACPEdjAAAAgAElEQVR4XuydB5RV1fXG95sODCqIJaDYG3axNxRssZfYE4NRE7tJjBCNf3tLomKNEXswscQaBRUFEbEAFrAgFkTBBoKgwPQ3779+Z+YMdy6v3Ppm3rx91prFDO+Wc757373f2efb306kUqmUaFMEFAFFQBFQBBQBRUARUASKBIGEEuAiudI6TEVAEVAEFAFFQBFQBBQBg4ASYL0RFAFFQBFQBBQBRUARUASKCgElwEV1uXWwioAioAgoAoqAIqAIKAJKgPUeUAQUAUVAEVAEFAFFQBEoKgSUABfV5dbBKgKKgCKgCCgCioAioAgoAdZ7QBFQBBQBRUARUAQUAUWgqBBQAlxUl1sHqwgoAoqAIqAIKAKKgCKgBFjvAUVAEVAEFAFFQBFQBBSBokJACXBRXW4drCKgCCgCioAioAgoAoqAEmC9BxQBRUARUAQUAUVAEVAEigoBJcBFdbl1sIqAIqAIKAKKgCKgCCgCSoD1HlAEFAFFQBFQBBQBRUARKCoElAAX1eXWwSoCioAioAgoAoqAIqAIKAHWe0ARUAQUAUVAEVAEFAFFoKgQUAJcVJdbB6sIKAKKgCKgCCgCioAioARY7wFFQBFQBBQBRUARUAQUgaJCQAlwUV1uHawioAgoAoqAIqAIKAKKgBJgvQcUAUVAEVAEFAFFQBFQBIoKASXARXW5dbCKgCKgCCgCioAioAgoAkqA9R5QBBQBRUARUAQUAUVAESgqBJQAF9Xl1sEqAoqAIqAIKAKKgCKgCCgB1ntAEVAEFAFFQBFQBBQBRaCoEFACXFSXWwerCCgCioAioAgoAoqAIqAEWO8BRUARUAQUAUVAEVAEFIGiQkAJcFFdbh2sIqAIKAKKgCKgCCgCioASYL0HFAFFQBFQBBQBRUARUASKCgElwEV1uXWwioAioAgoAoqAIqAIKAJKgPUeUAQUAUVAEVAEFAFFQBEoKgSUABfV5dbBKgKKgCKgCCgCioAioAgoAdZ7QBFQBBQBRUARUAQUAUWgqBBQAlxUl1sHqwgoAoqAIqAIKAKKgCKgBFjvAUVAEVAEFAFFQBFQBBSBokJACXBRXW4drCKgCCgCioAioAgoAoqAEmC9BxQBRUARUAQUAUVAEVAEigoBJcBFdbl1sIqAIqAIKAKKgCKgCCgCSoD1HlAEFAFFQBFQBBQBRUARKCoElAAX1eXWwSoCioAioAgoAoqAIqAIKAHWe0ARUAQUAUVAEVAEFAFFoKgQUAJcVJdbB6sIKAKKgCKgCCgCioAioARY7wFFQBFQBBQBRUARUAQUgaJCQAlwUV1uHawioAgoAoqAIqAIKAKKgBJgvQcUAUVAEVAEFAFFQBFQBIoKASXARXW5dbCKgCKgCCgCioAioAgoAkqA9R5QBBQBRUARUAQUAUVAESgqBJQAF9Xl1sEqAoqAIqAIKAKKgCKgCCgB1ntAEVAEFAFFQBFQBBQBRaCoEFACXFSXWwerCCgCioAioAgoAoqAIqAEWO8BRUARUAQUAUVAEVAEFIGiQkAJcFFdbh2sIqAIKAKKgCKgCCgCioASYL0HFAFFQBFQBBQBRUARUASKCgElwEV1uXWwioAioAgoAoqAIqAIKAJKgPUeUAQUAUVAEVAEFAFFQBEoKgSUABfV5dbBKgKKgCKgCCgCioAioAgoAdZ7QBFQBBQBRUARUAQUAUWgqBBQAlxUl1sHqwgoAoqAIqAIKAKKgCKgBFjvAUVAEVAEFAFFQBFQBBSBokJACXBRXW4drCKgCCgCioAioAgoAoqAEmC9BxQBRUARUAQUAUVAEVAEigoBJcBFdbl1sIqAIqAIKAKKgCKgCCgCSoD1HlAEFAFFQBFQBBQBRUARKCoElAAX1eXWwSoCioAioAgoAoqAIqAIKAHWe0ARUAQUAUVAEVAEFAFFoKgQUAJcVJdbB6sIKAKKgCKgCCgCioAioARY7wFFQBFQBBQBRUARUAQUgaJCQAlwUV1uHawioAgoAoqAIqAIKAKKgBJgvQcUAUVAEVAEFAFFQBFQBIoKASXARXW5dbCKgCKgCCgCioAioAgoAkqA9R5QBBQBRUARUAQUAUVAESgqBJQAF9Xl1sEqAoqAIqAIKAKKgCKgCCgB1ntAEVAEFAFFQBFQBBQBRaCoEFACXFSXWwerCCgCioAioAgoAoqAIqAEWO8BRUARUAQUAUVAEVAEFIGiQkAJcFFdbh2sIqAIKAKKgCKgCCgCioASYL0HFAFFQBFQBBQBRUARUASKCgElwEV1uXWwioAioAgoAoqAIqAIKAJKgPUeUAQUAUVAEVAEFAFFQBEoKgSUABfV5dbBKgKKgCKgCCgCioAioAgoAdZ7QBFQBBQBRUARUAQUAUWgqBBQAlxUl1sHqwgoAoqAIqAIKAKKgCKgBFjvAUVAEVAEFAFFQBFQBBSBokJACXBRXW4drCKgCCgCioAioAgoAoqAEmC9BxQBRUARUAQUAUVAEVAEigoBJcBFdbl1sIqAIqAIKAKKgCKgCCgCSoD1HlAEFAFFQBFQBBQBRUARKCoElAAX1eXWwSoCioAioAgoAoqAIqAIKAHWe0ARUAQUAUVAEVAEFAFFoKgQUAJcVJdbB6sIKAKKgCKgCCgCioAioARY7wFFQBFQBBQBRUARUAQUgaJCQAlwUV1uHawiUFwINDc3S2Njo/kpLy+XkpKStp9EIlFcYOhoFQFFQBFQBNoQUAKsN4MioAh0OQRSqZQ0NTWZn2QyKXV1dYb4Qnr54ffS0lLzY3+3n3c5MHRAioAioAgoAisgoARYbwpFQBHoMghAfCG8EF+iv5BdGwWG4PK588cO3JJfS4otMXaS5i4Dkg5EEVAEFAFFQJQA602gCCgCBY9AOuJro70Q4oaGBhPtdTf2o/EvRNn+zf/Z/dORYo0WF/wtowNQBBSBIkdACXCR3wA6fEWgkBGwxNVGfPnbTU75DA1wOgKcaezuSLElxiqhKOS7RfuuCCgCisByBJQA692gCCgCBYeAJagQWxu5zRSVDUKA0wGSjRQTYa6pqZHVVlutnbbYJt0VHMDaYUVAEVAEujgCSoC7+AXW4SkCXQ0BCK9NboOU2qhsJleHqAhwJlLM/8+bN08+++wz2Wmnndo2yyShIBJtP+tq10bHowgoAopAoSCgBLhQrpT2UxEocgQgu0R80fR6Ib4WrjgJsD3H999/LzNnzpQ99tjD/JdKKIr8ZtXhKwKKQKdHQAlwp79E2kFFoLgRyJbglgsZ9v32229l2bJlstJKK0nPnj2lrKws126+P3cT4EzR4nQuFM4IdqaEO98d0h0UAUVAEVAEsiKgBFhvEEVAEeiUCDiJrzsJzUuHf/jhB/n4449lyZIl0q1bN6PR5ThVVVWGCFdXV5t/+amoqDCyhKBtwYIFMmPGDNlzzz19HcKOy+qY3S4UVkPs9ixWCYUvmHVjRUARUARWQEAJsN4UioAi0KkQcDo7IHeg+bEdW7p0qXzyyScyf/58WWuttWS99dZr259IMISYbey/nIMqcZYQ23+7d+/umRQHJcCZgPcjoXB7Fneqi6mdUQQUAUWgkyKgBLiTXhjtliJQbAh4sTTLhkl9fb18+umn8vXXX0ufPn1k4403NtHdXD7AtbW17QgxxBhXB0g3ZNhJjPk9nZ3awoUL5cMPP/QdAfZzjXORYqLCKqHwg6huqwgoAsWMgBLgYr76OnZFoJMg4NfZwdltktxmz54tX3zxhfTo0UM22WQTWXXVVds2yUaAMw0fAuyOFCOhoBEZdkooIMVs+8EHH8igQYPyiqhXCQW6Z6ecQiUUeb1MejJFQBHohAgoAe6EF0W7pAgUCwJhiC/7fvXVV8Z+jMgnEd8111xzBdkCBBj3CAhgmMZxnNIJSC+SCvqBhIJzrLvuum0RY7TGYXTFYfqaLVrMcevq6sxkAe2zSijCIK37KgKKQKEioAS4UK+c9lsRKGAEbIIbUdUpU6bIwIEDTaKaF8LIvuh70fkSqd1ggw2kf//+GQluVAQ4HdyQXyQUOE3MmTNHevXqZaLBRKUhlu5IMaQzLBEPetktKQaPV199VbbZZhvTP3WhCIqo7qcIKAKFjIAS4EK+etp3RaDAEHA7O0BgJ0yYYPxzIYe52uLFi42zw48//ijrrLOOrL/++ib6mq0FkUDk6of780WLFsn06dNlr732Mk4T6JHd0WKirpBNxulOuIvDmi3TGCDtYL799tsbAkzL5UKhEgq/d4RurwgoAp0dASXAnf0Kaf8UgS6AQCZnByKl48aNk913392QwkwNqQERXyqu9e3bVzbaaCMTMfbS8kWAp02bJnvvvXfGLiGRgBQ7iTHjisuazQsBxhvZ3ayuOJtnMVHsdAl3XiL4Xq6ZbqMIKAKKQNwIKAGOG2E9viJQxAjkcnaAAL/00kuy6667mkIV7kYkddasWTJ37lzp3bu3SXBLt102iIlucpx07g1RXRoiwLkIcLpz0be4rNmCEuBM+3lxobCRYqsrtmWfo8JZj6MIKAKKQFQIKAGOCkk9jiKgCLRDwJ3gZrWvzigh24wdO1Z22WUXWXnlldv2J2qLq8Pnn39uXBcgvlibBWmcw9qaBdnfyz5IM9555x0ZPHiwl82zbgPRjMKaLdNJwPaVV16RHXbYoU0CEbTT6kIRFDndTxFQBDoaASXAHX0F9PyKQBdDwI+zAwTqhRdekJ122skkkPE3Pr74+UKUkTogeQiztJ4PAowm+e23346EAGe6Hfxas+HwkK5FSYDTHd8toQB/22zCnUooutiXXoejCBQgAkqAC/CiaZcVgc6IAMQHSQMEC9LjdBfI1l8IMAlZ7EOCG8liJLeR5BaFbCGfBBgNcBiy7ve6ZrNmq6ysXCHZDms28IgqAuynv7kkFE5S7PYs9nMe3VYRUAQUAS8IKAH2gpJuowgoAhkRcDs7sKGfQgsQYBLgSA7Dzgxbs0zRyyCXIR8a4J9++kneeustkwSXTwKcDg/Gi72c24XCWrOBNRFrSkQjK+kM1mxOcuyMFlsirC4UQe583UcRUASyIaAEWO8PRUARCISAJb5EIfnxGvG1J4OkIXXAQxf5w5Zbbmn0vlG3fBJgbNA6yuc3G25OazbI75dffmkmGcgqOoM1m7PvbgkFfWRysfXWW5v7g/6qhCLqb4keTxEoPgSUABffNdcRKwKhEMjl7JDr4BAanB1s4QgIGeRm9dVXz7VroM/zIYGg+MXUqVOND3BnJMBO4IgET5w4UXbccUdBJtEZrNmyXVjul0mTJhmdONZ37mhxOl2xSigCfVV0J0WgqBBQAlxUl1sHqwgER8ASD6vz5e90zg6ZzkCUmMgjzg5oUa2zw8svvywDBgwwZYzjaPkkwIMGDYpEtxwHDvaYTgKcznu5I6zZso0XC7vXXnvNOIW4vZ8z6Yo5HvemjRa77dn8SHTivBZ6bEVAEeg4BJQAdxz2emZFoGAQ8OPs4B4UJOWbb74xcgd+x9mhX79+bVpZqpJBhn/2s5/FgocS4Paw5iLA6S5C3NZs2S48SZGvv/668Ypm4pSrqQtFLoT0c0VAEQABJcB6HygCikBGBKyzA6SJ3/3qfBcsWGCcHdD7WmcHd9lfHAk23HBDQ4rjaPkgwMgIpkyZInvuuafks6xxELyoSPfqq68aSYGX8tPZzhGVNVu2c+CJ/MYbb8huu+1mJBtBm7pQBEVO91MEuiYCSoC75nXVUSkCoRBwOjv4sTSzJ8UVAeL7ww8/yNprr22cHTKRF8gYjgRrrbVWqD5n2tkS4DiXvYuVAKfDPIg1WzbnDCZPb775pimXHaU7CH1XCUUsXzk9qCJQEAgoAS6Iy6SdVATyg4AlvkRuIbGQVz/EkWgdUgckD2ussYZsvPHGOaOMJDhhf8ZPHC0fBJhyxpMnT5Y99thDysvL4xhGZMeMMgLstVO5rNl69uzZzrPYac2Wb2ydEgr6bf9mrPa74Cz1bH+3mmOvmOh2ioAi0LEIKAHuWPz17IpAp0DA7exAshoklmVnLw1SRXIb+6200kpG04u1mZeGvhP5A4Uv4mhKgNuj2hEEON11dVqz4aJhfYvR/FprNogxEwocQ7xqgOO4hzimSijiQlaPqwh0DAJKgDsGdz2rItApEMhkafbVV18ZMsuyc7YGuYScYGsGUYH4YmfmpxgE+k4S4NZdd91YMMkHAY5zmT5qUKyt2M477xyL73LY/kLQndZs2OSxskAjCc4ZLeZ3ZBF+7rew/XPun4kU2z4zsSNC7IwY20hxR/U5yvHrsRSBQkZACXAhXz3tuyIQAoFszg5ff/21IbUkdWWK3n333XfyySefmCIYJLGh4Q3igYu+E9JMklwcjXFCqmhxkQ4lwHFcuZZj2ip7AwcOFOQQzgp33HtMvLBzcxJjWzAjvl5lPjKkmMnjwoULjb91JgmFkxhb3+K47s+OwEHPqQh0dgSUAHf2K6T9UwQiRsCLpRnV2Uhio7CDu/Fi5zPICFFbEtjCOB/gnrDqqquaRLk4Wj4iwNapII5Eragx6ewRYPd4iaa+/fbbK5SZ9mLN5iTF6Iohnflos2fPNuWmt9lmm7bTqYQiH8jrORQB7wgoAfaOlW6pCBQ0An6cHebNmycffvihDB48uG3M6DSJ+JIgx9IuUV8vvqy5QKOC2iqrrGL8geNo+STAYa264hi/+5iFRoAXL14s77zzTrt7MRtO+bBmy3WdWD0hUk0EOFvz4kKhEopcaOvnikAwBJQAB8NN91IECgYBJ/G1y7G5nB2+//57mT59uuyzzz5CUtJnn30m6IKRKuDskK6CWFBAiO4RqeO4cbR8EGBbrEEJcPRXcNGiRTJt2jQTAQ7aorZmy9UPnFC4J7bccstcm67wuVcXCpVQ+IZWd1AE2iGgBFhvCEWgiyLgTHCDANC8WjUhc3jrrbeMvOGLL74wBJUEt969e0eOFtE9lqc5fhwtnwS4o50KvOCXrbSwl/3zvQ1e0u+9915aOU6YvoSxZst1XiRCFI/ZfPPNc23q+XO/EgqbeKe6Ys8Q64ZFhoAS4CK74Drcro9AJmcHry9CiAEvcBJ5unXrZogpnr5e9/eL8LvvvmukFJtttpnfXT1tnw8CXEikspD6ygVmMvbBBx/IoEGDPF3vMBtZazanLRtSBrc1mzPpLp3+febMmcJ9N2DAgDDdybmvSihyQqQbKAIZEVACrDeHItCFEHAnuFlXBi/klZcp2l90vugoiWAhgQiT4OYFWqQWZPLHRRaUALe/CoVGgNGcz5gxI6MjiZd7LOw2bms2SDFJoHxnmCRCiC0pZrUEyRAR2E033TTsqX3vrxIK35DpDkWKgBLgIr3wOuyuhYAXZ4dsI0ZnSdSKyBfODn369BHcGfJBgFnehqhvscUWsVyUfNigFVJiWaERYPTo3JtU2etMDVkR9nfuaDH/z4QTf2JWTiwx7khrNnDLJaGgz3wPmYzyr0ooOtPdpn2JAwElwHGgqsdUBPKEAC81IrW8dCF6NrnNS8SXLhLJImGHyC/ODjgxIEfg/ylRjAsEL/I4G8vbjCNIwpCXfikBbo+STdgrBL0yPYcAI8nJVZTFy70Q9zbWmo2INQ0yCUFmggSpdPsV59OaLd3YnaSYfqLH575wkl+bbOcu+ez1GRM35np8RSAoAkqAgyKn+ykCHYhAEGcHZ3eJAlpnBzx40fmydGsbka2JEyeaxKMorM6yQYXdGiQ+l2VUULjzQYBteeHOWl3NiV2hEeD58+ebSZrXstxB75Mo90PWA9m13tbZrNkgwU5izO9xTzrTjdX6LfOdh9zaXAIt5BHlnaHH6kwIKAHuTFdD+6II5EAgjLMDh4Zo4uqAUb91XoAAuxskacKECUZ3ydJtnO2jjz4SCLmzaECU58snAd5pp50Mrp25FRoBpuLg559/biKThdJI7MTbGheVTI3vIjpip4SCv7lfKysrV4gWMxGNM+qay24ul4TCyibSlX0ulOum/SwuBJQAF9f11tEWKAJRODtQ3pioLy9RPHd/9rOfZXyhErEaP3680V3GTejQd1JJbdttt43l6oAd46HFRSAgM0TMC4EA26p1heBZzDWjKiETtkIiwHhbo6NfZ511fN3T2azZSEZ1JtvxO9/NIOXH03UqSLJhLlLM900lFL5uAd04jwgoAc4j2HoqRSAIAjbBbc6cOcYSykoFvJA5XlBWQwkJXH/99aV///45S8JC6F566SWz7OyURgTpf6590HeiOR44cGCuTX1/DnYU8Jg7d66RcjAW+xPlMrMlwDvuuGOkRUJ8D9jDDoVIgLHkQ15SKA0PbRLg1l577dBdjsqaLVdHkJrgABNWa20lE3z3LEG257Y5Cm5SzN+5ivPk6r9+rgj4RUAJsF/EdHtFIE8IuJ0dIMBEw7xGwighC7nkXyJR6BFJyvHSOPfYsWNll112kZVXXtnLLoG3Qd+J/nD77bcPfIx0O1riz5I/CX6QVLvcbJeZnYSY3yHFXiYW7vORhPjKK6+IEuBIL6E52DfffGMmMETXC6XhoNK3b19Za621YuuyF2s27mmrL851b/NsQR7Fdz6OlitarBKKOFDXY2ZDQAmw3h+KQCdDwDo7QNj43UZGiGQSCcsVoUFHCKlEO8lLeMMNN/St4+W8L7zwgiEdvXr1ihUhZBlU+4I8RtGIJiOrIFpOtJuot202ucfaV0GI7Q8klgmCmxR70V5aArzDDjvEHjEPi1GhRYCR7vAT1f0RFj8v+7/55pvm3uP7l8+WzZrN3ttOGYXTmg2Mecbkc6KRixRnklBEJfvI57XRc3U+BJQAd75roj0qUgRyOTsQCYPYZqqIhcRh1qxZQqSYksXofMNEb4kAI0tIlyQX5SUiwYlobdgXL+OHTBMtRH+JswUvey8aYGtfZckwJJrfibKhvbSkOJOnqxLgKO+I9seClBGdZHJRKO311183E68111yzw7ts7217T9t/3dZs/M3EkJUYJAkd1XJJKCC/6aLFKqHoqCtWuOdVAly410573kUQcBLfbF6+RHRxTNh7773bjRzyZZ0diFZC/CCAQZbynQd+8cUXjTPDaqutFivSJDgxtqBLr2BGZBzyT1Uuqm85STv4QmRtNN3rYJzaS2ekGKIAQXBW/iIZCd0n5GGllVbyeooO2Q6SQ4SSlYQoddBxDYYJDfdHIRHg1157zXhqr7766nHBEvq4bms2XCD4ntDc1mxMAL3Kp0J3LMMBMkWL6TMrSCT10kd1oYjrCnS94yoB7nrXVEdUIAj4dXYgSeX999+XIUOGmBGyP8uWRIVpvHDRuoYlvha+cePGmepsJPPE2SDvRLe9apttXxg/BTzQOTMJIOKdbvxBCXCmMWPZZqNolhijM6axpIz9lY0Yd3Shg3RjKDQCzIoG937UGvE47+lXX33VTMTinjxGOQYmkNzPWLdlsmazmmI7+fMiD4qyj+5j8d0mxwHbOWelQGdBoHQuFCqhiPOqFM6xlQAXzrXSnnYRBGwkw1Zw428eyLmIK5pW7JX23XdfwbII4gfxYqmVJLeoly1ffvll8xInshJng+AQ5fNT6ICkOXS+/EvpZjBAqpCuRU2A053DlkKGgNvkJIgm1xQS7NQVQx6ivlZ+rk+hEWCi+9zvcbiE+MHNz7YkRDJ5jFs+5KdPubZlIs3zxF2RsSOt2XL1mc95LlJN0krDvEooeF445RQqofCCdtfaRglw17qeOppOjoDb2cFP6WKWKCdPnmz0vfxOkg3ODnEtY/MSJ4EOUhdnQ+OJDMIZwcl0Pl7QWDURMYaYE/VF9pCtWQIM9nFFfjgHEwZImtVdM8FxR4ohn2xLpNhNivO1xFxoBJgVApa4t9tuuzhvw0iPTREZ7ArjTiCNstNMKPmODBgwIOdh82XNlrMjImZ1wIt9W66Eu3vuuceM/4ILLvByWt2mCyCgBLgLXEQdQudHwJIwluqdzg65or52ZJCWGTNmmEgYkgR0vnFXaGMZl+hqFF6m2a4QMg6WX6k6l6lBJiHJ/KCxJTKN1MBLywcBph8UDoGkZesX199W/3Im3NFHt0+xtWXzMkY/23B+JlJMOPJFuv30z70t15xl7rgKpYTpW7p97WQo170Q9Xnt8RKffy4pCnAkEiIlJZ5Pw/OFCSLfraDNrn44JRR20sdE1VnyOYztoLN/YezbnKT49NNPN6s1EGFtxYGAEuDiuM46yg5CwGuCW6busbSOSwLLwLwwfvrpJ6MBzgdxIZEH8kukOc5GNJcIzl577bXCacDPfs5kAeJPZr3XiQMHzBcBJgIMSfNKzO1giTqlI8VRexXb8xUaAeb+576Pq1R21Pc2140IcKQJkY2Nkli4sOVnwYLlP/Zvx/+XfPSRGVLjscdK/V13eR4e+QVMwsgliLJ5tWaz+mKnNZuXfkSVJHn88cebsY8YMcLLaXWbLoCAEuAucBF1CJ0PASfxtZo0PxozXhpoY4mMVlZWGuJHdIKoLESRF1Xc7Y033jAyA6LAcbZM7hYse7MsC2FD6hFU55xPAgxJi2LZmz5H7VVcqASY7wBSElsBMc57MYpje6oKuGxZZhLbSmZLLNH94QdJLF7su2v1v/mNNNx0k+f9pk+fbiK0fNfibtzf+FHnsmazEeNsyaRRSWQOPvhgoyO+4oor4h6+Hr+TIKAEuJNcCO1G10DA6ewAiaV5SXCzo2d/lvSIiPK71eByDNwHiDIiFYhb/kB/WCYni91ZSCKOq4STA0ks1t0Cwsv4+X8qaRGVYRIQtBUiAU43VksagnoVFyoBxtuZycBWW20V9BaId7/mZpFFiyTxww8CaU1+953MmjxZNlh5Zan88ccWouuM3vJ7bW2oPqWqqiTVp0/Lz6qrtvz06SMlb70lZVOmmGMvnTxZUptt5vk877zzjskviHvCm61D1prNSiggyFx7WiZrtqgmSJDfE044Qf70pz95xkw3LLqvEsAAACAASURBVGwElAAX9vXT3ncSBJzElyVQr84Ozu6TzYyzAwQQKyJeRE5nA/R1WJPh30pkJO42depUE82EhMfZKIJB9IkXEC8z5B68iNEisiwatuWLALPsDUmj7/lqzmSkXF7FYMnECUJBqV4mUpmcM/LVfy/nyeRO4GXfQNs0NHiTG1jZARHa1sluoPMh01llFUn17m1IbLOT2FqC6/y3Tx/89lo0vq7WfbfdpPT99yXVrZssnTfPV3fwsca3OG7Jk69OiZgS5lYiZCPG/G0lQqysESAgcs1zMYg1G98jElhJgPvtb3/rt4u6fYEioAS4QC+cdrvzIBDG2YFRQFwgvhBgNLc8yNNFPDkP1dkoGBGmwptX5LBcgzThtBBnI4sbH0/IGI4WyD2IPPvR+WbrX1cmwJnGncmrGKJAMhIEgsg691Fn9Cp2jovVACKD2Ir5bqmUSA65QZvUgEgtZPbHH32fxrlDqrRU6nv2lDLsAzORWRexlfLyUOc0O6dSUr3GGpKoq5PkZptJzeTJvo7Jig8rLnG7vvjqVIaNndZsSCAgyfY5zHPEWe6Z37nHsznA8IzgOYf+Fy2wtuJAQAlwcVxnHWUMCIQlvmjgWN7FBQFnBwhJtsguD+kXXnjBlAyOQmeaCxJIqa2slmvbIJ8zHqK/ZJ9jb7bZZpuZCUDUVmX5IsCd3fuVFQQmW0y0SBzi2nIPdkavYuf9xOQQgrP55puLtMoNSpzJYOkSw5zJYa1FSoLco4ZXduuWVm7QJj9oJbnNrVKEmooKeXPKlLy7bCQ+/VSqBw40w2z4zW+k3of+l33Q/LPqFLfvd9DrkGk/m7zHShUTP6cDBRFjni3Oe9zpRGFXQHhG9O3bVx555BE56KCDAnfx/vvvl5NPPnmF/YcPHy7XXXed+X9yOHhWuBtVPp0OHIwDOcZjjz1mxjV48GC59dZbTS6EtmgQUAIcDY56lCJCwCa4UYSBhy8lWils4DViCRGxzg5YehHx9EpoKU+M0wCljuNu06ZNMxFZL76gfvvCw50ENxLdIP8kwu2///6eMfRzPiXA7dGCFFgJBJ90qFcxcgOrkXW7G7SS2Nq5c6Vs0SKpWrKkJUILCQ7RjNygVTNr5Aatv7v1tFZja+QGPpoT33xKTMpvv12qLrzQ9LTm4YcleeCBPnotMmnSJBMF7czlm9MNiOcUz9FMuQrZrNl47kB6ecY9+eSTcvvtt8thhx0W+DlkCfDzzz/fbpWOqLq1k4QAM6G7/vrr2w2HBFpncjNJeeiyb7jhBjO+Sy65xLihvPfeezm9z31d+CLeWAlwEV98Hbo/BNzODrzoXn/9dc+2ZESMrbMDNma8bCB/XokzvUUDTKWmfLykeNASjQ209JwBWiIZaDopfsHYwYAX1Jtvvin77bdf5NFfupEvAjxx4kTzIs3H5MTfndt+ayYf6LvRXKerSBfYqxi5wdKl7d0NnI4G7kgtZPann8IMRVJlZcsJrCWyjqSwdolikF302VHIDbL0GpKCnhaiE/VqRjawuh1yiJS1RhaXzpwpqb59fWFbKPeve1BgjWTKT2TU3uM84+677z6zCmVXGjgWQQYIKc8km5zrBUxLgFnZyvQc4L4gCv3ss89mPCRylJ133llGjx4tB7ZOZHh3II8jCoxnsbbwCCgBDo+hHqGLI5DJ2YGlNZayctmSsT+RBrSMPHhZqkNrF+TliAsEUgG8cONuODNA2qPIvmfcJLeR5IYej6i3LRMLYWAiQYnnOEoEKwH2R4Dbtk4mjf0WEdrU/PnS8PXX0vDNN8bloHn+fPP/FT/+aCKzlUuWSPmPP0pJQ0Oo2zLVvftyZ4PW6OyCREKaeveW1TbddHmSWCvJFYqhpEkGC9WJkDuzMoR+fu+99/Y1uQ112lRKevTtKyXLlkmqRw9Z+s03vnHpiCTOUGNu3TkK7TLkkok+xWwgr0SV+dlxxx3lsssu89zNqAjwpZdeKrfccotZIXMGSLinIM/PPPOM5z7phpkRUAKsd4cikAGBXM4OJObwwKSiFqQuXeMBRmSBaDH6OtwdwiyLEqUhCpCPRBWiIowxTAECS/7BgN/ROdN350OdiCRFN/bZZ59Q2GS6kfNFgPFoZnLSaSPA9fWGtNbMmSOfvfGGbN23r5TygnVbdFkpAtZeIeUGTSuvLM1EXUlqXH319NFaR6JYOrnBhx9+aO4LJk2F0ChTjqtJusIucfW/ZMYM6bHzzubwye23l5rx432diu+Iu5S3rwN04MZMnpE/hAkKcI+RXIw+PoyLiyXArNBRtZOo9GmnnSbDhg1rm9xzXzBBIrhAYICcjiuvvLJdJcxjjjnGrBayMuZsZ511lskDIXdEW3gElACHx1CP0AURcCe42Witk7jx8EKTu+uuuxqNlrNBeCF9RBOI9hL1jaJ4BTo9HqpxlydmLGh0scyipGuQRvlajkGEF+KfifzjSAB5JMkDzXHULZ8EmCQWllBjb8gN0MRastpKYo2jQaaksCVLQnXLyA3S2XI5NLQkgtUSgezWTRaXlsqS2lqTlITMxWbn4yxif7xU/WIlgvsibjeSUOA4doZE0WckJvlq5f/8p1QNG2ZO13DOOVJ/9dW+Tu2peIevI+ZvY54dYb93VoLFhD9MlU3IKRFpSC3viv/9739yxx13yBlnnCG33XabAYXoLs9wggFUuUQLzISJ1URIOM2uhqEldraLL75Y/vGPf5jIsLbwCCgBDo+hHqELIeDH2SGdKwOyCGbnaFwhQry0o/CytRDnqzob50OyAXnBH9NPw1mAfSnoQWY1GGQj/5BsItu5pCR++uDcluvEC54JSxDZidfzMjmxFm5e92nbDrkBEdd0ZW7dhRTs32HlBj16rFBIwamZbZcgtuqqIiuv7HtZnfEF8Sp2Xqe4SvT6vkYed2DSy8SPlaF8tarjj5fy0aPN6WrvuUeajj7a16khfty/6E7zUWTHV+dybByFdINAxq9//WtBvhL1MwJvYezVcF5J57BBAACHE/IHxowZ00aAmTA+99xz7Ub/l7/8Rf75z3+aSLW28AgoAQ6PoR6hCyDgJEmQYFu2OFeCGr68REhXWWUVmT17tuBJ6da4RglPvqqz0WeIPMu5uFx4aZBM3C3AAH9ZojJe/IqZNPASI2KGNVfULZ8EuC2LHusldzTWac3l/gzyS1Q3REv16rW8iEKWSO2SqiqZOnu27Ln//pG/7P10P5tXMd8hGyVGP88KCxGzQmj4WpPoudtuu+Wnu83NUr322pJojfAvmzpVmn3KRZi0Mrmmz2GqLuZnwMvPwrOaZ8f222+/wiqcn7488cQTcuGFFxpLylzPfD/HZVsSTtESQ25//vOfp90daQN2Z1S/pKkEwi/KwbZXAhwMN92riyDgdnZgWJb8ehniSy+9ZLRnvPRI4IIA8XfUD1HbFx6mkO18kAHILNEslvOyNTDkxcFLn+gJUVA/7hZxl3gOTYAhpj/9tDw6i252wQJT9tYpN1jK5Ke21lh2JZYu9XL7ZNwmVV6eU27QTo7Qq5dIWZmnc3aUS4GXzlmvYme5Z1sK1/q3WmLM33EkTXrpZ7ZtIOx8d5BG5aOVTJ8uPVqjzanKSln63XcipaW+Tk0Uksk1UeswEgBfJ41gY+4XJBA8ozLlYXg5DdpdJApE7qN+dmM5SP+yEeAzzzxTHn/88TYCrElwXq5a+G2UAIfHUI9QgAhY4suyOD9eI752qOwP6SVTGNIHIaWEaNTLZ25o8YW0Eea4YSeSi4zB6tLSnY+lOF4aRJBIzkPb5hcDm0wYZ4lnXpRtEoimpvZyg2yFFCzJbWwMBXequjqj3MAUULAR29bfBU15TO4GnZkApwOZgixEJSG+lhhDivkOslzv1BRDijuawKHrJIEJOUE+Wvltt0nVRReZUwVJgGO/XNZ4+RhHkHOwekQSHJONMDkWWIsRBcZSLep2/vnny80332xkcekS9Zh8IH/A3tJao1kbNCQQBxxwgOkSEgqS/dQGLborpAQ4Oiz1SAWAQC5nBy9DQBZAghtEgggUxA+Hh3w0CDdkALeBuBsvcR666ZZyeWg7k/yYAARNYEM6QSSd8wTSS9fWinz/vYnGCoTV/s6/CxaY/+Nz/iVqK1h7hZAbpBIJQW7QppdtJa9za2tlpQ02kOr11luhuIJUVcV9uTwfvxAJMKseJFHaFtir2DNKwTeE6ECCWfbOR+t2zDFS1posFaQCHH0kYZXJdV6t2yIAxxYdCRu5vvbaa40EBCeMMI1iPvgGW+90kuBGjhwp5513ntEBE60m6e2II44wwQLuEwpd4ELBZ857hkIYTP6chTDQKGshjDBXqP2+SoCjw1KP1IkRgPg6l8L5PZ2zQ7YhQPpI7kKnRXIXpI8HFL/niwCTEES0OsriFJnGzIscXbMzmYdoLV6+kGN8fJE7BCKtjpNaNw0izSsT+fzxxzbiagisJbJEaluJrE0WM4R32bJQd16qoiK33MBZLQy5QZol5ijsmEINxOPOHeJT67Fv6TaDmGFNles7hh6U76iNEtuSuPy/jSA7o8VM2KJe7qb/TBp5RqBLjb01NUn1Ouu06X/rRoyQxlNO8X1aXAV4tuTTucJ3J9PsYO/lsEVHLrroIuNTDmEN0yC6RG15dnLfIYk79dRT5ZxzzjH3GnkVZ599tnF9YPWM1Tyi10ge3BMmJqq2FDLPXS2FHObKpN9XCXD0mOoROxkCfpwd0nUdjSqkjxcbpI+HmrU9Y6kK31eiwPloRAogjFEUp8jVX6IT6Hp5KTqr2EEmPLsdNDWJtEoMVojSQm6J2n7/vSydPVuqa2ulBH0t+4RoqZ49RYjKrraaicTye7J3b/ODH21b6VsrN2D7COQGSoBDXLQsu+KZynfMT6UvezgmusglnKSY3/kOIZVwEmJ+Zxk9LCmGSOEB69c9JQh6JW+9JT0GD27bddm4cdLsMWnVeb6OcK4IMl73PhB3IqJhPZchqKxEPfjgg1F0S49RIAgoAS6QC6Xd9I+AjfjyYON3vzpf9kMHSxQUrSGkz13kAM0YTgf5SEoDgY8++kjQvVGqM+5GMg/FMIg2o/NFR7tZaan0++QTEbLMSQyDsC5e3CI9aJUbOP/F2itMQ24glqi2ktq2vx1k1hDbPn3MtunkBu00wGE6lGVfllCJUqazOorplIEOW2gRYL5jFBZAYx9F41mAZp3lcycxDuNV7OwXzwskBfn4jlaMGCGVl15qTp8qKWmpANe9u2+Y+K4zyc+bc4XvHqbfISriPnToUJO4i8eutuJBQAlw8Vzrohmp09nBj6WZBYh9cDVguQrSDLlF5pAuMoQEAusuLL/y0YJ68wbpG+QfnS8NYrdBTY30aDVqD3I885KG0JaXi1Dwgp/KSklVVcnSZFKqeveWspVWMqVchaQxIrPV1S3bsQ8/330nJa+/biK2zSed1BK5bY3emmM7/nb+nmxubpkElZS0dN21bdu+9jP3vzZCnOkciYSJlvdZbTXpRaQ5zTnsOc25nMfPsm2247RFrdON2XGOtvO1nmdZTY2Z0AxkiT4DXm58Mv7t6Lv7PF77t8J2LqzfnTbNEOB+a621PFKPDjvdNXJfJ4/YcixWepZAiu3PkiXS0NgopWVlpvysu4BHpmRPiCTkeuuttw76NfG8X7cjjpCycePM9smNN5aagElc+U7c8zzAHBuSpMuEI6zjxlFHHWUmLH/961+j6poepwAQUAJcABdJu+gNgbCWZuxPRAGSSZQVWQNRp2xWSyy/8TlG5vlofr15g/TJWcyD/ffcc88Wc/zGRqno2VNa6VuQQ+s+ikBBI+CcKFkC7p5UmXwDESlBJ+6VkDvI/AqTsUwTHCZ08+a1JXQ29+0ry2bODIRvvhP3AnUyzU5R9ZvktQMPPFCotKateBBQAlw817rLjtQ6O9jykCQWEJ3xo+VjWZioGEuXaA2xm/HiapBPTS4XkGgHCTZxWCyhiyTqi4cpGBL1JgLMy8G0VEpKTzhByp58UvCpbbz/fsGuy2h2sQlL85NI9/+O7c3nDQ3y7dy50qu6WqogDa37tNuXfRoaJDF/viTwOaU7a64pYgtn4Opgf1r7av5u/Z17xPl3tm35rM0lwukWkekcrds0Y6fX6iPddnxHH9znDONE0WW/zDqwwAgkN9hAat59N9D++dQtB+pghp2i6jcR5NNOO03OPffcKLunx+rkCCgB7uQXSLuXGQG3pRmZtSRo4anotZEgQ8QXDRzaTeQOfkqBWg/cfOj9GBMPfOQZYZf8nPiAI0uJ4EAjyQ8smAyQ5AcBbptM/PCDVGywgSRqa6XpiiskOWyYV6izbjd+/HgTRUeHl6uV77qrlLzzjiRPOEGa7r031+bmc/TcaDzjLJwAVmuttZb069fPU5/abZSFvKcl625i7ST92Ui3YLLxo7w3fbrssfvuK04KPB7H02SCyYDPiUe6437wwQey5hprSB/03en6l+k82cYSZJx2H+f5WrFONjVJXW2t0Rb/sHChud9SyaSR3VRWVEi3qiqTYGf+rayUUivFSTepsjdG62ftJmMOPEuff17KHaVy6y68UBovvND/vdc6sc6XbjlQBzPsxGQdt4Rtttkm8GG5RiQVX3bZZYIWWFvxIKAEuHiudZcaaTpnB6KxNAzFczWnnVevXr1MgpuXsr3u46L7hFDkxfJIxNjruK3Jco012+d4GkPi0Szis8qPJYmMi8Su/fbbr11xi7Kzz5bSu++WVL9+0sCSK9rckA3/TXTUXhLISm+6Scr+/GejEW6YM2d5FDhLHzo9AQ6Jn5/dueb4SeP5WgjtzTffNKsyXu6NzjAeEkdtcZx0tmwQLsiw24HCy4qTc3zdDjlEyl55pWVO0K2bLJ07t0UvH6AhrSIYkA93mQDdy7gLk3ae5WFsIbkePPfuuusuOfLII6Psnh6rkyOgBLiTXyDtXnsEslma4ZBAIku2aADL/ERRiRzwErLODn7kEs4eeS0XHNV1dFqThTmmM/JNxJLIt7uSEhnyr732muyzzz5S5iizm/joI6lodaFo/Ne/pPmYY8J0xez7yiuvtCUb5jzY3LlSudFGZrPGhx6S5iOOyLkL150XZZwRYEqeIhshCtyZW6ER4EKxl7PXnIk43xeeLe4WmVdxXZ1U9+8vibo6c4qmPfaQ2tGjA992URDJwCcPsSPPfFqYwkBck9VWW82UKuZZp614EFACXDzXuqBH6sXZgYc4y2HporHsb8kjv0P4IH5Bia8FE80sx41SkpDtQiHV4KEfNHpHJJQsdSYBRLyJumaKfBO9ojoRBuzu6FT5wQdLyUsvSfOOO0rjxImh762JEyca3bVX8lg+ZIiUvPaaJI84Qpoeeijr+UnqQ8vM5Aj/Zn6IviGXibIpAY4SzeXHYhK24YYbepLHxNMDf0eloASTSa/WiEG8issmTZLuBx3U1rH6YcOkIUQCVxRE0h9K0WyNPIZnE7KtoI1gACWKkTDlq3pf0L7qftEioAQ4Wjz1aBEj4MfZIVM01jo78KCDZGHpFVUkkOIYkGBntbSIIWh3OMaC1tlvpIIoB/IJljptdAprqWwTAPSMRGYxmXdHh0teeEHKDzvM9K3hlVcktdNOoYY9adIks8y99tprezpOyciRUn7uuZKqrJQGln6pIOdqzqQ+a2NlvV/5jBenJcN2OToMKZ46dap5kXodg6eBxrBRoUWAuTcgONyvhdD4fnK/hSmOk8urePP//lfWfeCBNjiWPfWUNDsKYvjFKVvU2u+x8rl9FFjPnz/fTLCYBOTLzjKfGOm5MiOgBFjvjk6JgDPBDbJCy+Xs4E4QIxpM5A93CEgJDzm/Ortc4BD9JfIcthJRrvPYzymfSWUsdLleG1Wp0PkSCQUDrN0yeZg6j0nEFG1umw2a88PmZinfemsp+fRTSR59tDSNGuW1O2m3I8rHNfJc7OD776Vi3XUlkUxK4913S/Mvf9l2XO4dnDK49hB/W7WO6DcTn2wRNzcphiB7vWeUAIe6BTLuDAH2XHkwni74Oir6au4bJttRNu5b41W8ZImsfvTRUv3OO+bwzSUl8sLDD0u31Vbz7FXs7hd2jiT/8nwopMazkOqcucpkZxsTK2IkMZNcjIRJW/EgoAS4eK51QYzU7ezA37mIrx0YDzAeZjvssIMpSgA5JSLHUiS2XnE0iBbLcEOGDInj8Csck0xtkoLaOTNkODPRTkggBDjIBADXhHHjxsnuu+9uIlruVnLnnVJ+3nmSKitrSYYLoX1F58nLx8+LrPzQQ6Vk7FhJ7r+/ND39tOke5IBIDjjZpD4i3rmS4NykmMkT+DH5IipsI8Q2YpyOFEddsSyuGyqq8rFx9c99XGQ4aDzdVRjzdX6/53nnnXekd+/evu5lX+eoqZHqtdcWYxOIDh7y9sQT7araMdnluclzz5lsx9/pVr/iIu2+xhVg4yhkRxQzotw73/e43hMBhqa75AEBJcB5AFlP4Q0Bd4KbjVJ61emyxA/5gcygayVqtMoqq3g7ecCtIJe88PxEZAOeyuwGMYMs7rvvvhllHCR7IXVAngFpAId0BDZXPyB/L774otE3Q/xWaEuXtlii/fijNF1wgSSvvDLXITN+DqnHAg3S6rWVjBol5aedZgj4sk8/lU8XLTJjZqmcMTvt7HIR4HTntKQYzJ0lc7lPLSl2SiiIokVZstcrDn63KzQCjD4cizwifYXQ4p4IlY4fL90PP7wNioazz5b6a65pBw2TV+5ZZ7lnJGA8SyF5zsp2/I6UgGcFMqRCalGUH+f+OuKII4yFXVTSuELCsJj7qgS4mK9+Jxl7NmcHL11kf+QPkD5IG8tZufStXo7rZRv0lCt45XrZMeA2vNBYEk6XmGZxIAqOZhc9W5ioGQTwhRdeMEU3Mk0kSi+8UMpGjJDUqqtKw6efilAxLkADQ/rqSzf5009SQSSsvl4+OOssmXfEESZSmI4oBSHAmUix29oKomFLbkO6IfI26uZVPhEAssC7FBoBRoeOtSFR1UJoSGGwbPOa0Ol3TBWXXy6VN9xgqs1ReKX2P/+RpoMPznkYvgNOQsx9Cym2q2wQY3vvQorLI7A3zNmpkBuwOsBkN4w+/Nlnn5WzzjpLkJd5DbaE7Lbu3kkQUALcSS5EMXaDBy8PZUirJRA8gLw+hGwBB+QOHIMldBLSvMgDosLbRmTdVmFRHd99nHSJaVbzihYZPJF88PL1imO2vj7//PMmMzoj+fjyS6nYbDNJNDdL4+23S/MppwQaOqQBP2Y/GkReWGXHHServ/qq1OywgyReeSWjtjlOGzTuXYgE2f8QXq4HRIP/d/u9EjHuaGJRaAR4woQJxp+2UAhwqIIoHr493YcMkdKpU9u2XDp7tpmABml8L5jQEQFm8sY9y70blVdxkD752SeKe+Phhx+Wq666yrw7onhm+um/btuxCCgB7lj8i/LsfpwdMgEE+UHfysObZXO0o5DDdL61cYKczSosjvO6E9NsCWf+BQMSb5yevWH7MHbsWNluu+2yRpLLjj9eSp98UpoHDJDGt98WSRCX8tdYNka24sU6iutMUh/66y0//ljWHz5cUolESwQ6gw45TgJsR+rUflpSTJTNSijSkWIrocgnKea7g24d3WMhNBIx8fZmglQILYpl+YzjXLKkxf+3NTE4uckmUuMgw0HxcXote/EqdkookAN1BHHkPcK9MXDgwEBFjCxWFMC47777zARWW3EhoAS4uK53h442iLODu8MQCogvL3GinEQMrXUVUTj0XHjkhrGz8gMSySZEISAT3bp187NroG2J8L700kvG65gkP5voxzJgHOfnXETfsi0xJiZNkopWA/mGMWMkFcCOCfLIEmy64gEWKEgsVndUwkOSgdyhZ1lZiwxi6VJp+utfJXneeWlxzTcBTtcJS4qdmmInKXZbssVFiguJAEdFcgJ92QLuFKdvcenYsdL9F79o61nDySdL/c03B+zp8t2QEiCZoiBEuhbEqzhuUsyzkOc9K1RBchzsOG+88UYj9WISoK24EFACXFzXu0NGG8bZwXYYoonUAacHyBi+oO6HHslf48ePN568+crmzeWUEDXgdowkCKIz5aUVZ2QMPAcMGGDcNDK2VErKd9lFSqZNk+SBB0rTE0/4HjaZ2BD4dD6c3D8UAGHiQ2MbtIr2BVt28slSSkW4gQOl8bXXOowAMwaIuZ9EPne0DXLMqgL/Dx7ucrlRkOJCJMBM+NImYvq+0+LfIU7btsqLL5aKW24xKx6JVEpqR46UpuOOCz0odNaUE/aTaJjLq9gZJeY+RmIRJSlmNYzJxi677BJq8n/ZZZeZFRFIsLbiQkAJcHFd77yPNqyzAwSTiB/6LB6iRAgzaQFzuhbEMHrGh0yAh3CmimpRnNZWskPny4OfZDGi31G+UNL1k+g2k41c/pglDz4o5aeeal7Mje+/LymffqLYMKGfhWw7G4QQZw8kHsg7IJfuTO2S55+X8tas+IYPPkh7bu4N7iUv/sdBr1cQApzuXOlIsdVlWlLsjBb7lbwUEgEGC+7BQiLARCW5j8MkoGa6B7sPGiSl777b9vFS7vf+/YPesmY/ni1gTPJwWNccp1ex0znFliFPR4qDfieZKKK3JuARZmJ4/vnnG6/4xx57LBSOunPhIaAEuPCuWUH0OApnByytcHbg4QYJc0b90oFgXQuyJm3FgB6RA7yH40rS4eGM5pUHPiQQl4dcutyohum5RHF9vVRsvLEk5s2TpjPPlOSNN/rqAhZiEFvsrmi8MCH7WNsRfc4q8WhsbCmKsXChNF1yiSQvumiFc+dDAgGJZxLkJwLsFSRLit3yCe55SLFbPpGNFGPdN2PGDFPgpLM3rhvRSb5fTIALoUWRmJV2nIsXSzX3eXOz+bh5rbVk2YwZoSHJxySDSbvbgcKvV7F7oHwXyB2gCFFQEs0xf/e7GrUkkAAAIABJREFU35lk1XvvvTc0lnqAwkJACXBhXa9O31vr7IA+i9+tq4PXSKXT0YCIHVFOijh4fcChWd16660zatniADCuc6JpZtmfZC/0ziSIoW2mOAW2UGGsf7zi4KdEcelVV0nZVVdJqrpaGmbNEll5Za+naUtAgQDPmTPHTHwgduh8vUwsys4+W0qpCLfpptJIhMyViJcvAhxHBbBMINqMfWekzUaKWW52yycsKS4kAhyVztPzjRjBhiRmRRFNdXeldMwY6X7ccW32Z41HHy1199wTusc8Z9EA77TTTnmTjtFpv17F7kldVCW9TzjhBLOidtNNN4XGUg9QWAgoAS6s69XpewuBZWZP82NpxvZEOiF8vNCDOhrw8kEjig9nvhrnhKhl1cn66AwvBqK8eBtD/oh+OvWPRJj4v3yMkcSQfv36eTPInzdPKjbaSBINDdL0t79J8txzPY/6ww8/NBFuIr9EiyD7THy8TpwSEydKRWt56IapUyW15Zbtzg1Z5LhxGt1jJQXpjLoErmcQiQq22lg53SfAle+lJcVMJufPny+77bZbpI4hfvrpdduOImde++fezibtxSHZqBw+XCruuENSJSUmClx3003S+JvfBO1q235RaWlDd0TE2Dhm8ip2T+roN6tEYVcyDjnkECOjuDJEIZ8oxq7HyD8CSoDzj3mXPyME2CtxAQweeDzIeClDtiA/LEkFaUQyWIKOy4Q+XZ+QCRBBoO9hGuSFJX+S/dDDQnLJynZjGdX5vPTVb4W2slNPldIHH5TUuutKw4cfipSW5jwNkW58gLE3oxIVUX/fmr5ksoV8f/ONNP3pT5K86qoVCDDk2utKQs5Op9kAAozG0VcxjyAn8rmP9Xq18gkiZ3aSakmFlVDQf7+aYp/d8bU514xVCIqxOCv7+TpIHjeOU7LRfdddpfSDD9pGs2zKFLPiEbbx/eN7Tsnzzli4xd6/6VY6eDaitXaudvgdAxKK4447Ti644IKwUOr+BYaAEuACu2CF0F1eWkRCcjVm8Cx1Q/p4iKHzDavzI2JJwhYR5Hw1MpGJVvYPkYzy/fffG50v2OWSfURxPq/YTJkyxWSGeyV1CZLZdt7ZHL7x0Uel+dBDM56KaA+RbhIckXbg3IHWM2grHTZMysiQX2cdaZg5s50MgslF3AQYHTNj8IpV0HGG3Q8JBBF3lumdmmIbKWYMbvlEnJHzbOPpTNFJL7jHFbFG317tKBPe3Lu3LJs9O5DntnscBCD4nhNJ7UyTn2x4830mOfrbb781UjBLjp1lyr14FfOeIlpPIhxa4CDt/vvvl5NPPnmFXYcPHy7XXXdd2/8/8MADcu2115rnHc/4Sy+9VI4++uh2+3H/XHLJJcIxSfxFlnLzzTcbK0pt0SOgBDh6TIv+iLkIMMTHOjtY71c/9jvZAPZL2KK4WBjfI38Ikvzk9DWGQEOeckUwOB/yh3yQfCKzZIZ7KVBhsSzfZx8pmTRJmvfcUxrHjl0BYqejBRFZJCtEJYlEkdwXtCXeeksqdt/d7N4wYYKkWok4f+eLABOl9FPNLuhYw+xnJ1ss+zobkTa7/GyJsS2V6yTFRIshF/kgxUSqmdTuuuuugVeFwmDld18bsQ5rzeU+b9nTT0u3X/1quf73oIOk7qGH/HYv7fZRJZNF0hkfByFXgFVDCCzNj1cx9y+rjESQef5cf/31ghY4SLMEmKqZTicgVgQJjNBwmIDs/vnPf5b99ttPnnrqKbn11luFffjbtrPPPlv+9a9/yQ033GCe73/729+E5FqKdEQlsQsyxq66jxLgrnplO3BczGIhHO5ml/iJ+vLyhFRB5PzIJXIN6+233zYv52wFFXIdw+/nkG60un6IjzP6jcyB/nr1Lsb6h4h5PiKNQfAseeopKW/1Jm2YMkVSjugFUQ0cCCBaaGV5yHMvIIHhRWxfZn6vQesbUCo231wSn3++ghNFPjTAvKRI3PNzHwQaZ8idMhHgdIdNR4qJFNMsKXbKJ6ImxchimPChV85XcZsw8FrCHnV/K//4R6m4+25JlZVJoqlJ6q6+WhrPOSdMV9v2jSqZLJLO+DgIRXF4nrCSkall8iomAEOEllVHnjuHH364nHrqqead5PcetgSY71Um6ztyREhcfvTRR9u6uv/++5v+Iz+h4XGPBOyWW26RM8880/wfARICK/TNGU32AZNumgUBJcB6e0SOgJsA8xBipg7JIUICcSPaGYceEx0m+lG3n2zkg3Qc0A9JhFCQ3MbD2xZ+8Bv99lM2OOy48bYlUsID3HNDj7vZZpKYM0eSJ50kTSNHmgQ0rj8PeSQqvHicOm8mRbyIw0gg6F/pZZdJ2XXXSWqNNVqcKMrKTLfzRYAZk59ouWdMI9zQDwHORord8gkmskTAnZZsYSPFnV2f6sYnrv5232EHKW0tBMM5l40fL82tkc+wt0YhuYI4x0quBBMOiKWfxvsIL2z826lA+URr4R5wYFJH2W00wURjvbRcBBiyzWSf8xxxxBFth0QSgXSCdyPEmXLMv/nNb0zfnM43bMMzX0s1e7ka/rZRAuwPL93aAwJOArx48WLj7MBMl9ktDwLfCU4ezmk3oaIPZCefmqlMRRyc3bb2bmBB/yBJLJEFiX57KRvsA7KsmzKhQBdo/Xm9Hrf0ppuk7M9/llRlpXw2bpx8vGiReblApNNVrkMLzAsIzVuYlpgxQypaZRTOssz5kEDwgioGApyJFDuTlCDHkEHub7d8gr+9RtmiKnYQ5p7ys28celq8tas32qitG6nu3WXp3Lki5eV+upZxWxucIAmukBo5E3yvwwQ7eD8RjGGiz2ok//J8ZZI+dOhQT3BYAowWmWcY77nTTjtNhg0bZu7zMWPGyEEHHWQK+jgrXSIvw7OexG2wZ3vkD1S9dLa///3v8pe//MWQ/TiCRp4G2UU3UgLcRS9sRw4LjS8vQCJ+eNjyMIHwEfGMu/FQZNk027JY1H2wM/NMkQgesvQLTFjO4idMsokXwh3VGHONLeN5Fi+W8vXXl5KaGvnkl780kdlshJ8oCfcK2f5hW/n220vJBx9IcuhQafrnP83h8kGAmXyh3ya67W5NTS35Sh5MMcIOP+f++SI8Tksrp6bYSYqd8ol0L/c4CGVOgEJswCQAYhO2OIOzC2WPPSbdfvObtvLHTXvtJbX/+1+IXrbflUQyvn/orAupkcjJczSM3I1iS0zuWZELksMBXhRCQpbG5J17+3//+5/ccccdcsYZZ8htt90m//73v+WXv/ylSdhz6nhZ9eK9+PTTT8uhhx5qSDNkmHeFs919993mM4JIhVIOvFDuIyXAhXKlCqifRDn5SedhG/cwWBaDcIZdSvfTTzStSDtYOnM2iDiTAB58UU4CIKU8aLfYYgs/3Qy0LS8ZiAzFRbw2SAsP8b7XXCPrjRkjzWusIY2ffipSUZHxEGRGgxPJQ2Fb6d/+JmWXXCKpVVaRhi+/FKms7HACvPHGPWTBgoQce2yj3HRTPV3qsJYvApxugNxLzkgxvzsjxW75BBFgCOUgSgB3htlDjqsGSUEStffeewda3Ul3+Mpzz5WK++83qymJ+nqpv/BCabjwwsjuH2RJOPGEXX2JrEMeDxSF7SBRWcZN5NavFC1bN7FUGzFihECwx48fbwgwkV2qmdrGu4rJMoQZL2JILpZ/9MnZ7rrrLvntb39rAihhXZI8Qls0mykBLppLnb+BEslDBkFyV75blJFEr32H7EP6Bg4caHaxLhf0hRc6y144KUTVINzg64eUBj03D2P0u25yn+54zgIeaNoGlJbKKtYS7d57pTlLljUZ3bwsSB4K3WbPlspWzXLjY49J88EH54UAZ4pIff11QjbbrAelYczQqqpScuKJjTJ0KNdwxWTR0OPPcYCOJMB+STGrRhBkiAIZ9sgnOvMycBwJZT222UZKPv+8DbqaZ56R5KBBkd0mfO8gZ/kMGkTReaQKBFnCuOEQud13333NMy6X+46fPlt5A/IH5G8qgfCDXv62VQKcP6yL5kwkekECO6JBpPjJp57NJnDhYEA0hZk9L2mW5pjxB9H5ZsMunzIPyD1RuGz2ZDzgGTfRbpYk0fnayU/Z4YdL6fPPS/PAgdI4aVJG31JewiQHRnXdygcNkpLJkyV59NHSNGpUGwH2W53Qzz2ciQB/8UVCttqqOu2httwyacjwscc2yaqr5vbO9tOfTNt2NgKcjRSTsEd0EiLMigrXz+nvygSzM5FiEpiQwhCxjqIlvv5aqh0JqLhALP3qK5Hu3aM4vDkGqy9U4QxjQRhZZ3wcCJKJpMBajfnYtW1Tytj/6le/MtHVKCdWOAMRWYYAEwDxmgR3yimnmGi0JsEFuZr+91EC7B8z3SMHAh1JgL/55htDQKN6AXm52ER6eUnzACVahcsFiRBxLdlCNFk6thFnL30Mug1YsqybyZ6MiBdRYkgy9l+M2/kiSbz4olQccog5fcP48ZLKoDMEP3R4Ycua2nGW3nablP3pT0LCUMPcudLcrZuRqcRJgInMW19jJ95PPVUmJ53UTUpKUnLkkY3y2GMkL7VEg20rL0/Jz3/eZMjwvvsmrXlF0MuWdT9WaJi0RRJtj6WHyw+KnIlI3+DBg82qBystTvcJJyl2yic6ihRH7ahQ9tBD0u13v2srf5zcfnupGT8+UtT53vE8yceKUpQdxz6MBDbkZUHbk08+aezQeG9EGaigsAYFLHiuQdIJCoDvww8/3NbVAw44wMj13DZo6IZPP/10sx33OxFutUELeoWz76cEOB5ci/qoJBzxsuqIxsudSBwvzHw0iB9JabxAiERAAuP2K8UxgUgTGcRxt0znIiMZIs6Lg+Q2lqjTjjuVkvJtt5WSmTMledRR0vTvf6ftcuQTl2+/lYoNNpAE9+K//iVNv/hFhxHgiy6qlNtuq5BttknKxIk1MnlyiZxzTpXMnGnLRBP5XU6IV1+9WY47rkl++ctG2XTT6CUShUSAc0kKeM643SdstrwzUox2Mh+kOOroetUZZ0j5v/8tqR49JLFsmTScd57UX3llpF/7oHZikXYiwMHQy/LcwX0haMOKDN9dVrqCEmD8fIcMGdKWk4Gmd+TIkXLeeecZHTDtv//9rxx77LFy4YUXGskFiW8Q5HSFMEaNGmUKYRBMoEAHmnJWFbQQRtCrnHk/JcDRY1r0R+xIAgwx5IHhrK4TxwXhxUsUDbkFL1YkH2R+56PlU+fsPhfRfZZMiRpBKohsOKsfpRt/yV13Sfk550iqtFQaSPBIUzKaBDikHSQPRdXKDzhASiZMkOTBB0vDo4/GToBt8orbM3mffbrLlCmlctppDXLDDfVmePX1IiNGVMj111dIQ0ML+e3VKyWLFrWPDA8cmDRE+KijGiUqGXkhEWCW5ikx7ee75ZUUEzHGtzjKpW+0tHw3onJU6LHFFlIyZ05bBbiaRx6R5M9/HtVXxBwH8sfzy6/VYaSdCHCwV155xZDOMMlrt99+uylOwSpD0AbRfe6550y0l3cfpJyI7TnnnNOOVEO2r7nmmrZSyJdddtkKpZBZpUpXCrnQovNBscz3fkqA8414EZyvIwmwXVKCAEf5YrOXjbFBeomMEvFE5wsphPxESd6y3SaRJozluB8hu0RncWcgumW9Nxm35yp+NTUt0dhFi6Tp/PMlefXVK5w1jsh9yb33SvmZZ0qqvFzqvvhCGoiiJRKBIz25vrrpCDBEt1+/akNy77qr1mh9ne3jj4kGV8qbb7YU7KiuTsnOOzfJ+++Xyrx5JW2bVlam5OCDW6LCe+2VDGWnBknj/i0ECURUmlpLip3yCWek2CmfCEOKmcihZY/Czi/xxRdS7aiiyM2w5IsvRHr3znUr+vo8k3TH10HyvDF5By+//LLRLYdJMKa62muvvSYTJkzI8wj0dJ0BASXAneEqdLE+8HBiJtsRjeVQHmgsSUVZcIMx2QpavEzxb1xrrbUMyeb/seTZZ5998jJkIg1EZvfYY4/YzwfZhgSThEQ0Dq9MEjr8+hiXXnyxlF1/vaR69ZKGzz6jjm67vkOusXfjukXWfvhBKtZZRxKNjdLwj39I3YknmkMHXerM1a90xvxTppTIPvu0jHXaNMo/r5joRtXwe+8tl0svrZQlS1oiwLvu2iTHHNMoEyaUyejRZdLYuDwy3K9fsxx/fKPRC2+wgf/EuUIiwFFrap3XkO+xkxDz7MhEilnl8XLfRGkpVjZqlHQ766y28sfJAQOkprVsbq570c/n2fyr/Rwnn9sSsZ44caJxrghjDUaBCZ6lzzzzTD67r+fqJAgoAe4kF6IrdaMjCTBJMSyNsWTqLLUbBl9ekiwTQgDRZZHk5iTX/D8ZyWjB8tGIyKK/9bMsHKRfEAT0zUTh0NmRzUx0LFCbO1cqNt1UEsmkNN56qzSfdlq7wzCJ4Fzo46JsZUceKaVjxkhy8GBZ+sQTsUaA0xHg224rl4suqpI+fZpl1qxlphhGpoZd2vnnV8qYMS0Vvoj6Dh/eIL/8ZYM89VS5/Pvf5TJ9utUNtxwFogwRPvzwJunZ0xtyUS/TeztrsK3Clm32e1Ym7m5NMRZZTHQhWvbHyifcpDhKS7GqU0+V8kcfldRKK0nip5+k4ZRTpL5VU+p3XNm2j8JPN8r+eDkW14RABytTYQosnXvuuSZYQ7EKbcWHgBLg4rvmsY+4IwkwDzOMx7HTIgkmTOMhS4IIEVfszFj2T0cAcUl44403jO44DtmFewxxyAWc5+D68SK3dm7IPqKIzJZREQ5f3k02kcZ33xUpWb7EH5d2u+Thh6V86FCTRb8E/fGaa3qK5AW5b9JpKYcOrZInniiXAw9slIcfrst52FRK5Omny+SCCyrbJBCbb56UW2+tk+23b5b33y8xRPiRR8pk4cLl+PXokZLDDmuRSOy2WzIr0S4kAhx1UlnOC5BmA0uKndFing24vNhEOyuhIGLNT2iHllRKemy6qZR8+22bA0TtPfdI09FHBxlC1n0o/4uMIGgltMg75OGAuO3gnsBzPox/78knn2wsG6ncpq34EFACXHzXPC8j5gXREQ2yNnbsWBMZyJWclal/zkQvlj6JfDp9Gd37YVVDRnLUsotM/YtTckE0Gy0rkXTraMHfUbhqJN54Qypak9wannlGUo5oL+fFOxNroEjb0qVSsfbakqitldq//lUaTz89rwR4wIAe8tVXJXLZZfXyxz96lwUtWiRyySWV8sADLdXzEomUnHFGo1x8cb0wr0Nh9MILZfLgg+UydmypJJPLQ8vrrttsosLIJPr3X1EiUUgEuLMm7EGK3fIJnnlEhJkEY81lo8VMmr3IJ5z3feLTT6W6tbCO/f+lH30kqX79Iv16cLC33nrLrPBgKVYozZacDlsh8Be/+IVstdVW8ve//71Qhq79jBABJcARgqmHWo4ALwgiiR3RqM2Ob63f7GD6SxIL8gJ+J5uXF1mulxfRCPRoUcousuEWh+QCwksEE3KEnRsaZyIrkWpzsUTbYw8peestSe6/vzQ9/XTbMG3yIjKSXHj7vafKfvUrKf3vf6Vpxx2l5sUXIz++7Q/3DbIRm03/zTcJ2XTTllWIMWNqZPfdk367Lq++Wirnnlsls2a1RHv792+WG2+sk/32W36sefMSJiIMGV5urdZCmgcNaim0ceihTdKtW8vpucfRPUblVOB7UD52KCSybleMIGdMnCHIPAeJFLvlEyzbZ7vPy++9V6p+/3tJVVRIoqFBmtdZR5a9/74P5LxvysST5xw5DYXSrD0ez9wwzwsm3Pz83//9X6EMXfsZIQJKgCMEUw/VOQjwuHHjZMstt/TlD8kDFQ0n0VyWAjEf95roxYuPjGSS0njxxd2iJItEuyFDWDcRMcfCi+Vc21jOZYk0Km1uyUMPSfnJJ5vDN0yfLqlNNjG/xykjKXnmGSlvXTpeMHWqVGy8caiXZqbrCwGG8GDNRLMFMEpLU/LVV0vdeX+eb5PaWpG//a1Cbr65QpqaWiK9JMhdd1299OmzfJLJfPOdd0oMEX788XJZvHh5VHillVLGSg0yvNZaX8uXX35hVkk6e4Osk4RZCH0FS6wRmRATVaTxbLCaYhsx9kKKq4YOlfInnpDmVVeVkoULpfG446Ru5MhYLhfyLZ53uLoUSosqORInFKqvYWWmrfgQUAJcfNc8LyPuyAgwljY2eptrsM7IJ1EQ9vObPEdGMiU1iag5yWOucwf93Dpd4DrhlaS7z0WEm+VlSD8NfTNG6+5oSuTR5oYGqdhkE0l8+60kf/c7abr5ZnP+KMaUCc/5c+fKmttsI+XLlsmHJ50kc447zkTkuFZWuxlGR2jPi2YawmMJsLsARtDrbfdD/3v22VXy7rstiXC9ezfLtdfWm6IZ7uS6ujqRZ59tiQq//HKppFLLyfD669fLXnt9KcOH95Wf/axjVmm8YkHCJ04kUdiKeT1nmO3c90C6Y1lS7JRQOEnxSj17ypb77SdlCxe2RYDrbrlFGocODdO1jPuSTIbciTyHQmlRSGN4BuKvi+8uWmBtxYeAEuDiu+Z5GTFLwehxO6Khx8WtIVuNeEgrUU+iS0Q+0fkG1QzzIEV2Qe33Xr16xT5kqs+9+uqrRpcbhLhBNvH+JOpqbc0ylW2OMtpsgSm99lopu/zyljLFs2ZRAcJE3rluQceUDnQiceiXiRbtfu+90vvpp6Vx883ly6eeMsvT/HBeouBMeiwZtv/6nVy4K2rZAhinntogN94YjSY+mRS5445yueqqSqmpaSG1e+/dJDffXCfrrpuezH71VUIefrjckOHPP1+eOEdp5n32aSm0QRnmysrYb13fJ4jSVsz3yQPsEKSohE0atoQ4+d57st1JJ7U7+4zHH5eKrbYyE7dc8gm/3Ua+NWDAAOnTp4/fXTts+ygmRuCOpeOdd94pRx11VIeNRU/ccQgoAe447Lv0mTuSALOkRzQzXVYzDz1cHSArEBwinySAhNGRcSFJvMOUPR8vkaBWb0SZGDcOD+DD2HNZCPFSfv31140EIhNJ9n0jf/+9VGy4oSTq66Xp2msl+Yc/mGVjXsQUEwlbShpCy+QGaQcTEmQd1W+8IZWHHGK6umzqVONEQeN+YEJhyYclxfw/yUtOUkzGfzYMWP7m2iC/cRbAGDmy1kRpo2xffpmQ3/++SsaNaymg0b17yiTInX56o5S1/NcKDYnEm2+WysiRDTJmTLXU1i7fkCp0yCogw1tv3TET13R95rsK2clH2e8ork+maoB+jl1+551SdcEF0lxVJSV1ddLYq5dMfvpp+WnJEqMx57nltGPjdyZwQZ9hrJgh2ciW6Oun//nYllUBosD4AAdtfMdxgMADOO7KoUH7qPvFi4AS4HjxLdqjdyQBxpMX4sOynrMRCWTJH7N7vHyJEkdlWxZEdxz05rBWb141x0TiIb0QNF6URLu9JgjG5XBR9rvfSekDD0iqf39pmDFDahsbQ/s380Kz1er4nXGyrAsxaG5okMoNNpCS77+X+mHDpOHiizPCD16M20mKIckcB423UzrB3/Yecuo/p04tkSFDshfACHr97X4Q2kcfLZPhwyvlhx9aIrvbbttimbbVVplJLITy448hlrsaS7VJk9oz5i23TMoJJzSaqnVOjXHY/gbZHwKMDjgM0Qly3qD7fPjhh20T66DHqDrxRCl/5hlpXmMNKZk3TxoPPVTqHnzQTNbSySecpNhZ0c4LKbYV1bBtC7oCFnScYfZjcsvq1Lbbbhv4MExWeT5gp8bqnbbiQ0AJcPFd87yMGIkBkbiOaNR1J3oHAaJBZliahAAji4AYB5EOZBsLURRbHjjuMVvNMQkcuaog4a9LVIoXp7N6ndc+RhmZdZ4z8f77UtEavWl86CGp+fnPTTnSPffcM1CxDQgq42S8RP6Z4DijtbzoS847TypGjpTm9deXZfgQZ6tK4QIIzN2kmBco5JfIMMSDv7nneSn/4x8VcuGF3gpgeL0WmbZbsCAhF15YKY880lJAg6S7885rMEU0rPODc1/38vHs2Qn5z3/Kzc/cucslEuXlKTnggBZvYaQS5S2Hz2tj4kakD1eXQmhUVWMFg+9aoNbcLNXrrWfKhqeoPrdsmdRde600nnVW2sNxXzOhdxbv4HevpJj7lcJBYSuqBRpriJ3cyYZBDoWdJM8J5GCsEmkrPgSUABffNc/LiDuSAL/33nuG/PAS4kHJSxRpAgQ1bHGMTOChyYV45cNKyHodkxiEgX26BnGF9BMRDUP6eblCTPHbzCWX8Htjle+/v5S88oo077abLHvuOVPAxGtU256LF/isWbOM3IGoNi+ydE4cEIXkxInSo7Va3zLOGyJ6xPkhGZANqyfGSYT+sER9ww07yMsvry5DhiyThx6qMaQo6BK1V1xfeqnUyCLmzGkhseuv32y0wVihZSPA9jMk+xMnlhqt8P/+VyZ1dcsT51ZfvdlEhCHDm22WP4kES90QldCFJbyCGHI7nj1Mvt2rT14PW/Lee9Jj993bbe73XnWTYruSwTOZCpZOSzaixPgA8ywJXOXR6+Ai3C6I1tp9emRS22yzjZHE9YvBXznC4eqhYkJACXBMwBb7YTuSABOF4aEPCbRL/nFrc9HJ8hBFVpGPRtIdURu3bs+Z3Ac5hhDmihJn669fuYWfsTvtyWpefVVeXLhQvES1OYfbxYJxZtNym0Sjujqp3morKZk7VxrOOUfqr77aT3dzbssLlcRCJkG77baWfPddhfz61zPliCM+NsTDqSfm96hXIejg0qUiV19daRLlmptbCOyvftUgV11VT66haV4Sy378UeTJJ1sS56ZMaV9+ebvtWhLnsFWLO+eTJFWcSNDXF0KjnDfXluSqIK38ttuk6qKLpBlpzbJlkqqulqVz5khGYbfHkzhJsdN9gucFjWcFEgh7j+Zjwuax62k3i0JqwrVixYlJbFyBkTBj1H3LNSgHAAAgAElEQVTjR0AJcPwYF+UZiITZh2u+ALAa0Pfff99E4shshpRGpfPNNo7JkyebhIqgLz6/GL344osmesE5LSFEK0lkhPEi/4giuc+P3MLvGCSZlIottpDE7NnSdMIJMvqYYzxZySF3YNmSiGsuFwvbJ5tpX3nJJVJ5883S3K+fLPvww3blmH3337UDBBhysfrq27YVwBg9eplsv337JDteuNyfkAynnpjf/TpPZOrz22+XyDnnVMkHH7SQV0ol77tvk9x1V50sWPC1iXp51T1+8gnll8vkoYfK5bvvlkskKitTcvDBLVHhvfZKSml7nhwWTrN/FFrPSDri8SDIr5iU4qsbpHU79lgpe+45aV57bTNRaxo8WGqfeirIoXLuw3eCycX06dPNpI3vFfemjRQ79cRMojsTKQ4baQcckm4PO+wwIw+LLME3J+q6QWdCQAlwZ7oaXagv+SbAEA8S3EiM4MHNcrPXF3wUsLOMSAQlsPbPZyeQC1BxjCQOoo7oX3l5QcB5+Ub1QOc6QrbDlJbONrTSW2+VsgsukFR5ubwwcqRsd+CBGZNxbHQbUkREn6iv12VbS4BZYq7eYw/TpZrnnpPkbrv5RD7z5pYAf/HF9nLSSd2MFjddAQz6wuqE23kCaQvjcXoU53KeyNb5xkaRW2+tkGuvrZD6+pZocM+eKXnwwS+ke/dZvr8fBAvHjSs1WuHRo8ukoWG5RKJfv2ZTepnkuQ03jM5buNAI8Ntvv20mpYHKCjc1SfW660rip58k1auX0QHXX3yxNAwbFtk96j6Qu6Qw9yZadremmO8eKxbuinZhHVuCDoziPESt0zn9eD3mmDFj5PTTTzd5A/kIknjtl26XPwSUAOcP66I6Ey9zNJJxNzSqWHuxrIu1F4UsSJqhhGo+q0fxQEYjaxPv4h43ulzILiSKaB5VnNA4+y3ikaufsXsc//STVGywgSSWLJGZxx4rq9x00wpeyk65AxMbK3fI1Xfn5xyD+zHV3Cw9dtxRSqnadsopUj9ihJ/DZN3WkrX//ndnue22Ctl666S8+mqNp+PzfbF2bJYY8zcNTbOTFDudJ7wc/JFHSuW007q3bYr/70EHfSW33NJLVl01GFlduFDkscfKjYvEtGntQ7+77NISFT788Cbp2dNLD7NPKiBjFCwohIYDDc+hbB7kmcZR8vbb0mPvvdt9XDNmjCRdmuAocWDyDGnHfjCTRt1Nitv8ilnBcZBip3wiyj6mOxYBB1a4Ak00Wg/4yCOPyBVXXCFffvll7Pr8uPHQ4wdDQAlwMNx0rxwIxE2AbQlfSAdRMoinLUJB0hsPtd1jfHG4h28T74jKxt3AFgJMVIaxQwjjLMCB3pgsfK/WaX7HX3r++VJ2++1Sv/LK8sO0adLbUZIV5wWi237kDunO30aAUympvO46qbz2Wmnu3VuWffqpRGVvYAnwsGG7yeTJpRK2AAb3uLOMLsTD7TxhiTGR40wEZsSICrn00krp1i1lbM2s08Mqq6Rk+PB6+e1vG0NB8MEHLeWXH3mkTBYuXC6RwJsYEkz55d12S0rJ8o883yIkODIRsKWFPe/YQRsihUJOECSpquKmmwSJTvNKK0kJUeDycln61VeS1sojovEhgeDZtddee/k6oiXFTj2xlfZAitPJJ3ydIMfGWJdBfqneGbTdfffdcs899wg5I9qKEwElwMV53WMfdVwEmAcvWtdPPvnEjIGIL9FP58sfmyc+9/tQDwMKSRkQlrhf1GTEI/VgCZ1IE+eL213ArTcOg1PafWfNatECp1KyaMQI6X7GGYbcQ35IgvIrd8hFgEs++0yqBw40m9U8/rgk9903kiHR13nzFsnBB+9hJAdxFMBwOk9YBwqrYXSXd7Y+sPvu290QcuQJI0bUydVX18rIkatKXV1L5HajjZKmpPJ++4WzLWxooCAM5ZfL5IUXyiSZXC6RWHfdZnN+fvr39x51dhYXieQixXwQiBmJsDyT/LZuRx4pZS+9JMn115fSzz+X5E47Sc2LL/o9jK/t7fME95WwzUp73PIJnotuUhw2CTSK8s033nijPP/880LhJG3FiYAS4OK87rGP2mouozwRUUDIH1HBbFpXrL9IhBsyZEiUp896LKKUyDHCGLNnOwFRMMaOlzEvWCI3vGTDaOC8gpOPIh9lRx0lpaNHS8Pmm8s3zzwjH3/yiSH2QeQO2QgwEzP0ft333FNKp02TxuOPl7o77/QKRdbtIMCTJjXKmWe2OBZMm8Z96p3sBe0ETh3Wis2SYogyzhNNTb3l8MN3klQqIffd95McdVTCSGbee2+hPPXUTqZEsm0kyUGEN944vM3Z/PkJExEmMvzRR8slEolEytiyERU+5JAm6b5cmZF2+MibIPhbbLFFUHjyuh9uMDybmJz6ao2NUt2/v/H9bf7Zz6Tk22+l/g9/kIbLL/d1GL8bIxdjkoH7ShzNTYqd5cfRD7sr2nl1RomifPPll19u3hOscGkrTgSUABfndY991FESYKKdRHTR9bK8SKJZtuQLkhrQiO3f6vka+2BFTP94uEdt2O+MhCJBQOqB7GHKlClGkoCRe9zt5ZdfNkTU90vdR8cS48dLxYEHmj1eu+YaWeXQQw25jyqZz0ogLAEuv+UWqbr4Ykn17ClLP/sskmVmZDf//GeV3H77htKnT7PMmkX1OB8gRLSp0/Jq1KgyufzydaSsLCmjRj0nq6xSZogxpBmXlI8/XkX+8pdqeeutFpJaVpaS005rlD//ebltWphuUa3unXdaJBKPP14uixcvB2SllVJy5JGNhgzvuGNzWqz4XtHXQiHAkyZNMqtS6FP9tJLJk6WHayWi5tFHJXnAAX4O43tbd1EU3wcIsIM7CdRGjPluWlLslFC4STH7IwHDBSeM9OuCCy4wHtOPP/54gFHoLl0BASXAXeEqdsIxREGAiWKRWU9kjQcd5I8HY65GYgfLWtR3z1d2L8v1RGejcp4APxL7iIBBAhk72eVW7pBP1wkqRTHpCKO3y3bNIPmfffqprHfYYbLSnDnScPDBknrssVyX2dfnbgKc+OorqR4wwByjdtQoaTrsMF/HS7cxBPicc1aXCRNWlwMPbJSHH64LfcywBzj++CoZPbpc9t23Uf71r4VmkoaEiH9pLaSjm7z55vpyxx3ryPz5LRHh3r2b5eKLG2To0MawFrRtQ6irE+MeARkeP77URKVt23jjpBx3XJMMGNAkO+7YolWmRVHwICyGfvYPGpms+PvfpfLKK40uveSHHySVSMjSL7/EoNfP6X1vy2oAJHjHHXf0vW+UO+QixU5CTBIokfaw1etwgIBc33fffVEORY9VQAgoAS6gi1VoXWXpMkjjpcyDmaU5fFHd5C/XMZFIEIkZPHhwLMUG0p0fks6LZNddd83VvZyfY+WGpIJxEOHF1sxN5PPpOhFXlTteekT1kXZA8td49lnZ6pZbJFVSIg0zZogE9FJNB7CbALNNt/33l7I33pDGww6TulGjcl6XXBtQtWzw4A1k/vwqufTSejn//IZcu8T6eW0tEFZLbW3CaH9POaXFlYUkUXCnupp1niAKN2/eUhk1qq889dSG0tBg9cF1cuWVS+WAA8ojnUx+/XXC+ApDhj//3Jkdl5LqapEvv1xqEvO4N3geEK0uhMZkkWi134TRboceKmUTJkhy002ldOZMSW6xhdS8/nrsQ+7Mlfa47qz+ORNBeSby/zT8lrFCs9p3Vjb8tBNPPNGsMt18881+dtNtuxACSoC70MXsbENh6RLi4aexJEXUB/IM+SPT128UN87yvZnGAqmABIdJJqHfLPlCpMkiZyk1k9QD83oe+PkgBiScYOsUxnLIjRsvNUg+ZN+S/DfGj5e9TjpJShctkqbf/16S113n59bJum06Alx+111Sdf75kqqqapFBeFhdyHaSqVO/kSFDNjGbjB5dI3vsES6pLOzgn3uuVI49tkVkO3PmUunbt+W7aAkwETR3I2Fp5sxaufzy7vL88yu3fbzTTt/KWWd9IZtttryiHZG4sAmYPB7efLNU/vWvMmOpJpIQbNp++GGpcY3gHqEhwSmEhlzI99J8fb1Ur722JOrqpJnJ7hdfSMNvfyv1118f+5ALzWcZ8mudK5BkQZAtKSbp060pzkaKDz30UKN9vuqqqyLBmX4QrGHlDjs8K4cjGZuJkbtxbzttM3km/ulPf5LHHnvMvP8I4Nx66615qy4aCQgFdhAlwAV2wQqpu34IMA8Poj3odyFakCKvCRFuTJBOkLjltaxuFJiGcZ7goQ55RkZhbc2IbGRrWPdA6rbccssoup/1GMhJSLgLWt3KeXAjd/jsM2NTh06SFwD+yTQizQOfeEJ63XGHpFZeWRpmzRITDoygpSPAiQULpMdGG0kimZTaO++UpuOPD3Wme+5ZLH/4w9oZC2CEOniAnc89t1Luv79Ctt02Ka+8styPOBsBdp7m9ddL5c9/rmzz+S0vb5ZjjvlWjjzyIyktXWai9k7CwTK1dZ7w291//rNchg2ratvNTiCo+GcrG/o9Zr635x6DABNZpyiO11Y6aZJ0b9W/p8rKJNHUJLX33y9NRx7p9RCBt+O7CImM270mcAfT7Mi7ghwIyhizQmgjxU5LNicpdluyWVKM9/ExxxwjwyIqNDJ8+HB54IEHjA+9mwDz3LveNaFhouT0bT/44IOFSoI33HCDkfpdcsklRqqETZ19RkaJox5LcB7yGaJT1BQBjwh4IcBsg84VyQMaV4o5EFkK03ggjh07VnbeeWezRJaPxkMPUurHeYKvnrUhIvJGxBedrZeoGsQAop+PAgFYO0FWw5R5tvZ1RPchTkT0bBlne32QraxXUSHrDR5sSEDjTTdJ8+mnR3L50hFgDtztiCOkbNw4adp3X6kNmQxz7rkNcv/9q/oqgBHJ4NIchFXiTTbpIfPmlchf/lIvw4cvl2N4JcAcNpkU+c9/yuSyyyrl++9bpAqrr94sF11UIwcd9L3U1Cxpc6DgfoSQWMJhyzznqhZWUyOy1VY9ZP78Ell55ZT8+GNCTjqpQW67rV6wF+SYPBc6e7P+3H61qRXXXGO8qZvXWENK5s0zw1z6ySeS8uskEQCgQksyZIisGkEUsxXvsIVlnPIJ5D6ssp1//vnmWYurECt2l112Wej3BMEbIr6QV7TFbgJMYOPZZ5/NeIXwj+Z9NXr0aDmwdTKEPIVAEFFgjqktegSUAEePqR6xFQFeiFav5QaF/ycKSNTTVlDzq5vLBjQEeLvttjMesvloJMChy93Xo6esLfDAch6RVR50vOi9Nh64FEWIy3bN2Q+iLejtNtxwQ6/da7cdLyEIO9EMSDS6u3SyFhJbkH5s8H//J6WPPirNG24oje+9J4EqKLh6mokAl/3739LtjDOEyBtFMVKrrhpojOw0aFCpvPtu99AFMAJ3wLHj1KklMmRIy0TytdeWyZZbLrc248WKVaAfxxJy5q6/vkL+8Y+KthLI22yTlOuuq5ddd02a1QiWbZ3lnbnutoSuJcPp9Jo33VQhl1xSaSLnZ57ZILfeWmmI8KefLpXPPvvArARBWDp7Y6wkwZFQBuHx2rr9/OdS9tpr0rT11lI2fbo0r7eeLJs+3evuobZjGZ5rlw8pVaiOOnZmlZBgw6BBg3wdkncOz+mHHnrIPKuZcPP85brxbCNyf8ABB8jQoUN9HZeNSbgmik4UF2LulwBfeumlcsstt5j+OAMgHIt76ZlnnvHdJ90hNwJKgHNjpFsERCAdAbZlbYkE8kDCXQDS4yXq6acb48ePF6qyrbHGGn52C7wt0QRm8VivZRsLmLDsCAkJE/Emao7bhR8SE3RwOE5AYPySEOdY3XKHdH1BaoGub/0FC6Si1Zi/8amnpDkCK6hMBFh+/FGqN9xQEvX1UjdihDSeckogmCgC0bdvD2loKImlAIbfTl1xRYVcf32l9O/fLO+/396OLQgBtuf//POEXHxxpTz77PKEI6zMrriifoUCF85qYc7lab73THohwyUlq8gBB2wsixeXyq9/3SDDhjXI5pu3kMdRo2pl/fXfNcvEPCc6e2M1C1JFJI/KfJ5aTU2L/rexsS0BrvHEE6Xujjs87R52o0KKsNuxMnkjch2m0if3Jpaa999/v5mQ84yjJDTPKcoj+2lods866yyzkmkj024CzLG571npwynoyiuvNBIO25Bi8L1ktc3ZOC4+xbwztEWPgBLg6DHVI7Yi4CbAEDYil/xL1JNooJ+opx9g47bucveFFzwRTCLA6bxreeAi8+AhiQbNOlv4GZNzWyLnRELyYV/EQ50XujNhI1u/rdyBa81YkTt4icQzgWBSwH1RPmiQ4I3aPGSINI4eHRSmtv0yEmARqTrxRCl/5hlp2n13qR0zJtC5nBHXd9/FvcNf8megk2bZaeedu8uMGaXyu981yN//3t6NJQwBtqecMKFFH8w5aFVVKTnnnAb54/+zdybgVo37H//ufeZzMs/DpcSfjOUSN1NShuiKSylCyZQIt5smYy4hIgllSIpCSaQoGboiUpF57pq5xs487f/zWfu8p9W299lrrb32PufUep/nPJ3OXuud9/t+39/7/X1/l1eqIQaTna/Jd+auu7bQQw+xDtTooYeWqHXrXA0cuLeWLSvSCSegR/yGNfe83j743a8N5YcFHIdRlGDs3M6G3sl68UUV1knwRQoKFCorU9ldd6m6T5+MVJ1AEM3lgGE6xA/tYoAot1roCduBqNtOhz/NugiNol+/flZ+sRZgrLsEL+IQR93hAuPEzB71t7/9zSrS7BtEprOnkSNHasKECZZlOEj+90AAgP3v0yDHuh7gaomFxq5ugDMVlsR0k/rToVzQ0MDCL8OJK570GtZhrhpZLNnIvShbxJaN0xx6rmYBTeekW7lypXUN7eSa1E53SCThlqiu9uAe4cceU86ZZ1qPVq5YoUiKKgANAeDsJ59UwVlnWdqrJVwJb7+96+68664cDRuWr002qdR//1vRKAEwTKW/+CKk/faLWlGfeqpURx65rhqFHwCYvKurpcmTc3T99bn65ZcoP3i77Wp17bUV6tGjOilzhT19331b6I8/Qurbd43+9a+vLQrF9Okb6fbb97RA8ZQpC7X11tmWtY5bCD+UJ1wPrsMXoCRxi4Fl0qkDb+511ylvzBjV7rijwl9/bZVUvHy5Ih7pRg6rWv8Y3236NRV+v9syU33eDYc9UVkYYVC24XCfCo1s+PDhIlQ8h3doXfEAcGwd2Cu4nWQ9fbbuwA0Axhg0b968dR4fMWKE7rnnHsvYEST/eyAAwP73aZBjXQ8AfLm6QWqHRZaTcqac0rhKgv6QiVDBNDee9BobIlQPpxHs3EwcQAwbQbpCmNrrghcyi3tD0bjsdAf6nbF2agUzZa0T3KOqSrl77KHQN9+opn9/VY8f76Z7/vRsQwBYZWVq0bq1QsXFKr/hBlUNHOi6rLPPztesWTk6+OCf9Pzza9UMXGfkwwsGjBNp7fPPi5Wbu26mcO/hQsJ59CP9+qs0enSeJk0i9HI0uMUBB9ToppvKdeCBicMqX3NNrm67LU8FBRG9/XaJtt02ajUnv912a2FxjQcNek/HH/+tdX3Md4x5aHjE5l8O035TqLz0C8AGIIRjlVNN2sLOnZX1xhuqbt9e2W+8odqtt7a46Jk6QQEAsYT6ofDipc+8vMPhH4soPh5eE7dxAFD2J6/RNPkeYcx58skn6/XfocB069bNUgOBnpaICw61AeoEztOkgALhdSRTey8AwKn1X/B2Az0AvwxNRBYJuJ2Z3KQyGSmNLjDSa1h/2JAB/Xbg70YWycmkYgEnSl4q13dOyuGZhiTXAJZc6wH0jS6xV2dGeHKAGsM1zrr5ZmVfdZW4GrYk0Tbf3GmV3QFgrvDPPVc5M2aopl07lcbR7ExW8F57Femrr8Lq2/cT3XHHtskeT+vnJ5xQoFdeybbCDE+e/OdodH4DYNOYjz8Oa9iwPC1YsNaZs2fPKssibDSIzbM//hiylB9KSwG5lRo1al2axumn5+vpp3O0336/acqU/1oHWTi23DDYHe34G5YzA4aNAgXKE5lcb2gXdYP7iXOWoxDea9aoxU47WTJ8zLusFStU1b27yqdMSev8sGdOfVmbsYY2lwT9CyfiVBRwoGdBH0OFxwk9K17fGGtvon6D6xvL6TXPDhgwwArBbABw4ATXOLMvAMCN0+8bRKlw4qBAONoMfO4RvHyxQGZKQN9IrwHesMwCDJFuShfwh/4A6ERkPd0pkeQaQITP2PihdsBzcxu0xF73P0W3+/ln5WKZLS9X9fXXq2bwYM9NbdACLCnruedUeOqpVv5ur6C/+y6k3XePUg5uuWWZzj+/8SS7sJ7usksL1dSEdP/9ZTr11Oo/9Vm6ALAp6Pnnsywg/MknUX5wYWHE4gbDEa6TfLb4wyhKbLRRRO+8U6xY8Y05c7J1xhlRfej58z9Uhw47xD3UsMYYUGyAsV15wm4tdkpL8DrJKJ+Dd0PyXPa8s55/XoWnnGL9KbLppgr99pvKb7pJVRde6LUKrt/DYg29BEfk5pJY9zA4NHQjlawt0K06d+5s3Sokk+lLlBdybFBI7In/X3bZZRZtATm8eFZqbgqwPqPhbqTRjAwaFAiUKEjsI1BTAhm0ZKPp/fMAAHvvu+DNJD0A+GUzaozk5Nrez3oZJzisTkbqK10OftQbywEWdjjH6U6xkmtsPjjzQcMA4HuhO8SrM5sHm5H90JI9YICyHnhAkR12UOWHH8qKj+shAYANJz0uSK+sVAuCYvz6qypGjlSlC3H8p57KVp8+BZaM16xZi3Tkke091NCfVx57LFv9+xcoOzuizz4r1mab/TnfdANgSqyqkkWJgBrx229RWgSKFFh6DzywRu3aFamiIqQrrqjQiBF/DhldXh6lQaAJPGjQ9xo1ypk2uF15wm4t5oDKgdiuUQw49vM7CiDiEAcAdpLyrrxSuXfcoZpddlHW559br5QsXqza/fZz8rovz+C4y3rF97i5JD+CoxAoiVDIzJFUDu2xfRbLAcYvBKe3k046yTIQcFuGVjBrN5/ZnZiRUGP+2ANhwFUOAmGkb2YGADh9fbvB58ymA1hqjMQiyfUo0XbSmSgDHhmndRLODVhU0p24ugMwOtUdTqU+SA6xUWDNgNLC/7GmAVS90h3i1QfPaAAJfWhS6P33lVvH9auaOlW1dRYzt+1JCoAl5Q0apNwHH7TkqEqXLnXMwxwxIk933omTYLnGjn0lI46JidpvuMhHHFGtp58ui/sYHEqcavziADc0Fj//HLKc5B58MEe1tVEgvM02tVaAjk03jVp/E8WqufjiPD30UK523bVcb71V5ZkWGxspjMMqV+jMCRQm7BrFcDa93liZEL1Ob2UKoUqsWKHqww5T9uLFimy8sYpXr5ayopbzTCQ4q9xaIf/VXJIfyhWzZ8/Wv/71L8uR2E+qTCwAZm8YOHCgpfrAdw4nTlRCoDzEKvgwL00oZPaVIBRy+mdkAIDT38cbbAmNCYC5JmOTS9cmT9uMrJmxWnJSBxRmwprCZgt/D93hdCcWcQA3G4VfdId4dWZjo4zYq82crl0VXrRItQcfrKqXXvLcXA5j3EoksvhkLV6swuOPt/IvWbJEtXvv7aisLl0KtXRplnr3/k1nnrm03iHG0cs+PoQWcatWLbRmTUijR5drwID4h08/nIjcVvu998IW7eHll9fygwnR/PjjZdp66/iScYsXZ+n446N6urHBPNyWH/s831/WB0CHoU5wNc38AwTbqROAFidWQhwLOXg74uX/9ptatGypUG2tqjt0UPaSJb5EI3TbL0hx8X3z8yDrtg5un8dKik9FKsoVU6ZM0dixY62bLD8BsNu2BM83bg8EALhx+3+9Lr0xAXA6dXI5ySNrBv8Q7isOJGyQbCb8PxN8Oq7GkFwiApGTzdnrRAM0wmukPCTs4DW7VXdwWjbOdswZIirZU3jePOWcdJL1p0osZQce6DTLdZ5LBoCJ+1u0554Kf/edKi6/XJXXXJO0HEDnDju0sK7zb775e+2779uNBoAXLcpS9+5RwIhltWXL+MCyMQAwdYpEJBz0Fi9eC4LhAP/rX5W68MJK5eWt292Ec95ttxz99FO+CDN9/fXrOsolHRyXD0CRsYfO5XeUXIzyhN3RLp7yBIdEDt5OAjRkPfusCk87zZLei2y3ncLffquKq69W5T//6bLWqT2OWgG3ZJvF48qklnXa3mY9wmKNnKTXhLbu9OnTLcpBkDbcHggA8IY79mlvOVeMXOU0RmKTh2/FdZNfCR1fNjgiEQF6Abt2xxquE1mUU1mYndaVzRmtYxw5/OQxmvIZO+gOtBcLCQoPyDulMyVytlNtrXL23VfhTz9VTc+eqn7oIU/VSAqAoUEMG6bcu+5S7c47q4QwzKHotX2itGxZWJ06RfmpCxeuVlXVBxmRpotXn8GD8zRxYq722qtGr71WmrDOjQWAP/oorIMOKrSoEMceW6VXX822rNWkVq1qdcMNFeratXqdLu/f/2c99lhLS1/4/fdLMskOsOrFnLGrTvB7rPKEAcZwgDl4O5EmzBs6VLkTJtRHf6Os0ueeU01dYARPE9zlSxw2ubJHrgsaSHNJfjju3XTTTRYHF6NFkDbcHggA8IY79mlveWMCYOgJyJD5AdqwDBlZM3SMoTmw6cUmE8o3E9rDDQXeSHVgsfYCRrkiNiFoAcNONvZUyjZW9Xi87fCECcq5/HJFsrNV+fHHxB12XZQTABxetkxFdY6FJQsWqPaggxosZ8KEHA0dmq8ttqjV669/oU8//STt/RSvQlhX9947KsU2eHCFrroq8cGTuUxwllR0VF13viTDT95++1qtXFliObiNGpWrhx/OUSQSBcIdO1Zr9OgK7blnVD/40Uff1fnnR6NlPf10qY44Yt2gHkHXLXcAACAASURBVF7qkeo73PzEgmLWCLjDrHk4OxlQnEh5ovCQQ5S1apWqOcAuXKhIXp6KCYQRawZPtbINvE+dX3nlFYuLmkivNo3Fe87aD8c9AkwgI2lUGDxXJnixWfdAAICb9fA17co3JgDGuQH1Aqce2fFBRcQKYoEVlITaAUEeEnHGkNZBVD4TYVvjBd5IdTZg2YITh0Pf9ttvbznHQHfg/1gN/ThMNFRHxgsre1xgtmZNVBLtjz9UPXSoahzQE+xlMRdRzmDT5xCTUBIrElFR27YKf/GFKi+4QBU339xgtxpQd9xx1brzztWWg6CTK/BUxyr2/XfeCevQQ6OW6EWLSnTAAYkDUACAsVamEgHLbf1XrQrrkEOi9bv99nL167eWn7xyZVhXXJGn116LUiPC4Yj1OeoQH3+8RJdccoQ++ihPZ5xRpQkT/qxr7LYufj/P3OL7yHcEGgRgkhsa+OZ8f2IDd+T8/rtatGplVaP6qKOU/cILFg+4LCYMrt/1jM3PhG4mmmS6I3P62RYst6mGkr/kkkssCtsjjzziZ9WCvJpZDwQAuJkNWHOrLotMYyQ2IjxvoQh4SVh4sEhiDTWyZsm8wwnkwOYHTzbdCbC6aNEiC5TipJNKYgPHYg54w6EPjUqAvElYf3GEQ+A/ncmoTSRyXMwaMkTZ48YpsuWWqvz0UynfWcQ1QDUWbbjb8DkNMDHe/0Yay4xvfXjabbZRCdJrDXjlmwAYV19doTPPjFJGGgMAjx6dqxtuyLMUFj76qKTBMMSNAYB79izQvHnZatmyVsuWlfwpOh0W7CefzNaVV+ZZVmwSKhGnnfahCgu30m23bSki233ySXG9lnA656KXvPkOcfBG/5XvFLc0dik2fufvLd96S/uNGqVIOKzqli2V8/nnqhg8WJVXXeWlWM/vmNDN3Ox41cL1XHgKL/rBW+7Xr5+1xt17770p1CR4tbn3QACAm/sINvH6A9RY9DOdUEnAIotKghsvX+oLEGMzQ80BMOvUOhJPxzZd7QbEEYMejnMq/D1Dd2CzxnINfznWqc4Pa7qTfsD6jGUSABE3ffGFcvfay/Kcr7rnHtWefXaD2cJxBOzBy8TJB4s2XGZzhW0UAKB6kDhI0Jdb/vCDWnXrZv2tdM4c1SQINmIPgDF3bqn22ON769Yh3ZbyeI0+4ohCrViRpbPPrtS4cQ0fOjMNgN98M6yjjooe0u6+u0ynn55YG7ysTBo3Lldjx+ZaUeJIO+1Uqa++itIkHnqoTCed1Dja4snmMLrY+AfAqY2XjPJE4ZAh2uyRR/RH69bamAiHklbccINFhzDWYqfKE8nq1NDnzHvWSFQr0uFHkErdEr3rF2+Z0MOoX9xyyy3pqGaQZzPpgQAAN5OBaq7VbCwAbAJToJObzHJL37KwsoFh6QTwwvO1W0Gd9H8iGS8n77p9hkPFc889p4MPPti60neb7EAfugNAP5EVKFNBN5wod2T36KGsOXMsibKqN99M6KSGtRerL5QHrks5zHBogAccOx/4u10Si0PBweefr01Wr9Z3Xbvq++uvr9eKtYfYNQEwuLL/+utilZf/z7o1yDQA/uabkNq0iUaie+yxUh17bMM8WbiPtDFTFIgTTyzQiy9ma7fdarR0aamy14pAJJy2tOmaa/I0Y8a6gU/at6/WwoXx9Y3dfgf8ft6pc2Fh+/bK+vBDVXXrppynn7YswR8uWaLfIxGLW2yUJ7hNsgfuQLPYzWE+WftM5Dp0i9OpJJOsHm4+5/sLBYIww6ncfB133HGWceTKK690U3zw7HrWAwEAXs8GtKk1p7EAsHESgwOc7HoP/U6AC3XFSkggCy8bTUIVgzQNCgAYa5MbDU+AM5xerK3wE6E7JJNASpVO4rT5ADPKYnNLlEKvvKLco4+2Pq6cP1+RGOss1l1oCCiAYM3GiQ+rLwkwHA8Axysr66abVPjvf6t6o420dPZs/V5ebr0Ld9hQJ+68cydNmrSJ9t23Rv/5T6lc6cA67RQHz913X44uvzzfCjn8xRfJKQL0M+An3UFiqPp//pOlrl2j0myTJ5fp5JPdWW8nTVqlKVP219tvG7pLRJdeWqHrrmucADsNDYeTfg398IMVcZBkAHDNfvupdPHi+qyZZ3bqBGPFvObgZpdi43e+w17WKgrDEZJbq1T8JBxMT18f8Yu2AU2pb9++uvTSS32tX5BZ8+qBAAA3r/FqdrVlMce6munEhgFXjOs9LCfxEtxQrqwBXYAlKAAGLHmpL8AL4J0p7/qFCxdqv/3201ZbbeWoutALAOm0G2Bo9IuTvYw1FX4zmsPpTFjQoFvglJMwRSLKOegghd95RzUnnKDqJ56wHjXAHvoKliGAPWL59uQGAIe++EIt6kLSls6Yoepjj7Usc8b7HwvqRRftpw8+2FwnnPCVRo781rKiYS3HApxJi9rJJxdo4cJsnXBClR55JLmTmBOg5sc4w3w69tgCy7lt772jh4RwlN7rOKFSsMcee6pXr7/ozTcxHUfqrNyZX1OSVZobDG4S+E4mStlPPKGCfv0sNZPavfZS1ttvO3K2ZD2LBcWsraxXdisxvyd08IypFN9rtLfTze1P1m9uPveDtsFaweFv5MiRggscpA23BwIAvOGOfUZa3lgAGLADQMTBI1ayjM/YrABc0BygO/ghAwR9AqtKQg6rzz2OExxhg1GmaCjZ6Q4E6cDKncwqbs+PNqG96ZZP7ba5q1evtrSHk2k3h6dMUc5551lBBCrffVd/bLWV3nvvPevwQdsA9vGsYm4AMHUv7NRJWcuWqeqUU1T+wAPrNMceAGP06G/UsePX1tgDVCjbbqkDlMQLnOC2f+I9v2ZNNPpbZWVIEyaU6YwzkltYMwWAFy7M0sknRw+f06eXqmtX9xJm6LS2aNFWnTvvoJqakAYMqNDo0Y2jLZ5svLhVQQ1in332SfhofbjtAw5QeMUKhWpqVDZliqq7d0+W/TqfG+UJA4rNwQw6D99tOyhmLsY72MNXbizVEleNtT3MwZPDOFZrr5Zv+q5169YiGMapp57qtSrBe+tBDwQAeD0YxKbcBEAHi3Kmk+HIcp1urvj5G1fjLPpcJxopHa8LaWybcC7CAggvNxMJEXsAHxzeeMkL3SFePpmKOgcHm5+kKgrl5crdbTeFfvpJP/Xurdd69rQ4voxnQ8DeLQDOmTBB+UOHKlJYqGKclWxqG/YAGCtWFKt164ilMgEPnEh2xsHOHjjBrjrhxlLX0FwyPORQKKLPPivRllsmdzjl8AdwSicFAutvx45Rx7y//rVGixaVJospEreZAODJkztq5swWlsLFO++UNFkVCG6AmGMcShOlonbtFP7sM1WeeqpyH3/ceqz4008V2XrrlJcMvu/c7tg1irGYcgPHAczMPwAxP9x8cRhKduBMuWI+ZoBzMyHn4S17TfQTRoPZs2dnJJS813oG76W/BwIAnP4+3qBLaCwATKejksAmD0WA6394vmwInP5btmzp+zU14A1+bboDRpgJhTMIQTfgLMcmrJG0lw2xIauok8mZ7qhzpg5Og5dY1q8hQ7TpnXequrBQPy1frs1btkzaFLcAOPT99yrafXeFIhGVPfCAqk85pb4MewCMzz8vscBdos0ZqzCHCAOK7RqxiaTYkjam7oHzz8/Xo4/m6OCDq/X8886cw5xc1TstP9FzzzyTrd69C6yPZ88uVadO3g7BjzzypgYMONKKHnfjjeW66KKmx/01fQCdCrAJ/SZeCn3zjVq0aWN9VNWzp3JmzFDtrruqZPnyVLs74fvUh5sR+9zj/ySoEhgnWA8BxNyCZZK646XRgPZUlVaw0hNKmcBFmTJWeGlr8E76eyAAwOnv4w26hMYEwHCA4fUCfrlatwd3SMegUAbgAt5xJhIRkaA0EHnKJMAWFm7qwmeoOzjlBCaqM4cGwjx36tQp5bwa6hcnesNs3gD7kk8/Vef+/RWurlb1mDGqGTgwaZe7BcBkWHDCCcp+5RVVde2q8unT68uwB8CYMSMKPJ1ap4xGrN1KbECJkWIzwJj/J7qhqK6WWrduoV9/Dem66yp06aXOqAHpBsBQ/jt0KNT772fpkEOq9eyzZZ6sv/TpiSf+phdf/EuTt/5SV/j1AEhuIuKl7EcfVcH55ysC8DzgAGUvWaLKM89UxfjxSeeunw8Y1RMoR6yNrA8clKk7INhO3/FbeSLVduAjAHWtQT+BJIXgrIq2O7SpRIeVVOsZvN88eiAAwM1jnJptLVlsAR6ZTlg+AMCUz4IOz9eLXJibehM1DnCWKa/q119/3brKwwpMe426A5sWC7tf7WVzxBmJa0e8ztOV2Ny4Ro53vUn7uK7lB9427dv4oouU9eijiuyyiypXrWowYAV19gKAcyZPVv4llyiSk2NdVWuzzazmmwAYV11VocGDo8ATqzvBV7xczzJP7XxOwDGWqljPf4CxkWJ79dUsHXdclGNLcIn/+z9njmHpBsBPPJGtfv2i1t/580vVoYM36+8nn4R04IFFlvV39OhyDRjQdK2/tBWHMsAkNy7xUv6AAcqZOtWK+pa1fLlC5eUqu/tuVZ9+erq+Ug3ma5dt47sRG945VnnCAONUlCdSbSi3RNDYCN/sNbGGcDPIehnv9sxrvsF7za8HAgDc/MasWdW4MQAwzh1ck+G1DzcUTqZfPN+GOp9y4ad5jT7ndmARsUcCDUCI9QnAZNQd/GyvCbvckKKG27rHez7RAQJuLdYa5hIHGROOOrR8uXI7dLCyqpo5U7XHH99gNbwAYP3yiyVbFaqqUtldd6m6Tx/ZA2A880ypDj88CvD8lpXCedFuJeZ32mCk2CZO/D9NmbKVWreu0fLlzjm26QTAnHXbty/Sp58S/KJaTz7pjJYRb+DOOy9P06fnapttavTOO6VNlvtr6g7/G65tolDoRfvso/Dq1ZbVN3fKFOu14rffVqQuLLIf3yE3eSRzhrTPP3M4M8oTseGd3TjVuqlj7LNYrbHgJooW6SRvpN9Yy/g+xTpIO3k/eGb96YEAAK8/Y9kkW5JJAMxVPcAXwATHF0AC14vrrkwkyl22bFnGHCvefPNNS3WAdmPJwPKUKt0hXj+ZsMs4p/mhlpFoLDhAACKOOuoo6xHaxngCjI2mb2zEqpwjj1T4tddU27GjqubP9x8AQ4Po0UPZ8+er+sgjVfbUU5ozJ1tnnFEgEwCjRTQGhXWdvGLFirTdAECdMFJsv//+h7p3b6NvvilU9+6faMCAL+udnLASN8TnRK0Eqz4HQ7/T1KnZGjAgav198cUS/fWvzqzSsfWwW3+vu+53XXqpS/00vxvmID+s//Q7nNrYFPryS7Wo6+/Kfv2U+8ADqt1uu2iobQjkjZCcqFbYq8X8s0dRNKDYKE/EguJUJCUTdYcfhzfoXCeccIKl++4kSFIjDE1QZIZ6IADAGeroDbUYrq6xGqQzkT8LI9aBLbfc0uLgwZ1ELodFOdGVpN91AgBBS0AvN53OJCZqHXQBNhl0h/2iO8Trk4Yk5fzsQxNwAwCMQyEbNOOIV32icM/hWbOU07u3VY3KZcsU2XvvhFVio/ay6WU/9pgK+ve3InaVfPSRRty5kxWu1wTAMAUy/suXL7e40ulOH30UtugBpJkzf1KbNv+rtxbb+Zx2JzsjxZYuAIw03P77F+m//w3r+OOr9OijyTWJE/XTuefmW1HgNtusXG+99au23LLulJHujk0hfw4/fA+hJMWm7IcfVsFFFylSUKCaQw9V9oIFqjr5ZJVPnpxCiam96kS1IlkJRnnCrlHM70Z5IjZwR6qAE/8GvsOEMfaa5s2bp/POO8/i7KdznfZav+C9zPVAAIAz19cbZEnpBMAsvjhOsShiGeR63B4Ugqsurub4eyaSUUsAwKXD+kEbWLThGUNLgOvLBpPKZuCkXxjD559/3nI8iQ0u4eR9p89wtWkOLY7VK6AEtGmj0Fdfqebss1V9zz2+A2AVF6tF69YKlZWp/OabdeSsy/T669k655xKjR1bUV+eHxqlTvtq7NhcXX11njbfvFafflqyTnhhw+dMJMVmOPlYgP28MTAR6ZBkW7KkVHvtlbr1t3//dzRq1NYphb112qepPsfc5QBud0o1eeafe66l+lDdsaOyVq5U6LffVD5mjKrOOy/VYj2/D20KqpTf66NRnrBz2nHyZL02Tp4GGLtVnmDtI6VS5xkzZujaa6+1Dtl+UsU8D0TwYqP1QACAG63rN4yCWfQ4sfud7DJfXDmy6cSe5rlOJzUkTO9nvdLpLGYP8UugB7i+AH/6N93ti6ep7Ge/kRdWfMYLGgRqHahXOOUVZt12m7KHD1ckL0+VOKoliIzn1QJM/fLPPls5s2ap7MBDtNk7i1VREdK995apV6+1Dp6ZBMBduhRq6dIs9epVpXvvbdjSGnt1jVY188lqV37+OtQJgIkXK11ZmdS2bZG++y6sf/yjSg8+6N36279/vh57LEfbblurcePm6vDD2yeM5uj3PEwlP+hP8NP5fq6TAH5t2ij87beqPP985d57r/VxyZIlqk3BkplKXXk3mdNeqvnb3zfKE3ZHO9ZLACgg2B64oyHlEz/qfN9994kf8goAsJ+j3PzyCgBw8xuzZlVjvwEwlk+u7lAMgPcKEEwElLAWsNGnU/DfPhgm/DKhcFnE/UiG7sC1dWyIXyw4HC4y0T4swDie4HTnZ2J+wPGF68tmxPi6jjj366/KxUJbWqrqa65RzdChcauYCgDOfuYZFfTurTd0oA7SG1b+JgCGKYzNHRCUSpQqJ337008h7bprkSKRkKZOLdPf/+5OZQVqCVxiuPGpSrGZ+o4fn6Phw/MtXvSbb5Zot92SB+SI19aPPw6rffvCOuWHEu2xx0Lr5gH6RlNPOKVyeItVFgh9+qla7L+/Vf2Kiy9W3p13KrLppir+8ku5jg3tYyfgsMuaEo+z7GMxCbPiJiI2vLNRPjGg2ABjQ9/hVo9DWip1Hjt2rJ599lmLrhakDbsHAgC8YY9/2lvvFwAGvCDbg+eykTVLdh2PhZQN/oADDkh7OynAb64sdAdALsAaHjMbq91iwUGAq0U4wOlOhJXeb7/91qGYpFomdad9WPPZ0FCzIOSyFw519iWXKGviREW2316VOBbl5v6peswhLM2eeH8VFWqx664a9/tZulR3aIstkGWLBsCIBcDIoHkqw2GHGkez3NyIvvyyWMYJz+HrFrc6Xshep1JsfO/sh87iYm5ZivTzz2GdfnqV7r7bu/X3nHPy9fjjOdp++1otXfqL3nrr1WYDgAFUOGvGRmbMeeAB5V96qSItWqi6SxflPPmkqo85RmV1keCcjpvfzzXEWfa7LKf5caCPDe/M36C4se5jNSayJ+uF0xui2LJHjRplcfVZ04K0YfdAAIA37PHPSOvNdauXwgDQRtYMayhX49ttt52jqyvAMo5VhEPORDJUAaILpeKUZrdyG7pDPK4mQAbHqwMPPDDtzVu0aJHljMYVb6oJoEXYaLumL3xmDisE9+jSpYvra/jQRx8pd7/9rKpVTZ6s2tNOiwuAvTjBmYzQce0z9XjN0Gk69thqPfbYuhJfbNwoc6QbAPfqla+5c3PUpUu1Zs50LzPmxvs/mRQbFropU3bUmDGbKScnouXLS7Tzzt6svzj2Yf3Fsj1mTLnOPHONNR+IrOgV7KQ6V928T12xqiO9aE+GPlPdubPC772n8HffqeLaa1V52WVusvf9WW4rUMkBtDfVZOg7BhSjA8zf2AuMHKDd0c6J78WQIUOskPWzZs1qqs0O6pWhHggAcIY6ekMuxisAZtHjahwLIbJmbC6xMlgN9SuqECyYmQpNTF1SoQqwqFNn6A5cARLsoSErdyYB/ksvvVR/+EhlLuPohtU3VtOXPE3EOa9OhDnduim8YIFqDzxQVYsX+w6As154QXue1Far1VJXD/ha/xy9yTplGAB8xBFHuAbwTvsUrm3Lli1UVhbS2LHlOucc9worbgBwbL3sUmwcWL75plS9ex+skpIcdev2lUaM+NaaswBjrtfdWML79cvXE09Erb9vv12i2toyK1wt8nt+Ous57Wu3z7366qsWJQtQWZ/g/+62m8I//qiKyy5T3tix1kclzNMMHcwTtSMRZcNtuzP5PIcM9gIMDHY+sVGesHPaAcb8xO4ZF154ofW3yT4pcLBuoTyEQzYHYPuN40MPPaQbb7zRur1EH/rqq6/Wqaeeuk6XcSt11VVXWfXBjwCDzR133JEWmcJMjlVzKCsAwM1hlJp5HbEisXE6TSwIbNJE6kHVgcUFC6HblOnQxNTvhRdesJzS1tkEHVQcDWHDWcbKTRjjZA4aLKpwoVMJC+qgatYjRILj2pF6eUlYtTnMYHnBYZHNIHZjghKxePFizyGXQ88/r9y//92qXuXLLysSAzBS4QCT5/df1+j/9tzUyn/+aRPVYWKvdbqCjRBQkU4APG9elnr2jH4XPvywWNtv7/x7ZSrrh5SUyWvUqFzdckue8vIimj//UxUU/GIBEyPFZteGBRgniiL24YdhHXRQ1Pp7663lOvfcKisPaAVw6p1Y9rzMSz/fYe6yVtmVaMIffqiiuqhlFcOGKe/GGxXJz1fx11/Hpen4WZ9keSWibCR7rzE/j9fH1AfjAfPFDor5PhrlCeYh9Cok6nCAYw0aN26cL0254oorBNBlbbMD4CeeeMICu0OHDrVoXbNnz9add96p+fPnW/83aeDAgZoyZYpuvfVWC9zffPPNguuMU3DsbYIvFQ4yqe+BAAAHkyHtPeAUALNYmXC+XHmymSAr5DVlOjQx9XRrKTXA0B7swelmj4wPP1jI0p0Qj2fT+JOHe5KCGVOnmr4pq2jU1iqnbVuFP/5YNaeequqHH16ndmySJryrl/6qD4ChGv3aqp1CK/+zThADA4CJMuXmpsJNXS65JE+TJ+eqXbsavfxyqZtX65/1CwD/738h7btvkYqLQxo4sFI33LBWEo5DbGxoZ9YB5rZdmxhggnW3b998zZyZox12qNXKlSXKy5PFbwe0NBcA/PLLL1uShHZH0Zx771X+v/5lOb1Vdeum3IcfVvVhh6ls7lxPY+fnS1isOYj6QWvys14N5cX6inwf/gLJEgde5pBx9Ozbt691COdWgkPKiSeeaNHH+OG2zct3lvyw+AJeL7jggnUAMFJtGEMee+yx+qri4IuV1zjgYaQxYHzAgAHWc3xvAOr9+/fX6NGjkzUz+DyFHggAcAqdF7zqrAfYDAEfDSWjb4t3ugnn6+b6NF7eXLfj6AGnNFMJCwWLV7IY83a6AyCABThRsIdEdc+khZvNkjbF0zhNVD8WekIYM6bxnPhi3zMhl7GgevX6D0+cqJxLLlEkK0uVH30k7bhjfTH0OSDM67waOTLPCoDRViu0Qvur5OWXVduuXX3+BrClCwDzFdp99yL98ENYI0ZU6IorvMkL+gWAR4zI05135qqoKKJ33inRVlsltkbHSrEZUMKY/PDDlrrggg6W9fff//5VAwaELApJJg4Ufq4LgDMcRXHSMin/jDOUM2eOqrp2VdZHHyn82WeqGDJElSNH+lm0p7wSWVM9ZZaBl5gr9DFqNMkcoBNVBzodVlkOKay7WGzxR2DcsLq6TVhyAeRElkP9xViAyRPKHjzjk046qT5bLMUAcfxaMO48+OCD6tevnxW91A7qeQaOtpHydFuv4HlnPRAAYGf9FDyVQg80BIABR6gZYAFtyOHLS/EsdliQXMtqeSms7h04atAEGgKKLHbwYOkXgKETukO8KkF/oO9wukp3govJdVy8KFexZRsKC5ZfN5q+vsjIlZREJdF++03Vgwer5vrrfQPARx9dYAXAuKBoiu4uOUuVF1+sin//+08AOF0WyzffDOuoo6Lyeq++WqJ99vEWaMIPAPzddyHtt1+RystDGjy4Qldd5R6Mm2vr/v2L9OyzG2urrco1YcICoW4BBx66BE6sWNgAK8koQen+DjSUPwD/xRdfXBec1daqRatWCv36q8qHD1f+DTdYWZTOnq2aDEQLTNYfbqypyfLKxOeo7EDFat++veeQ7IwTHNuLL75YxuKKoeTbb791zbmF4nDRRRdZdD1UJewAGJm1448/3qK1cZNpEgCZ+nP44OYOhzzoD+x/9nTLLbdoxIgRllqL1wN7JsakuZcRAODmPoLNoP7xADDXUzhxcVLmNM91kVsLaLKmm8hsnTt39nS9lSz/eJ8DuLle4/Qfm+w8WAP2ndId4pWFFQELAU5j6U60C4tFQ/qbbC6Acq4FaReqEU6uKk3dmSdwqNkYAEBeU9bw4cq+7TZFNt88Ghijjj+eCgWCWC477NDCCoBx/9HT1O/5M1S7ww4qee+9ei3XdHNWr7suV2PG5Okvf6nVu++uK8Hmpq/8AMD//GeeJk3K1SabYP0tls3o6aYq+uCDsA4+OMr9xanv7LPL66kTHBQ5xJKwCNupE/zelJQhjHUSsG7WsfCqVSo65BCr/uXXX6/8kSOtm4nir76Sa+06V72a/OG4gD35a436BOsnBoYOHTpYhyMviXZz2wa14IwzzvCShfUO33WA7TXXXGNZcDlM2AHwtGnTrPxZD+08XhycueF86qmn9Pe//13nnnuuBYZZM+0JnjKfcYvm977oudHr4YsBAF4PB7WpNYmTO4CXZAIfYLkk4fDFApEO607KnFIPHcm1FYCeRc4kNkcc1j777DNrMfML7GeS4oHlAs9re7vs3WPX9IVXiDOHW8uFbzrKq1dHwyPX1qpq/HjV9u9vVTUVAPzGG2F17hy1vq58ZJn26x2VniudN081dSDHAOB0qRYAFN9/P0vnnVepMWPW8m3dTlO+e/Q1BxQvafXqkPbfv0hVVSGNHFmhIUPcW39NuWefna9Zs3K0445R7q9dvtlE1kPFJZZPTP0BwLF8Yi88Ti99EPtOPOtkFWAn1QAAIABJREFUzvjxyh8+XLWbb67qU0+1IsDVtGun0pdf9qPIlPJgPYazDP8V63pzSH5wwtl/MD48/PDDFgD1moYPH64FCxZYN4ysc4kAMJZdO8caazG3fnPmzFG3bt0skIt/hQnxbOozadIknXfeeRZ/ubmMj9e+bMz3AgDcmL2/gZRtADBfZr7obGxYSLlO9xJ21Wm3wfdEv9bPyGzJyoZzDH/VXHsBUmkz1k3APpQAv8B+Jikeb731lmWVpQ32ZCz5WPOxEAPuvSh2GICKjByqFl45fqZu2b17K2vWLNW2aaOq5cstZ7VUOMAdOxZo+fJsK9LZIYfUaOPlryiv5Fdl77Kjwu33t67tQ6Fq/fzzd2rZcnvl54eVkxN19Oczfo/+P/p79O9Sdnak/nd0dPmb+dz8n7+tXi116hS1ij/1VKmOPDJ6oPSSUgXAF12Up4cfztXmm9dq1aoSecVP778f1t/+FrX+3n57ufr1W1fSDY1rrpY7xdAFYqXYjOe/8fi3g2K3Umxe+pN3+H5jyUMD3Mz/gp49lT1vnqpOPFHhL79U1ttvq/Kii1Rx441ei/HtPVNf6AB+Ra30rXIJMjKRFlPR2WYNgKMNXQVfAy8JqUpA7JNPPmlZo0mAWAAt+XILAFUjoEB46d3MvhMA4Mz29wZZGpYxrnhQeMDaC4jy6uTkpgMBZ5zSWaQydY309ttvW3QLAD5thqaA0DxW0VToDvHazUECbq6XyGlu+pFnAfZcOwJwTYKfCbhnU+HvSL+lAu79CiRC/UKvvqrcOmpI5TPPKNK5c0oAeKutovSHxk6hUETPP1+qgw7yxv+l/qkA4E8+Cal9+yLV1IR0/fXluuQS9zrEpg/POitfTz6ZY1E6VqxY1/rLMxzwcEziajlZYg7iNGcP7RwrxWaAcSIptmRlNPQ5/HUcRevDNtfUqEXLlgr9/rtFf8i76irrRqJs2jRVd+uWSlG+vOsHncCXirjIBEdpwjen4vPA/MCZl5s6nOm8JGPtTfQuh4pHH33UsRPcOeecIwwlgROcl9FI7Z0AAKfWf8HbDnoAIIiTASDJDSfUQdYNPgKgwqLINV+myoWTa3RQ2XDhm6XrCiuTHGeAPQCe9jjR9PU6ds8995w/4xWJKKdDB4VXrFDNccep+sknUwLAl16ap6eeytYvv4Qsi6VJ2+sbtdozV5vtsqnKy2v100+/q6hoM1VXh1VVhWVQgj9cWRmq/x3qgPk7v3tJxx9fpeHDKz05wqUCgE2o4m23jVIWPMhzW8197z2sv1FKyR13lKtv3z8D6VQBj5Fi46DId4V/+VusFBvf01QPpzjzchg1UevCy5erqM45tfyOO5Q/aJDV1uLPP1ckBWlHL3Ml3jvppuv4VU97Phy42Uu40fOa2Ie4nYOKgFHCS+JmIlYxgv9fdtlluueee6z1i/D07HeoS0yfPr2+mGOPPdaK3hkrgzZ+/HhLRs2aI8XFFoUskEHzMjru3gkAsLv+Cp720ANsOlhjU7EOeijWeoV47yxCdnF6r3kle48FGqCINQo9UKchm5Plm+hzw3HGQpZuhyAjxwOYZ/PgXzikfoP7VCLpxfZTeNo05ZxzjvXnylWrVNO6dUoyaOSD9u2DD+Zo0qQcff99uL7I3XevUf/+pdppp5d15JEHOXbSIT6MHSgDiKOAWaquXvv7mjXS5Mk5euWVbP3009pyu3ev0rBhlWrTxrlFGBDBHOUw4ybZKQuEKj7vPO/W3zPPzNfs2TnaaadaK3yynftr6oQT3Lvvvuv5qjq2bRyIObwZPrEBxvQFN1J26gR0Hzf0rFh+au7tt1tW39pttlHVGWco79ZbVfN//6fSZcvcdHnans1E1EK/Kw+fFqqVoR14yZ/DHwCVmzk/94RYDjB1e/zxx9WzZ08NGzbMkuLE8Y0Ib/ECYcBJRksY9aAxY8YIyhlzPwiE4WWUnb8TAGDnfRU86bEH2GAAwY2R3Aam8FJHrD+G7sAmysaJ1E26k9HNRXfWK+/WaR3hYhqPfKeR6pzmbX8Oykrbtm392ZwqKpT7f/+n0A8/qObCC1V5660WAOYgluphDIA654IXNOGJHbRMUYc40kYbVapv32pdeGGtdtjBfZS2ZH1WXS3NmJGtm27K05dfRoEwtIhTTqnW0KEV2m235GV6BcCnn56vp5+OUhYArQSr8JLefTesDh2i1t9x41B+iL82mLDZzO90JSPFBhg2XGIscMwPQLAdFPMdSzRvYjWLC04+WdkLF6rqH/9Q6LvvlL1kiSrPPlsVPkUfS7U/jIMhh+dUvwup1sXp++ieE9oeioHXhDMvqjms2V6VJOKVHQ8A8xy6vzfccEN9KGRUI2JDIbMmxQuFjOEmSOntgQAAp7d/g9zrvO8bCwA7DUzhZaDYPJFxQ90Bpy0salgW2LhTWaSd1sUv2bCGyqMMZLPgb2Mlg+NI5K50Ja+hpBPVJ+vf/1b2qFGKFBWp/JNPVFkHYvzY9ENffaWivfbSEnXQbe0f0exlO6m2NkppyMqKqHt3gHCl2rd3bp112q+cJ6dOzdEtt+Tq66+jQBgHvdNOq9YVV1SoVavEQNgLAF6xIqwjjoiC1rvuKlOfPtVOq/qn5/r0yddTT+Vo551r9dZb8a2/vOTHlbeXSuK0i4XU0CYAxiaCYCIptnUctOD/7rSTQiUlKr/1VuUNH65QRYXK7r1X1b3WDZ/tpX5+vJMqvcSPOrjNA11x1leczLwmnKJ79epl0QzcqtR4LTN4r+n2QACAm+7YrDc1a0wLMLqRKC/AqfIzGQcwqB1YRA3dAbkztB8BiulO6XTys2v6AnihOlAe3LZ0JjYoDhK+Xf398INyd9tNocpKVY0ereLzzrMs9H4AYPqh4JhjlP3aa6rq3l3vXf2Arr32f3rxxdb6/fe1NIUDDqjRgAGVOvHEakvhwc9UUYGVKUdjxuTWUzJQljjjjCoNHlypnXb6MxDGcdHooTqty8knF2jhQpw7a7VsWYmys52+ue5zq1aFdcghUSB9553lOuusxDdDgB0OX5kI9Z2sNQBgu4Md4NguxQaHGH4p/NQ8+L910SdLH3hAhf36WdkXv/uuIjvtlKyojHyeCeu63w2B/sAYcEPkNUFDuPzyy/XDDz/4tgZ4rUvwXuP3QACAG38M1vsasNlyzdMY6Y033rDCXjYUwMFNvYyiBQAYvhaOFHbtUSylyORkYtM2qglYm+3hV920J96zWEeIVMc1Kf3G4QEBdzafVKwvTuqVDspK9rnnKuvhh1W+3XZ6bvx4FW28sXW1jdWef5GB8gqIcyZNUv4//6lIfr5+/eADLX77be2zz8F66qlNdPfdOfrkk6z6Zm+/fa3OPbdKZ59dqS22cNIbzp8pK5MeeCBHt92WW88RRkYNgAkQ3n77tUDYaI7aFT0aKum117J0zDGF1iP33VemHj28W3/POCNfc+ZErb/QKBo6EABSmHc4ljW1xHePtcCAYuhB/J+01+zZ2nXyZFVtu63Kzj5bG48erdodd1TJ++83mWY05b5N1En4HkD72meffTz349SpUy2OLfPK63fec+HBi02uBwIA3OSGZP2rUGMC4ET6tW57GesndAesEASEwEoZL1oZViAWaq8ak27r5afTGG2EzkE7cRABIBm5OjYMrk3TzW1GnJ9gG1jt/UhW4JX589XypJOs7H64+279fPjh9cAFLmBslDGAsVOaR+inn1QEz7imRmsmTNCi7bev14KtrcUJM0sTJuRq0aK1JtOCAqgKVbrwwirtsYe/9IiSElkR2m6/PUe//BK1QuflRXTOOVW67LJKbbNNpF503wkAxknv+OML9J//ZKtNmxotWVKqrLWY3tUQvfNOWIceGrX+jh9frjPPbNgvwA+nJ1cVTOFhHPZwFG3Xrp02PfVUtXj9dX171FHK+vVXbbN8uX446ih9c/PN9ZzidEixuak+t1TcVmXipspNvRp61gt1Jza/u+++W4888sifVBz8qmOQT/PqgQAAN6/xapa1bUwAbJfv8tp5XMWy+AIQkdBpKHIdlpX33nvvT+L9XstO9h4qF/vuu6+lwZtKwqKN1ZexAhjZoxeRL8CffkDoP50JAXk0lNHqTDVhncOTGpB75LXXquCNN1R96KEqnTu33vrDzYSx4hlHKMYZgGIsxFiJoYAk4gwWdO+u7EWLVNm5s+YNHGjxv2ODC3z4YVj33JOjRx/NUVnZWumzTp2iPOEuXWoUXsuaSLXpQjXi7rtzNX58rn77LVoewBvlhq5d39Wmm1avo+mcqMCXXsrS3/8etf5Om1ambt28W3+NE13LllHubzI6SHMCafV85fbt1eIvf1GovFxl48crb9gwhdes0dcjRujLY4+15lq6pNjcTBqcyTisp/tA66ZOyZ7lu8zBlCAUXtPNN99sRcBjnQlS0AMBAA7mQEZ6AA5dYyQWTTjIgES3iStNrovhy0EDgA6QLNRqJsMT0x4iDwFYvXJmuVKkjYDbhtqItYgNMxUJIif9T0QlqCWEK/Wa4GZisYaKAjebQ0v+vHnK6dnTyrJ48WJFEnhYm6ttA4b5F4krrksBwXbqhLHiZU+bpoILL1QkO1vzH3hA7bp0SRhd6+ef4ezmauJEOKNrEe+uu9ZaQLhXryq1iAZ88yX99htOa7mWFXrNmigQLiysUY8eP+iaazbS5psnLgbr71FHFWrZsiy1bUvo3FIC6nlKduuvUyc65huOT+k+dHlqUMxLfH+4+UGvovC446xPSx9/XIWnnmr9XrJ0qRWV0EixxfKJ/ZBic9MOPxzK3JTnx7MYM7h1S4XONnLkSGttmDt3rh9VCvJo5j0QAOBmPoDNpfpY2lj8M52w3GIB5GrSaTLhfaECwK0FYMajO8TLL5PhiSnfK2WADZdNkE3bScAOnuUn3dxmomlh/QUEe0lY4rDAA1jRKSY8s5VqapSz554Kr16tytNPV8XddzvO3qgC2EExVjysUfTdpqGQ9uzUyfL0X3nhhdr2qquShpdFxYHAGlhp33xzLadg002jvN1zz43vwOa40jEP/vILTme5uueeXJWURFHsxhtHdNFFlZaD3iab/DnnefOy1LNn1Pr7xBOlOvpo7+GXe/fO1zPP5Mip9Zcy/ZC98tpfbt8zdI2OL72kPDi/LVuq8sILlX/FFYpstpmKv/gCmY642fJd5JBlB8Xm0OVGis1NnVnbCMjgZl10k386nkWKkYBGqTg0Dxo0yNoPiNQWpKAHAgAczIGM9EBjAWAAHgs94udOEpYc4yWP5RAqgBtnCTYxlCcQPncjpO+kbvGe8WIxpT8AiVh/nWr6cmUKDSKdmqy0j2haWG3dbnLcMDBuUFB4F+fE2P4P3367coYOVSQ313JIinikjditeAYU7zF8uLZ7/XX9b6+99PHEiZbjJRSKhrRjzXi+8UbYAsKzZ2dbIYZJSJr9/e/VGjCgSgcdRBAZrzNk3fd++imkK69co5kzt1FFRRSQAbovuaRSF1xQWW99hr98+OGFeuedLB18cLWee67Mcx3efjusww6Lcn8nTCjTGWc4o1E0p2t6Y62GapP96quq7NNHoTVrlDN7tqq6dlW5LRqYk5E0hy47KGaOcwNlbiKMJJuXIDhw/XF2bU5as2j4ctOVyu0QYYfx4Zg4caKTYQieWc97IADA6/kAN5XmNRYAxtIBKEp2jeqF7hCvb7HcoD3cqVMnx45UqYwRYHuHHXZwZDFlDJCVAlhgZYVL59TZK1POfYQI5dDRqlUrR90CGKU9RHiCd4vVF2AQL9X+8ovykUQrKVHF8OGqHDrUURlOHsqaOVOFffsqEgrpjSee0G/oDpeX1zvY2fnEifr8m29CVoS5Bx/M1a+/rkW87dpFZdROOqk6bsQ0J/WzPwPX+5dfCO28pxXVjjDNpC22qLUc5fr3r9Jzz2XrrLMKrL/PnVuqww7zbv3t1Stfc+fmqFWrKPfXqYQaiipYVp0eXt32g5/PMwe//+ILdTzpJEtyD83fvCuvVPjHH1V+/fWquuSSlIuLlWIDHHNbBQC26xMDkJNRtVgHWA+IWNlcEodjboZScZDt0aOHtUagBBGkoAcCABzMgYz0AFfGXPVlOiW7uk+F7hCvLSY6GyoQRkEhnW12AhgBiQBYQCLgiw3ArWwaQAQLK5Gj0pncyNZhwcKSDRAAzO9E8IEGTKXMv/CgQcqbNMkKUVvy7rtIJPjTnNJStdh1V4WKi/X7VVcpPHiwBTCMhdhY8phvJuyuAcVcc9sd7FDTmjEjRxMm5Oijj9bSI7bdttYCp/36VWnLLb3TiQDAlMcNB6AbDeEpU3JEGGbS1lvXCrYSIZc7dqzWnDllnvto5cqwDj88av29++4ynX66M+svzzcnnipgvXLePLUdPNhqa8n8+So69tjo7y+8oFqHN1BuOjpWio05xneCv3MYtINi/m+fY34oKripqx/PctvF9zwVh9+uXbtat3NEXgtS0AMBAA7mQEZ6oLEAcCLLJZuEUXfgdy90h3gdl4nobPZyuRYEzHLlHy/ZQSLPYEHxEgGJvkLmiTCi6UzJ2kPZAFmucKFkxMq1NVQ33qv54AO1+Otfrcf8jsyV17+/ch97TJVt26oijpc588xwPQ0w5v+Mh/1aG2AcvdYOadGiqIzaggVrZdSQNevZMyqjttde7g+VHBqwEEJ/MWn16pAVVW7atJx6GgafXXJJha68stLzOeG00/L17LPurb+UjRMjTqV/rRuvdM67VPOmrhvddJN2njpVtbvuqorLLlPBRRcpUlio4q++UlLJi1QrUPc+Byy+83bqBJxX+xxjfnGg5TDMutdcEv4OWKyhF3lNBCo566yzdNlll3nNInhvPeqBAACvR4PZlJvSWAAY+gNKEHbgBujAmol2J1ftyG4luzJ02reALLR50ddko0l3SqRz3JCmr5c6ZUrdgvYABhNJHaFFDICDI4kWc6xcWzIAzDws6NFDOc89p5q2bVX68svyTG6NKSw8b56KjNLEihWKtG6dtKtpR6wMm3Gws9MmfvgB3mK+HnkkR6Wla+kRRxwBT7hSxxzjXEYtHgA2Ff3oo5A6diyqd5Tj73/5S62GDKlU795VrnCcPXyyW+sv5aI8wninO/pg0kFy8ABUq51799Ym772nyn79LIfInGnTVH3EESp7+mkHOaTvEeaTHRAbKTZAMU5l9sMXEe2aYuLwiOINcwEOr5dEHjj9DR8+XHCBgxT0QACAgzmQkR5goweUZToBcgFVRx99tFW+CfSAFQF1h1i91lTrZ6Kzoa/J5pLutHLlSstaaA9qYHfkAySmcmVo6k8/Llu2TMccc0xam4SnN2Nit05SIJs4FA64llAdCJbhdrM2IbmzFi1SUV1gjFKAsE9hqyMVFcrfZRflrlmjipEjVTlkiOu+Mg52dsUJLHqk6FzdTM899xc98sjm+uabtfQIQhTjxHb66VXaaKOGi20IAMMJHjQo38oAjeIXX8xSJBIF3Cg4DB1aYUWCc8Lj7dmzQPPmeQ+f3JyUCr5YtUp7H364wjU1KnvwQeVdd53CX3yhiqFDVTl8uOt5kM4XmGMrVqywvj9I+QGICe3M9wOnTQBxInpOOuvVUN7sH2j3sq46VeSJzY92s26MHz9ep9bJ0zVWe4Jym0YPBAC4aYzDel+LxgLAKB7Ak8XbGQBFAiwCCt2oO7gZoAULFljx6rmeT3d65513LEcreL1cdcLtS6bp66VOmZJ3Y2NmUzaA3orkVsc/5sqWK1CvFiADgCG4Fh18sLI+/FBV3burfMoUL13yp3eo6y+nnKKWCxaoZo89VLp0qS/WZXOtbecTl5RU6M03d9Dcubtq1aq1Nw1Im/XpU6Xzz69Uy5bxecKJAHB5udSuXZG++Sas7t2rNGVKud57L6wbb8y1whebtNtuNRo6tFInn1ydMCrc8uXwh6Pc33vuKVPv3s65v6YcKC6AM75LTT398NBD2vXii61qlrz6qorqwjeXPv20ao44oslVP1ZSrCEpNmMhNsAYDnu61s5EHYUDIBKJ3Kx59a3g+4mKxKxZs3RsHT+7yQ1MUKGM9kAAgDPa3RtuYY0FgNGFxQLMgg3VgZ90y5MtWrTIup73GpzCzSyB3gFAwuEFgXcnmr5u8jfPAr7wwk63vJs9ch/KHFHFgl8s8XvoKl74y6YN9oiEuZMnK3/QIEXCYZW8844iO+3kpVv+9M47d9yhQ668MgqElixRbZq87I0iAOPyxhsRTZ++tRYv3l41NVFpM2TUjjmmXAMH1ujQQyPrsDwSRdS6++4cXXFFvvXu0qWl2n33tfxipMxuuCHPsuiaRGjkYcMqLbm2WInbHj0KNH9+tlq3rtWbbzpXfrB3aHOS6ioZOFDbTpmimjZtLMt/AYog2dkq/vprIo/4Mrf8zMSJpFgyKTYnyiZ+1Zm1AEMGOuROlWtiy+Y7g1EC5ZzmFALarz4M8vlzDwQAOJgVGekBQBoLaqYSZWFB4hoV4JMpSgLtw1kDhzPkydKdsJhCTwDg49CCRFA6rDNckWKBgUvtlnrgpg+waFN/rjkB9Fh7OUz4QVWxA+BQWZlatGmj0K+/qnLQIFWMGuWmmgmfXbRggU648EJl/fijKi6/XJXXXONLvskyiToGlmnSpGxNn76JfvttrcV2113XqE+fX3TKKdXaaqvoQSk2pGxJibTvvkWW8sNpp1Vp4sTyuEUuWxbWv/+dpxdeWAuE99mnRiNGVOi446J6xW+9FdaRR0atv/feW6Zevbx97wHA8PW9RHFM1l9+fx4m/PUHH6jyvPPEDUPupEmqOeAAlS5a5HdRvuS3dOlSSwrR7RqVSIqNW5tYKTY/DQ2sP4B21HW85mt8PjgAcmMWpKAHAgAczIGM9ECmADAgB8c3qAAAKYAo6gVYDrxyx9x2EHI98FT5SVeya/qy+RCi2KtlxEkdjb4xMmhehPedlMEzXM1CtyD5DegNv5a8mRv5112nvNtuU2TTTVX8wQeQbJ1WM+FzOOocOWeONrr/ftXuvLNlXfbLyc5p5crKpMcfz9Fdd2Xrgw/WAtVNN63Qscd+oeOOW61ttw1Z4AfQwtX2uHEFuvrqPGVlRSyt3l12aVhm7fXXs/Tvf+fq5ZfX5o9eMUB44sRcPf98tgjv/MYb3qy/tBWgDq1nn332cdr0xnnu99/VYuedFaqtVdnUqcodPVpZ776ryksuUcX11zdOnZKUihWUGxWCzqSSGpJii41ixyHW6+GcNQF/h44dO3rOA2MIVDjk9VIJppFKfwXvNq0eCABw0xqP9bY29fzLNLYQZyHUHVgsjboDC24mVRlontdoZk66hg2HELHwmY3VBe3hdAcLAIhg2U6XvjEWe6L2IScFx48rSj8BPf3GIYyDg9GjDn/zjTbdf3+FcFy69VZVn3uukyFo8BkAcHtJ2554ovVcycKFqm3PXzKf0PJ95ZWojNr8+Wud2XJyatWx4/c65ZSvte2236ukJFvnn99Fa9bkqEeP3zRuXIU1Bg2BFUD2//4X0oIFWVZ45Q8/XOuQZ1qaivWXPJgPWByberCGrHnzVNizpxUEpXjlSrVo21ahSESl06erpmvXzA+8gxL90NRNVEwiKTYst/Gi2DkBxajQQIdKJRIlt0sYQvALyYRCj4NhCB5p5B4IAHAjD8CGUnw6ATDgietSZJO23HJLy4EKb2aTnnvuOR1wwAEp6Ue6GSc3wRzc5Ms1IJsAjkFG05c2w3M+6KCD3GTl+lmACOCODcjet64zivMCTnsmOIMJCuGX4xPA14Bf/iUxF/mdf4vOOUd5s2erZtdd9duSJQplZVnAz/y45Ry/9NJL2m/ffbVjx44Kf/mlKi+4QBU33+xHN6WUx6efhnTvvbmaOjVnHYmzQw6pFpbhuXOLlJ1dq2HDVqqmpkrFxQWqqNhYpaVF1u9r1uTq55+z9PPPIQv42qXY4lUsFIrop5+KU4pcR7Qy1D+a+nV13rBhyr3rLpWiqzxqlAp79LC6ZM0XXxBeL6VxS9fLKCrQr6lo6rqpWyIpNg65sdSJeBQrbvW4ETikzrnQTdnmWShcBMKgLl5pFF7KDd5puj0QAOCmOzbrVc3SAYCNQgDWUACLUXeI7bgXXnjBukb1Qw7MyaAk07J1kof9GTvApw20E+svCQBMsA8oEOlM6QjwgeUaqgqbGxZ7HN2w+mFtRq8zlWTALtYo87sBtevk+9prKuzcOQpYHntMVUcdVf+8eY73AMLm34bqBQCGs7rt+PHKGzMmGnHuww+VUC4hlUZ6ePe336RbbvmfZs7cXt9+61MUPEmoT2yxRUQVFdL334cEHeLFF71HkKNpfK8ZPzjgTTkVHnKIslat0o+nn65Ntt5aeWPHWs5wlgpIE00cZjlkuo0I6VdzDB3Jrk9sl2Kzg2IOxd99950lgZjKQX/+/Pnq37+/dUPo9mDrV7uDfJpWDwQAuGmNx3pbG7sDkh+NtNMdUHYAQCU61QNKCKyQSgx5N3WOp83r5n37s8Y6CvgCCMRKqxGCFdoAV3vpTAAR5N0A2mxOqSTmAvXGwsfmhiWKq1EDehjbVKJ/2S2+/G7Aa9w6RyLK69hRWcuWqaZLF5XNmlVvHTZWYgOg7YA4kZUYmgiHrS2//96SWiOVzpmjmo4dU+kyX9+FE5+Tk69PPmmjYcNy9d//rktfQAVi880jVrhlfgC2G29cqRYtSlVQUKK8vD+Un1+sTTet0g475GrHHQss5zrmBfxwIp7z40QruKGGcTii7+0a1752hB+Z/fyzNmrVysrpizvu0E6PPKKspUtVec45qhg71o8SfM8DYwRrIrdiqX6X/axcQ1JsWIqZC9x8UedkFJ149Xr88cd19dVXWxxgJ7QLP9sW5NU0eyAAwE1zXNa7WvkFgLGGchUG6AMM4iiV7EoevhshgDPl+ADAYIFNhbuIFRQ+M/R+mk2YAAAgAElEQVQGYx2NB/DhA9MfcHPTmUyAj4MPPtizDi/1w8qDDi0gl0MJY2LfjLAAI+3F5uw2GboDGyk/dpDaUF5ZM2Yor18/65Gy5csVsYUI5m+GMmGsyaYce57GOsxcM+FaC9Eafv99VZ51liruvNNtc9L2PPOTGwSCAqD+cN11ufr8c9QdKrXFFrXabDNk1Bou3lxp27WJ+W4CgI08Fv9ywPF63cz8N+omaeuMFDPOnjNHBWecYcnpfbBwodocc4xCVVUqu+8+VddRIVIswvfX/Qgq4XulEmRopNi46WLN4DALHYvInXYrMb8n8xm4//77NXHiRGv9CQBwpkawaZcTAOCmPT7rTe1SBcCG7oBViA0Vq5DTQBM4paHJC5DMRILPCkDA49htAmwB7gG1AAisvg2pV5ggEagzpDvBpcbZzkuEO8AjsnT8xNI47PWm3VxRunXqc2X1je2oykrl77mnwt99p6pzz1XV7bc32JXGiS4WEONcYySWuFouGDtWBddfr9pNN1XJp58qJUKsj4OLMxAWNACwXylWDQBgjHIIiflr14x1ar3je8R3PTYqoF919iOfvMGDlTtxov7YfXf9PHSoWvXta2Vb/P77iuy4ox9F+J4HjqAc1DjMJjMe+F64xwxZF9AChl5kl2JjnnGo5ruYTIrt9ttv19NPPy18NLwk1r8bbrih3g8DFZXu3btbVmXjVHf22WfroYce+lP28+bNWyf4BvvDVVddpcmTJ1sHfqgdd9xxR7OQ/PPSd031nQAAN9WRWQ/rxcLlJbHAYQ0CYMATbdmypSurEvqRABKuzzKR4C6y+RO33k0C+GGdYINi03ei6QtFAose+rzpTlAg4ObiaOgmob9JuwCOyUIzA5DdOPV5tfrG1j/75puVe+21ihQWquzjj2WZQR0mrFTQObDGM2ZQcizr8+efa7MDD7Ry+WPqVFUfd5xjLrHDoj09BgAG+KT7+wAosXM82eiZ2zg5GeudAcZY9GITc4ZnuSloqqmwfXsrouCXPXuqcJtttPW4cardaSeVvPtuU62yxbHHKIBDWTolDf3sANZUvmfxHCLN4cuAYeacPXw4beX7aNRz8Anxkh599FHx3UFTnv2Ew+4111xjrfMoDZEAwIsXL9a0adPWKQKDjV15YuDAgZoyZYpuvfVWaz+7+eabLZk31vJMBFDy0v718Z0AAK+Po9pE28TmF8unbKiqXugO8fJDW5YNH7pEJpJbKyb9wgLPAg0lgA3fabAJwCVOd0cffXTam+bWmdDeLigoWBzjAR17xdHqxCkO61SylJLVNzbzn35Swe67K1RRocrrr1f1ZZclK976HLDOrQRXs4B741RkrMT5HTsq+623VPmPf6h44sR15r+douHEwc5RhRw8lCkAHFsVxssewQ6gYhyf0Ii1g2L+DwAGoPlpqXbQPY4fCf34o1rUHapX3HCDdps7Vy1efVVVPXuqfNIkx/lk+kEO5wTCOOywwxyvM5muY2x5icJ3J6qXXYptzJgxwgEORzrWH4A/IBarK/8SEMQrJWLSpEk677zz6g+/AOBly5ZZ4DhRYp1nPRw3bpwGDBhgPcb3gBtKnPRGjx7d2N29wZQfAOANZqgbv6FOATAbJYsVoNAt3SFeK9nwySdTckpOQVyspi/1I/KZm4TVmM3sGLiHhOFKY8JzHEtGMguFGT+AIQDGTbucqFrEs/r64dWdO2CAsh96SLU77qjy995r0IvLBCKBgsJmlijEdvb48cq94grLslzy+efWv4ajnIhLbAfDfrQrdko0FgCONzXpC6x1gGHDJ8ZCyfeVtkOXoH+Ng10ap7frrLNnzqwPefzijBnq2KePwqWlKr/jDlXVUSFcZ5qBF+hrQBpBJdIxv9LRBD/m7Pnnn28drgH+0CD44UDGzaJXnvqsWbP0j3/8w1LjYZ46AcAPPvig+vXrZ0XwtNPJ+vbta40LVuAgZaYHAgCcmX4OSpGs689kFmCjdctmCN2BU3GqizTWA6zJXji5XgYODi+SPQ1pVhpnMP7FwkXUOC/tpJ+44uvSpYvnRdxpG52oacDTo78B5rSLTcFNu/DQRiEiUd8Zq68bJzen7Qu9+64K6vSUK6ZOVc1JJ/3pVco3kQbhHGL1bciTPvTdd8rfbTcrMELFQw+p5pRT6vNMxCWO/Y4YFQu/rMR+gAmnferlOdYJQBoOkfQF311+DMfT0CZQDnEzt7zUpaF38i69VLkPPKCagw7S0t691WHQIOvxkmXLVNuEaRsAPkKopxJVze++TJYf9cU4kIofR58+fSxr7/jx463izEHdrToQ1mU4vHDUAbKs3XPmzLHyBADPwKk2L8/iLKMIc+WVV1pcYZOGDBli0R84PNvTLbfcohEjRgh5yMac18nGYn36PADA69NoNvG2sGiYTT+2qnwGdQAAhJMUdAWsP34kr5xcr2UDfuGyxotaZNf03Wabbax2Gk1fL+VhPcOhBQ6wU9qEl3J4B/F8LJ1sIrGJccUKwhhCA8Dq68XBBvBLPlhp7MkuSUZZDUqbeW2gpLyuXZX18suq+dvfVLFw4To5Gd1iLDf0g1Nwn3fcccp65RVVn3CCKmfMaLB29iAd5vdEMmxmk3S7Wb799tuWYxoHzKacTD3pa8CEXXGCec+BwB5ZDGDMdyndNyGmz4ratVP4s89UMXiwPv/9d7WZNEm1W26pks8+y3j4azfjyPzlij7dyjFu6pTsWfw4uHlKRckHEArl4cYbb0xWXIOfs/5BYyAde+yxeuKJJwRlh4QjGzQL1j8OGnfffbfFD0aC7ZS6w++5555r8YS5IbOn++67T3zGPG9K8nQpdVYTfzkAwE18gNan6sUDwPbrchYOLGpunayS9ZFbTm6y/JJ9Dn2DxS1WmQHLoZF2iqfpmyzfeJ8DDACmWHNSAdJOygZoY+3gx55Y6LH6cp0IoN9uu+08gxA2FqL6mcODX05uTtrHM1lz5yqvTr6q7D//UaRdO8tSRL2wSAIcGTuz4TnJN+vBB5U3cKAiubkqIzqYS5qLoUzYAXEqVuLmAoBxCgIIAIBjk5HHsoNi42BnV5zg/WS8cydjGPtM6Ntv1aLOpwCd5z9uvFHbvvaaqrp1U3mMA5SX/NP5juGtxx4y01lmqnm//vrr1rrj1lprL7dz586WJXbYsGEpVYcbFA5grHmjRo2ynElxEI5Ho+A7i3Y6NxpYjEmAXNZS9gJ7MnxinjW66ClVNHg5aQ8EADhpFwUP+NUDbFpcH5lkD+1r1B3cWrOc1A2LIqD0b3/7m5PHU34GZQYWSRZcEpxGFj/i2bOZJ+KLeikYqyTUhHSEKI6tz5IlS6wNCK9lklE/wGqPJBDKFcm0OJO1kah2KCoA6H11cktWsPkcOaW2bRX+/HNV9+ql38aNq5c9gtLhyWHm559VgDJEdbUqJkxQzVlnOa1N3OdStRI3FwDs5tqbucJ3wahOGEUA/m4c7Aww5v+pWomzp09XwXnnWYea4v/+V7m77668339X+Q03qGrgwJTGN90vc/XODVW6o0f62Q7CGAM0uTXzkpgHONZedNFF1o9fCQdkNMvtFt7YvKE2QHvAWMGtZkCB8Kv3U88nAMCp92GQg8MeMADYTndgQQM4+UV3iFeVTEVLM2VzxYgzA7xcQwuAv5ZM09dhN67zWDpCFCeqB1YYxgsenrFmc2Dhum+LLbbwUv0/vWN0jbmedRvQwpcKSMq+6y7lDhmiSHa2Ftx3nwpbt7ac/1KZo3n/+Iey5s9XzZFHquKZZ/yqan0+TqzEhkOMkw0WpqZOgUC9BSchc+By22nGwc5YifkXkIylLlaGze3BLe+ii5T78MOqPvRQVdx+u4rqAreUvPSSal3KH7ptV6rPc8jk0OpEaSXVsvx6n1uuVG4HAcCsU+j4wgX2K2HQge97/fXXa+jQoXGzReLsiiuuqAfAOMGdc845lkEkcILzayS85RMAYG/9FrzloQcAa4BROLnwVQEVftMd4lXLKEpgVcxEghIAWMTSRJtTpQU0VGc2eThmWLftOpPpaCde05SBJQMrt9/WbOoMAIafSChkOMSAlVStdW77ouS777TZvvsqu7RUvwwcqLzRo1OuQ9b06co75xwrYlgZQTE8WrKctsVuJbbzp5mPAGAOLADLRCGdnZaTzuewrrE+wLX2KxkHOzt1wgRRiI1g19BtVNE++yi8erUqhg1T7bbbqmDQINUWFankq69SjwHtV2MT5MMazPfMbbCZNFcrYfbMXxRo0Nt1q5JjMiUPKBQEqTjxxBN9awpUBqgkOL71iBP5j+8hBw3WTCONZmTQcMa74IILrLpAqeD7GMig+TY0jjIKALCjbgoe8qMHoAFw9ZZOukO8emYyWAQbLAsdZXJdjnU7nc5pLOxEKELT0mjQ+jFWsXlQDos9CzlAgXC/DUWoc1sHw/WFFgP300hhURabHv/yk86+ZLNCwo6fA6dN03aPPabIlluq7KOPpPx8t01a9/niYhUAOMvKVHnrraqu2/hSy9Td24AeI02HNQ3LVTwHO+NgmA46kpsac4uCQ2ws59xNHsmepf3o4tpl2Pg/bY+NYGcc7EKrV6vFPvtYWZfOm6fsyZOVO2OGyg8/XFVpsO4na4Pbz1GpwfrIIbM5JA4oL7/8sgXYvXJj+W5jbV24cOGffDOc9sHJJ59s0R2IRsdtEFQirLvciuGkh6EFFYhevXpZexxKODjBAd5nzpypk2yqMgTCePjhh61AGBzw0CrmwMfekUxm0ml9g+eS90AAgJP3UfCETz3AxmLkjHzK0lE2hpKAVm66Ehsp6g/wVwEWnOhxgstEpCUswFhH0mVNB5SyMAMS2ETYBPy0ytqlzRgfwAeWSizpWOr4l7LZxLCq2wGxH3xOyqQcnFool5uJbYqLlb/vvlH5snvuUY0P16a5Z54ptGNrDj5YFR6jUXmZvxzKAL7Gao+liT5OZCW2l9FYwTqogx+e/176izUqNoId8wKaBNSJnRct0o5XXaVIfr6Kv/pKhX/9q7L++1+t+de/pCuv9FJkRt/BCEH72rZtm9FyvRbmR+hm1mP8F5hTrF9eEgEqsPTipMt3h+8RoHjw4MHWvPjll1+Eli9AFkdD5gtlQY2I3XtoU7xQyJmS6vTS/vXxnQAAr4+j2kTbxEmezSXTyWjlEi0tHVYtu6YvUdywCGTKMY2+dBuhzWn/M14s9lhEaRP/h5YAQPQjGasv+fJ7Q9JmbDj0M2NpQDF8Tjz8Y63Ebrz+KdvI7+HIh6ObsTLn9uih7LlzVbvPPip/7bWUpa2y5sxRXq9eVteVffCBIjFqGn70aWweRrPYBCRJZkEzoNiMSaJgHZmwEkO5AbTEk91LR18lytM42BnaxA7DhmnbBQv043776eOhQ3Vo3Zh+/+ijKuza1dfDYTrayXznJgdLZnNI1BVKWSqhm7HOchuHgaKpRhZsDmOxvtUxAMDr24g24fawuWJJyXQyWrmdOnVKWaXAXnd7qGa7pi9/56qNBTsZ4PCjL5xGaHNTFlZzLKKMGdflXEX7FVHPL2kzE8XJAGITVtdcXRtLMaA9nsWaNhopIkB9rCNf+KWXlH/88Va3lc+fr9oYbWI3/RnNpFwFrVop9McfqrzuOlX/85+us3D6QiKrr9P3zXNOgnWky0pMhEPALweTJpNQlWjTRuFvv9XvQ4ZozZZbaschQ1Sbna2506YpXFRkfeftfOJ00na89As+GKxRmYqM6aWO9nf4XmO5xTHWa8Q2gC/WWA6ErGVBCnqAHggAcDAPMtYDjQWAjVQYC2gqnvymowBwXCcDnrCExXonG14uzg9enTbcDAoe0nDO/AAKBjhhMYF7ibXEWFShQdA2oht5TemUNjNWYjt1ApAMALFbiQHEWLbxhqeNyCvF3VgjEeUfdJDCRBLs1k2V06d7bXb9e7nnn6/sqVNVu+++UatyGpJbq6/bKjiVYUvVSuyH9qvbtiV7PvTpp2pRp/JQsmCBcqZPV+799+uX3XdXxYsvWtx1wycGuGFJZ83hityAYg5o6biJSlZ387n90Of0ncZ8ju8ziiBQyrxSr+CTYwAxUmSN2Z6g7KbTAwEAbjpjsd7XpLEAsJ8WWRZQNpBkmr7wcnEy8UserKHJgXMajhSpREkCmAII4YqyYWMdilWVSCWktF9WX7dfEg4/BhCbK2xDt4AzjTWIdtLmeJtr1kMPKW/AAEVCIZWvWqVIq1Zuq7DO8+GFC5Vf54Vetny5IrvvnlJ+9pf9svq6rZATKzF5ug3pTIhveJYEVmkqKefBB5U/aJAiRUWW/m/hoYcq64MP9MlJJ2nL++9fJ+iGcbCzK04YBzsTwc6AYigqXsGd277hIAs/FbpWc0h+RK7jlqxnz56Ww2NjHj6aQ39vSHUMAPCGNNqN3FY2BDbpTCc/LLJGIQDLIWoLyaKBpYuXG6/vYgNUuO1fNgUUOgCKWEMThfgF+AMo27Vr56qIdFp9nVYESzBXv1hH4ZViBcZSR5uZkwACu5UYi51lFS4rU8Eeeyj0v/9ZAQ6qbrrJaZHxn6uuVkHr1tH8hg1T1ciRqeVX97a5kXDK9fWl0AYycWolNtrEBiDbs2ReI7XXlLzi8/v2Vc7Mmaru0kVlEydqo7oD0esjR6rN4MFJwRUUMMNlN452xsEuNoKd1+v+ZGMLlYn5z3e9OSTmNhSGQw891HN1n376aQ0aNMi6ucvUQcNzZYMXM9YDAQDOWFcHBTUWAKbnU1FKwAIBQMSSjKYvG3KyRRQnOJwuMmG9giu51VZbxQ0Z29Css4N61B0A9WyMiRIAEj61U/mkxrL62utPHaBzsIEay7Zdvs04ONlpE7SRZLicre6/X5tNmKDIxhur7OOP+SClL3POZZcpZ+JE1e66q8pXrkzJua6xrL5uO8CLlRgLcCrRv9zWMenz8H93203hH39U+ahRqt1tNxWedpp1O/Dsww/rsG7dkq4LsWUw/wxtwlAnzPxD4cQOihNx2ZPWO+YBNxH23Oadjuf9CNwxbdo0S7IMA0aytTsdbQjybJo9EADgpjku622tsMQ1Rlq0aJF1re8mlKaxGhquqF0hIFkbFi9ebEVMy4QHOw4icI3deDejUQmlAQCFA5gTUP/JJ59YFlMnAvrxpM0yvfEALLBa01aAFHxfJ3WAt2msw1xfl332mY7s21fhmhp9cfnlKjvnHKu/sRJ7uU4NL1mi/C5drClU9p//KOLSom7mXlOz+ib7TsR+3pCVmDFgXjOnOdyZfvbS327rlej58Icfqqh9e+tjIr7lzJql3HHjVNmmjeaPHu1ZXza2PNoOCLZHsGMtgosfG8HOi4NdOgKM+NXH8fLxI3DHPffco6lTp1ravUEKesD0QACAg7mQ0R5oLACMkDogyImjmF3TNxEfNlmncX1LWX5GsUpUJg4iWIuwOCdLXLcCZAmF6jZQB9YTuM8E3UiU3EibJaur18/N+NFOAEMyy3aycsgv66yzlD9zpsp32klL7r9fa0pKLDBtnJuM4gTBEpKm2lrloyTw9dequuQSVd14Y9JX7A9waDF0DigCRtfXVSZN9GFAMQcWDi70O1JdsWGK3XKJ/WoqVvv8wYMV2WQTFX/5pQq7dFHWsmX6o08fvdKjh6VSkK7EumkP1mF0sbEK20Ex60CyQ0JTkZdz2leEk0djF61zr+mWW26xAlJgmAhS0AMBAA7mQKP0AJt3bPSpTFTk1VdftZzEkkWVYmPBMgovFuuTU6thbBvwYMfBCoCS7kTkNLifDenz0ufwXwEWWJKwhtvj0DupI3rARBMj7HJsstMdzPgaeSwnefv1jOEzY0Fj/DiEOLH6Jis/vGyZ8usATvnMmars3HkdKzHWOg4XAGA7lxgaRTxAkjNihHJuv121O+yg8g8/xEMsWRWsz5u71behRgJ+CdIA4IGnjZMWfcd84jNjMY5dP8w8S7eVOL9PH+U89ZSqunZV+f33q8Vf/qJQdbV+HDdOb+6yiw4//HBHY+jHQ/RFbAQ7HHTpg1gZtthgPE1RXaOhPvFDt/jKK6+0aFDPPvusH90f5LGe9EBgAV5PBrK5NKOxADCLPvQHaAnxEvxeYxmFDoA11ZE1L0HHe6EleB1DnFrY+AhPHC8ZKgDRiZBLA5QnsxLFy4cQqsSx79ChwzofNwUnNwAB9QNAobwBVzuV8YvX/rxOnZS1dKlqjjxSFTEhb+kDAIjRJOZfQDj9HGsltjz+V65UwSGHWMWUP/+8aut+TzQH1merL22mr1AnwNKJxR7aQ6JkwLAdEMcDxanKsK1Tfm2tWqDh/OuvKr/xRtXuvbcKu3WzHvny1Vf1we+/p+Sk5fW7b3+PA1hsBDvWNeabXYaNfuZw6IYO5kf9vObhh27xZZddZjkfEsktSEEPmB4IAHAwFzLaAyzSxiEmkwWjA4llLpYna7eM4nUdq+nrtY7QErieBIilO2GxhjcYG9mJtgEKDRUAq6/dAcxtveDikZ/xxm4KTm60gU0fJ0UUKuhvNnY/rL6x/ZP1xBPKO+ss689lb76pyJ57NtiFBpDYZdgAJNBqNtl4Y7Xt1Ut5X36pqv79VXXHHQnzWp+tvmaOYuXjxoTxi6U8JJunmQjpHF61SkV1h5SSV19V9jPPKA8g3LKlPnv+eevgFXswTFbvdH9uHOzsMmwcNPg7c5AbIAOME8kApruOTvLnu81hJpW1tH///lZbJ02a5KTI4JkNpAcCALyBDHRTaWZjAWA8n7EI2mkCWOxYXOGXYRXFOuyX9BDOFoZqkO6+jydPZqgctBFrth9UAKy/8IC56m0KVl9AP8ADUI7Vnitzt+DJ1dhAcdhrL4W/+UbVffuqcvx4V6/bdWEBxVvcead2efhhVWy8sd548kltvMUW9fQJ2mG3+jI3+fFiuXdVyQw+zNzk8AYoM46YfhXvt5U45667lD9smGo331wln3+ugu7dlf3SS6rq3VtfXH21NQcJfNPUE98ZAuegTmMOaMbBLlaGzYuDXTrav2rVKmvtduPkG1sPNICZY7feems6qhjk2Ux7IADAzXTgmmu1GwsAs4hiFYQm4FbT10tfc81IObFWWS95JXvHLk/GBoc1DR4loBCrSSwHMFl+iT5HToyyAMAGYNjD4HrN18t7OEpxeKEebGwEtchEyh4zRrlXX61Ifn5UEm2LLTwXG0KarU4B4vMJE/TN3ntbFArGEACMtRgQArBPl1Xbc+VTeJGDAIcpOJk4D3Lr4jddJbZ6qVqJ8087TTnPPquqE09U+QMPRPm/paUqHz9eXx51lL7++usGnUNT6C5fX6XvcQbDocxEqeTmxFAnmH8mpLhxsDPA2ImDna+VrcsM4wV1SMWfomvXrjrqqKN0zTXXpKOKQZ7NtAcCANxMB665VptNnQ0+0wmwhEUNRzi3mr5e6opVFstK27Ztvbzu6h0AL4AQNQDaRkrGo3RVQN3DOMAB7GkTjjZYy9NBNWiobswf2gsdAxULe6hmL21y/c7PP6tg990VKitT5TXXqPpf/3Kdhf2F/A4dFH77bVWffroqJ0605gxWUbSnoasA3LCU0teAAPMDeGkqFjo3HWDahwUcYO/HzYSb8u3PGlDMemToPHG5xJGINtllF4X++EPlY8aoZv/9VdSpk5VV8Vtv6b/5+ZZzqBN5QK919es92ooiDnXlOxwvGQc7uwwbfgSGz27nE/t1uG6ofdDXoMckc2BuKI/DDjtMZ555pi6//HK/ujLIZz3ogQAArweD2Jya0JgAGBUENmCkydINnLBuYUlxGjQilTE0znv0LSAYRzfoF34lAw5oD5Z0u3MXQMxIgKWVfiBZEmwcLNiIAfhE5GuMlHPxxcp54AHVbr+9yjlw5OR4rkb22LH/z955QElVbF34TIIBFX1mRX0GVIxIMiAiPpKIKIgJAeGpGDBHVEyYFfVhzomMKEFRkCCgIAqC4q+CCQQFDIiACgxM+NdXcMaapmf63u7b3Xd6qtZiDTA31akbdu3aZx+pdsstpsjGklmz5KuFCw1jj15bAQoTN8CInWAHSIGh09jzE4Yu1RMSPx0HJFJqm+ukfxUVXfFz3KC2La9YR/bcubLdZt/mVTNmSLVJk6Tm7bdL8U47yd/ffSeLlywx92YqnvVE+8oKHFZgWBkyDl6byiVsPbEm2ClDzE8mbUHJyPTaKPTDZNeLhWW0/vD+gvHu3bu39OzZ02uX3XZVIAIOAFeBQQ5TF1MNgHn5wRby4QUcHHnkkYZFS3ZDKwuLx/mS1XQpWVlfNIiwM0E2W+vLcYkhY6iFIjTBC2YpWYAMAMiEAgDF5IWl0KA/sn5iljV/vtRo1MjsUvDqq1J0+ul+di+zbdaPP5pSy7TZN94o+eecE1PrC1DTQgkafxg6Jj02S8zfw8ASA554/piAaqntMAN1e4CIdW7//pJ/661SvPPOsuqrr2Trrl2l2vjxUtC+vfz18svm/QIwZGUk7BptCAAsIbEyJPEt3qauJ7Y3Mfck4woItvXEiSbYJVoSm2tlteGxxx6TM888M94uu/0yMAIOAGfgoIa5SwAlAFQqmu3pizUWS8nHxrCbCuq60OCimY3mmRvEOfAAZamcDy+WUfQ1SB9SP0lubMvHzy4nrIDMZij5KPoBrurQAXhCIwrrGzTAj3csqrdvLznvvSdFRx4pBVOmxHsY4+tbq1072R4Xi5NPluI4bZoANjZLrIUSYPnsMQiqnK7XDsOMMkEDiKO/L2/Z3evx0rFd9Y4dJWfCBCk8/XTj/7vV3nsbO7S1998vv5x5pgH3rEbYSVrpKtYRKz68A7GExMkl6BUb3uusEtl6YiavjH1kBTs/K1Qk7SXizsN7hKS/119/Xdq2bRsrRO73VSgCDgBXocEOQ1dTAYAjPX1JBMMDl0IOaMFS0SItw4I6pxYLUL9bPgzof5FBBFGJKihrMwCZDYj5KOz1UzYAACAASURBVNJgh1Q2wc/ykp9IzAFYwKLD+ML8holdyx4/XvI7dTJ9Wj91qhQ3buxriG2Hh4Yffyy17713U2LdokUiAbD43CeAEVs2QUyVJVZQzKTEDxjx2kl9Bkl2Q5YTr/e01/MlbbuNG6XGHntI1l9/ScHjj0vx0UdLjc1j/fXQofJ1zZomr0ATtNJdrCNWHJioUgmOd4WfyWis40b7Pe8SnZgpKNYEOyZmkRXsylsVIGkPdj1eyRMrEBAgMN9hs6qLJ65un+Ai4ABwcLF0R/IQgWQCYF64qjPk5Y7OkBcfjf9HP3rCCSd4uMrEN1m2bFlgoFSvBqBLEhrgAucDdQYIqm9+WF+/EWLc+fgBivUPHyb0rraOGIAMcw6g5+8AfD9aRb/XFff2lDNu0ECyv/1WCs84Qza88ornQ23h67tundSoU0eyioqk4IUXpKhzZ8/H8rMhADiSJWbMdVKi8olEWWLGl/uUBuurbgN+rjUs22Z//LHkb054WzdvnuRMnSrVrrxSCrfaSiYNHy6H1qu3RUXF8rTEkQl26WCJGf85c+aY92A6ZCgq37GlE6wW8b6OrGAHQ832U6dOlUaNGsW9+oPNJZMw8hfKKxYUlvvNXUdqI+AAcGrjXeXPxgsN4BN0sz19SQKL9EyFAcabt2XLlkGfOurx0DsiUfjP5o9nIiclXtiPYbUE24SezdZ2Jto3ZX01Gz4V1mZq0q9gWCunaZyYuNBXQFnQS7WJjIW9b+4zz0i1a6+VktxcWT9/vpTsvnuFh7a1sJG+vtVPOUVyJk+WojZtpGDkyKAuscLj8CwqEFG2HsaOe8su5+xVusLx0L7jiUvCEvdpslnGZAcqt18/qXbHHSbhcd3XX5vJSa2xY2XV0UdL1vjxnjXWtg1bOlliwCCVI5s3b57s0Hk+PqshtmyCv/MuYnUIUMz7DTIDqVc8q0DI0bCj5CcrSa65CGgEHAB290JKIxA0ALYlAVQ2gjGMll3Oi5+lvzZt2qSE+UD7iH9lq83Z4/EE2a5SByjhIxBtGRCZAKxO69atfZ8mmayv14vhGpYsWVLK+sIYonFWT1wYYAVk/C5RhtLrdcXc7q+/pMYBB0jW6tWy8frrZWMFHqPK+gLmo2lhcwYMkOqXXGLA9LqFCxPyF4553RVsAEtsS1dg7Wk2S6zSFZtBZDtYX0C+vfKSyLWEYd/qJ58sOVOmSMGZZ8onV1whDTp0kBorVsiG22+XwhtuSOgSvRTrCJolVk12kPkCCQUhys6aYMfzz3ubZ4fG/QYgtm3YAMmxmGzuS6QPrKBV5tWIoOPsjifiALC7C1IaAV5uzPiDaAA/LQNsSwKiHRtWgWxiAGkqWClettj3xAu4WRYkeYg+RmO07T7Gc65oWt942JVExxFNImNIf2EMSVbRD5qdXGe7HcTLUCZ6rdH2z7vxRsl7/HEp2WEHwxBKRGZ9RaxvmeOtWiU19tlHsjZskA2PPSaF55+fjMv1fUxbuqJ6Yp5fgLxKJhg7tL5aeCUMzhO+Oxpth4ICqVG7tvF8/vyqq+Tvo46SYzbLU9ZPmCDFASfUpoIlBkziqKLlzAOJUxIPopplACz3me1NzLOl7wLVE/MzUtPOe5/kN+7bePTu7777rtx7773mfcx3hNWNDh06yO23317GUeidd96RPn36GKkdtm14Dvfq1WuL6Dz00EPyxBNPGFneYYcdJv369QsVI5/E4QzdoR0ADt2QZPYFBQGAWaYlQYoXCOboXjx9YRTxv0T7lgrz9ngBNx9BZUMBGLBpsTSwfs+lrC/nSoXcIdodrdX4SEzE5J5yzV7GRXWsCog1uU71g6onTnZlMe1T1g8/SP5hh0lWcbEUPPmkFPXoUdrdWKxvZFyqnX225L71lhQdd5wUjB8fyhcB946yxLCJLE9rYRtl5jTBzgs7F8pO6kW9/77U3OwasGDcONn7p58kv2dPKalWTdYtXy6Sn5/0y/fCEvMMK1McaxKLvh4pQLLcaYIOSHmaZb0PbS0xqxD8v64YqV85crQLLrjArGzEik+06x86dKiRjWBpyQocjDIV5fAWnjBhgtll5syZxoWHYhtdu3Y1CXcA5GeffdacWxvg9+abbzaAmv2ff/55GT16tFmdBAy7ltoIOACc2nhX+bMlAoDtpXI10/dqiwVoJpuYl1QqDPh5+U6fPt1ogL1qWHnZKxuKc8Xuu+8ec3mPG8rruYifzTLpRzPVNyX91Mp8MPcA4Hgb4MvWsfKRgxkCfNk6VgByPB8/L9dVrXNnyX3zTSk++GBZP2uWbCwsNJptJmiRWt+KjpfzxhtS/dxzpSQrS9Z/801MTbGXa0vGNtxH6NFhEpEdMXmJnJhogqM9BjyryRqDoPvJPfX3DTfIfgMHSuGee8qGBQtEC6AUNWkiBRMnBn1KT8dLtKQzTD1/kulP7qkjHjdiBYzkNS+aZXU+UT3xCy+8IC+++KJ53zO5ho3FK50iIOiJE2kA1wsvvNDEkvc0DDNyDVb9tPH7sWPHmmeF+55vEInL/P+DDz5oNuP9BfBFozxs2LBELsntG0cEHACOI2hul8QiwIvAb1NwSLIbS+UkSMXSftnnwDlh0qRJRgvmFTT7vUZ7e5brKDmK3VAsw3kt70vyEBIAwK9X0Mw5iQlemXwkojGfQVmbJRIPfdlTxhiGm49GZDJfosdnf1s/qCyxMkE2GAuylHD29OmS36aNufyfBw2ST7ff3oyfb9/btWulBh6zf/8tG+6/XwovvzyIkAR6DIAukxdiC/CNNkmzExxVNqFFEqKxxIFeYIIH49phSEnma963r9SaO1cKu3WTDc88I/kNG0r2ggWy8brrZGPfvgmeKbjd/bDEgDFYe1wVKkNLVLJBf5EbvPHGG2Y1DaaVexFZGYQI35F42siRI6VTp07mXkH6w319//33y9VXX116ON7/vJMp5UyVQM4HITJ37lypX79+6XZ9+/aVhx9+2Mg7/HzT4rlut0/ZCDgA7O6IlEfADwCGSdJSv3xsvS6VR3aKDxtaLmb/8fpJ+gkUerP33nvPaO1IICqv8TGC9eXFxwt6xx139HMas21F7HYYkty4RtgRrVgH66v2dL47G8cO3EO2H27gyXUlJVL9mGMk5//+T35u3Fh+e/HFmNXcyutGtf/+V3Jfe02KGjaUgvffj6O3ydnFthjkfgbcx5rY2VdiVw9UK7ZUM/WxIsOklWeRpfRD8J4+4gijyTbWdC1bSs299zaHWD9ypBRvnvDEOmY6fh/JEtsTYN6lvC9gHG35U1iZ+SAkG1SAQ2Ywe/Zsw7jyHqIYyH951nyUjGdf7ln2P++884z87s033zT/5t09btw4OfHEE0uHnHc7q1sDBw40soinnnpKLr30UkNY2M/OiBEjTIU6vOPRDruWugg4AJy6WLszbY4A4DDSEzMaYFVPX15SuDskCpomTpxoDNUTXf7yMpC8LDkfWrtopZf5CJEsgT4Nj0pKxMabnKfsNlXutNJWWFhfncCwVMgHI5F+eom7l20iSwnDZsJsxptcx4du9WOPyeGPPLJJvjBvnpTst5+XS9lim+xx4yR/c2nldZ9/Hvdx4jp5OTvxvKK5p5+MH+OYKFOlTL2y9GqDBxCLZIm9aMMT7S9Aiz5ybsBMzZkzJf/kk81h1337rWR/8olU79zZjO+6pUtFUlBOPdE+2fvb4J4VJkiAyHewHy1xkNdW0bFgcPFUT0Sycc899xjmF0IikQY45T1GA+hSWQ4pHnpfiA50wEgstPFe5p3y6KOPyhVXXCFcx1133WXeNXZjZZLkbGw6mZi4lroIOACculi7M3kEwCSsMavG3SCWA4KfoLIEBfvIklWymzLOvLjRSWpT/SQaUV6evpfJo1w4gI5kDAXbYWF9Wb4EVOgEJswWRBUl19mlhG2JifozM1Hbt3ZtObhtW8n+7TfZeMklsvGhh+K7xTZskBr77mtK7W647TYp7N07vuMEtBegl2cREMq9WtFqRqKnJJ7oN21QDIiALbPlK1xDUIyl7dJBMq2C+7y+fSXvwQeluE4dM6HJ691b8p54QooPP1zWz5yZaFdTuj/JiiRu6fuGeHop1mEzxAqOU3rhIkZigA4YCUG87cYbbzTAFRY4kUYinLrWAGSZDEJyaGlpfrLCGAmAYaAvv/xyA4Dvvvtu42ZhN46BhSXHd4lwiYyQ/30dAPYfM7dHghHgo6MvYPtQsKa4AmiZX8BqkAlr6GQpWZqqZaZIxllfnnzk0b8GwaQRPxtsA9ZUE5guhwdlDAHAfpLAErytAt1dk+tsT1x7yR5QD3uvwBDmMO/uuyXvvvukZJttZN0338Rd0rjaZZdJ7ssvS/FBB8n62bMxQA20b14OBvAkyQ32LV1jyH3NZNgGxPwb8KsWbDo58aOZ1/5rZUVWXgAeunrC76u3aCE5H30kG887TzY+/rhUP+44yZk7N7HJjZfAB7gN7wHV3HspR+3Xhi2oSUhFXUaLzXuzXr16cUcG2QFtwIABcR8jckd819FRI19gddKPBAIAbE+knQQisGHxfSAHgH2HzO2QaASiAWA1aOclzBKdlvlN9Fz2/vhB4uGYqmpALLlpBSNe5AB7NGEA+6BtugDbLJ+pvjkdDg+qE4XdhmXiw2CDiiDHMtXH0iV72CiS+JTFUTAGEPtXQYHsceyxkrVxo2x44AEpvOyyuC4ze9o0yT/pJLPvuo8/lpJDD43rOPHupMCQvsH6RpPwxHvsRPcrT8/NRNkGxbDE5ck0tHgO7CKTYZjfMvIjCpzg/1tYKAWvvipFJ54oNXBkoVT1oEFS1LFjot1I+v7oTGEUmYwyhvYqlNeTe2GJOVbQxTrs62MSpn3wet2R22FNRv7Ik08+Ge8httiPCTKTXxhdEt9cElxgoU3pgRwATmm43cmIgA2AWXpmmRw2DWDKspKfxAQ/EcWihiQzZBWpaGQB4+pA32DUAIQA+yCban1htzkHIAAQrGAgXl2x32sEEKJpVtkKY5moTtTvNSR7e5UDwDYysQHkRybX1Xv4Ydlz6lRZX7u2/Dhpkmy3ww7+K9dRBvaAAyT7559T6jjAR11LGYdFrx1rTO1iKZpcB/jjvo9kidFjwiAjB+C9U17SafaECZK/GeSuXbhQsr/4QvJPOcVcCv+WgJ/hWH30+3v0zDyLvAfoYzzseHnn9MsSK0D22wfdnn7QIA3ibaeddpqRUODSEFTD4vK4446T4cOHmwQ2bNBYqUAHrO3iiy82SXKRNmj8v14LzxzEBSsQzgYtqNHxfhwHgL3Hym0ZUAQAavyxy98CDpNtT8ayFYwk8oNkN1gLBaWACc4ZJLCPTHKLZMa0QISdUARLGXRCkWqayS7nXOWVok52vJN5fFvrW5EcAHCwfsYM2XFzJvjc22+XH+vXL5NcxxgQp1gTk7zrr5e8p56S4r33lvVffJF0GQT3C8CQDzKgKR7GMJlj4OfYPHuRExPGBiDI72CHWWViLKJN0vJuuUXy/ve/TRKUTz6RvLvukrz77y/VA/u5llRuyztVCwTFYxUZz7UmmyXGA5jVMlj6eBsJZqeccoopQBFPA0AjdwCoMuklWQ0fX8gMnCW4r7QQRo8ePaRLly4mMe62224rtxDGfffdZwph4FWMpZorhBHPyCS+jwPAicfQHcFnBJA78GLT8rcsQ6aCLfzss88MAEyETYjVVQChZpTzQcJnMujzeUlyA8goIwYzwR9NKNJqafwkMSbe2GuyIho9PlDIS+I9Vqy4puv3kayvl0ladcptf/ihFDVrJqtHjSoFY4wBFls0JmI6DjCVkZKY7NmzJb95c7Pt+ilTpPjII5MSAgAMUgDkOSSHYjOYMaWMN0cMxxXkADwPxJ0JDe8eJqQ2S2x03Hl5Ur1ZM8mZM0c2XnSRbHzkEanetq3ksMJy7rmy4emnkzIOiR6UCQx95PkDqKVTehQkS8w7m3EhdyPehjPDJZdcIpfFKUmCrYXpZXWEvqGnBhRfd911ZUgbSiEDsu1SyKo/1mvn3a2lkFkZhPkFTFOh1LXUR8AB4NTHvMqfEZYCIOC34EOigYPh4gWUrExbll7JmMfzFikH4ClIyUUi1mZ2QpECYkCAbf3llZ3kI0DRDkATTGEyNM2JjnWi+3tlfaOdJ2f0aKnepYv51bqPPpISq8SpnVynyV2aXGe7TWy91VZSs25dyV62TIrq1pWCSZNE/vWvRLtVZn+VA3AfwNwnUpEv0AsL8GBMtvH2ZYKBFlbLigOK7QkiAJL7elsROf6000xp69UvvSS5HTpITfS/69dLwTPPSFG3bgFeXeKHsqtjahGdWKsLiZ/V/xG8FOuIpiVm1Y53aLx5G8SHcUerixbYNRcBOwIOALv7IeURgIkECKS6MTPnw4cXcJBNASEyANXdkZQTpOTCC+vrt0/EQsGwzU7CuNgssa0hBCgA8tFQJitZ0W8/gt4+Hta3zDUUFkr+oYdK9o8/xmQNI/1wGYe1q1fLvu++Kwe/9JJkb35O8J8tbtpUitq2laKTTpKSBJaEOSem+9yveGsDfoPUiQY9HvEcj/cL/UN/6dUBgUl50ejRskevXsbvd9yrr8p2v/4qTa67zlzC8g8+kK0OPzxQKVM8fdN9kHMwqQfIp8reMZHrtff1yhJTNY0ENlaX4nGd4F4HPL/88svSoUOHoC7fHSdDIuAAcIYMZGXqBh8nQHCqGx9EPhZBlgHleJpUw0cIFkZlAEFILhJhff3GV2UTCorpG+OkGfYwlTBqulSeaaDJZn29gKaK4pvbv79U69NHSqpXl3Vffy2y006xh6OkRLLHj5e8m26SnG+/NduXbN4r0gitcN99paRdOwOGi485RiQvL/bxkVOsX28YUSYyyB3s+9XTASrBRgBZJFbcz7B/fio/lvr9HnaYrJo6VeTBB2X7Bx6Qgh12kHdffNGMBxpim61HF5pq6Q9uJLx3ODd9DNIuMl1DHMkS46/NO5uJthZB8lusg2PCIFMFlDLErrkI2BFwANjdDymPAC8lwEaqG0v2sHu2WXm81wAw5OWMFAB2AjARCQj5CPPC5gMVT1PWVxNNUm1tphn2aJph0pS1V9kEwAIggN4wjMuufmKeMOsbebI//pAaBxwgWWvXeipokfXll1Ltxhslx6pWVXjWWbLx9tulaOutpXDsWMl6+23Z6v33JXezjlhPWVSrlhSccIJktW8vJSTgRZFKqDYdizpNVvRTythPLNO1rS0HiFfPnH/MMZL9+eey8dJLZeODD0r100+XnHHjpLBTJ1n/yitm4mAn2LGKEm8FwXjixLtAnTpgNnG0iYcZjefcqdqH9wwyOd475BYwSaMpa1wGwGRlVVjSGZkP+5Nk1rhx41R1wZ2nkkTAAeBKMlCZdJnpAsCAVYAcJYMTaRR4QAbAh4eM+fJKNLMNQN+vibuyvnwI+Huqga/GBpCPkb7WqOdjxP8pAMDyjAQ4WkWyiURinex9g2R9I6817+qrJe+556R4111lPXZO1apt2Z1ffzUFNCh8ge6UVnTUUbLxgQekONoHu7BQsmfOlJK33pKcd96RaosWlTlmSXa2/FW/vmxo3VpyTj1Vqh12mHE+QP4De88YkpiZasYy2eNoM9txywF+/11qYN9XUiIFI0Zs8v8lVqtWyYaHH5bCiy8uG+uSEsOo21piTXKMZInRICcac7TamjzMpDrR0vDJHpN4js/7hGQ+vhEk80UmnXrREtssMe9qHDGY+KXC/SeePrt90hcBB4DTF/sqe+Z0AWDKYcKeNGvWLK7Y87EDSGiFM9iXiphPWAwS47C78dJsuQN/p2k1Ny/7B7kNYIm+Ar7RiJa3jAwg1vK1Kp0AuLMka+uI+XeiACDI/nEsWF/6CIPHRMaLw4Ofa8j65hupUb++2aXgxRel6Oyz/9m9oEByn3xS8vr1k6w1a8z/F++5p2y86y4pOv10z7ZnWd9+axjK7HfeMc4TFGuw29+77y4/N24svzdpIjt16CA77b57xjGGZNMzjoBO9Wf2M066bc6YMVL9nHOEScS6n36SrCVLpMbRR5tfr2PScfjhMQ+rSY42S8wEhNUhlU3gPOHFCs8+GXIA+si+gN9Mkx/RV6oO0kckC7xzvLiR2FpifX/qT46JDK1ly5bm2MokxxxEt0GViYADwFVmqMPTUV5QfBRS3fiIwMr61YJp0hBVifQj68VmCIkEoNDL0lsyktziiS/jQj+JFUus2A/5kTfYhQkUEDNx4GNmA2IAQLqWbpPJ+kbGvHqHDpIzcaIUNWggBe+/b34N0MJrNnsze1uy9dam4IWpHFejRjzDtmmfP/6QnEmTDDNMMYfsVavKHGvDVlvJbw0byp/HHy9FrVvLNnvtZQCVF6AR/0Ulb08mXzB7LJUzGUW3ncgkK+/aayUPpwfG6oMPJPfZZ6XaNddIybbbyroffxTJyfHdGZ4H7n+7pLaumqgVHmPAsxGtOmSkHCCo8um+O5LEHew+BuFfrKCYJGQ8eYk9ZAQrH665CNgRcADY3Q8pj0C6ADCs5qeffioYo3ttLGmSNMRHy+/LGc0xbDE+lOW1VCa5VdRnroNr5UOhlc6CYkQVACggJqaAX1s2AQhIBauVbNY3MsbZEydK/ubs84Knn5bcwYMlZ/p0sxlOA0V4y952m8iuu3q9JWNuhw3fV59/LtvPny8Hff+91Jg8WbK/+abMfiU5ObKybl1Z3rixAcR5hx5aylCGka2P7DT3EklgAF5sDYO4V/MbNZLs+fNl41VXycZ77pFq3btL7uuvGylEwRtvxIy71w0iPbphi5mU4VGuYJif9E2tG6PJAbyeL8zbodFF8kBMGMcgym4DgCkw0bt3bzn77LPlqaeeKrW/C3Ms3LWlPgIOAKc+5lX+jOkCwGhWKYfcpk2bmEyRloVdtGiR8UeNx+s2luY4LKwviTyqEYVJg/lNJjtr64iVGSPeeLTaxSGCBGKpZH3LIs2STZZoP/xgHATUzYEiGRvuv19K6tUL7H1ADNFsU2FRE6SUvc/67jvDDBu5xIwZW0gl1u25p/zSqJEsbdBA1hx+uGy7446lgNjvcn1gHYpyIMANzyR/SD5lUupnhaLca/vlF6m5udjC+lGjpLhVK8nff3/JXr5cNtx5pxRee23SuqVWeLaWWFli2HkS+rS8eTSWOGkXluQDa8lmteILYiWCyfXll18uY8eOlccee0zOP//8mO/6JHfTHT7EEXAAOMSDk8mXBuhKdePlSIlKNGEVlSXGYgjWl49tIgUCSLiDBY7UHIeJ9UUbh+QB8Il+UgsFpHJsVDbBBEUBMayxrZvUIh3xAPNUs76RsavetKnkfPpp6X+X1KolRSefvMnTt0ULkW0pv5BYAzxxz3oqZbxqlZFlGEA8caJk/fFHmZPjKrH6mGNkeaNGsuSgg2TjNtsYhlXZyWSU1PbSe/T0MKL85F7dyYu1nJcDI0t5/XWp3r27lOTmyrqlSyXrt9+kxmb3lvWTJ0txBas4Hk/haTMkSIwjLD5L9ryn9Jlg4ggAtlliZBTxPBOeLiZJG3GPIl3h3eN3Va2iS0Le1rVrV/PepnJb/c36+yR1wx02AyLgAHAGDGJl7AIvek30StX18+F8//33pXnz5lH1dlyTvpjR2pExXxFQjnXdMBwcj/Nps63NNMEtEd1irGso7/fEAtYX4ETVurA5A5Dxbusmo8kmAGIVsUZpY30jgp41ZYrkn3qqAVfZERM//q+4SRMpatPGLLWXHHig5wQ4TmMzoiT5YMfn657FVeKjj/5hh6NIJTY0aiR/NG0qyxo0kOW1aklhUZHxn7UBMdr4ZN3HauGGPAcmlEkpcoEgW94VV0geiYpHHSUF770nOYMGSfWLLpKS/HxZt3x5dAePIC9AxIBeAD4TP+QA9mQ0WsEU5AO2lEjLOgcdmyC7qZIHwDyyjiAkD8RmyJAhctVVV0nbtm2N/IF3g2suArEi4ABwrAi53yclAukAwJzzvffek+OOO26Lj4sux2nJ1CBezGhqsS1q0aKFAfu25CFd1mbqlcpSOWACaUdl8IP1Ipvgo6dFCdLN+m7x0ODOkJ0tWV98ITnjx0vOu+9K9scfl1qf6fbFe+9tgDCAuBi3kvz8cp8/lskBTKymAAqDYESNVGLcuE2JdFGkEsX77SfrW7aUlcceKz/XqSOr/v5bADXIEGxmMqjkOiYxMHvo92EL99hjj6QA7fwjjpDsb7+VjddfLxvvuEOq9eolua++KkXHHScF48cn5R1YOubFxWal6IcffhAm3kxIvbC6xEZlE/qT58SenDAOTE68HC+pnRQxibWMJeXTYfCDkDwwUb7uuutk8ODB0q9fPyN/CENfkx1Ld/xgIuAAcDBxdEfxGYF0AGCW3iZOnCjHHHNMKfMAE8qSI8vvML5B6l+RUpCJTNKdevoSpnRZmwGY+AABWCp7FTCYT/pjl3LWogSAMSQUlFD1zYj6vI8T2vz33ze5NgCIJ02SrJUryxyupGZNKTrhBAOIi9u0kZLatc3v7UkMllFMYpKSQKhSCQDxhAlbSCVwRyhq1UoKWrWSlUcdJVy9AjHGB+Bls8R+K6apFIm+Yf3F8ZLRspYvlxp16phDrx87VopPOEFKAXHv3rKRJMUkNQAckxieSfrIeMbbuC84jr1ywvuN50ETTpUlTsr9Us6F8+5DZoUNJe/YoJwsmMR369bN9Hfo0KHSpEmTeEPn9quiEXAAuIoOfLq7DXuhFc5SdS18ICZMmGBsyWALYVx4icJIwKAFXU5Uk+4ovMGyZLpYX3uZHJaQ0qJhXiaN535gbFXPzP584Pn4E3MbhAXFTMZzjRXugxRh9uxN7Ov48ZL95ZdbbF582GGGff2mTh1ZusceUveQQ0yCVLKkB2UuwJZKcH2Ud7YarhKUZAasbzzxRFmz226yes2a0gkKkxPGxB6L8ioI6ze9RwAAIABJREFUcr9qMp8fRjTeMckZNkyqn3++lFSrJuuWLRNZs+afhLgxY6S4Zct4D13hfvgXMyEFnAJ+k/FM8p5VQKyTE/Xpthn7ZElYeAZxeeA6gpQ8jBkzRnr16mXIjIEDByY0cUjK4LqDVooIOABcKYYp8y4yHQCYKE6aNMksMcJG8FEGDKKdDBJEqNwBdgfXCdhupBVaOhjwjb4vyHOWd4fw0eMjyzXAFOJokWmNewmGCRkLXrB4FwN8dYlYWWJiYTOTOh5BVOkKOqZZP/5oZBIGDE+dKlnr1pU5RfH22xunAiOXAKBtv33Ql1Dh8bK+/36TbhipBAU4CgvLXt9++21K8mvbVoqPPVbWFxWVYesjKwgqGGPMkA3xE1DI5DTZrdoll0jugAFS1LSpFBDz0aOlepcumwpiAIi32SbQS7CTwILwL/ZzcbZPtxbr4D2lEhYbFCcqUUiG5IH32K233ipPP/203HHHHXLTTTcF4wLiJ4hu24yJgAPAGTOUlasj6QDA6OOmTJli5AhoCdEUBr0UGGltBsjVhC6AGKww/+bjwsdGQVjQhSHUxg1LLAA+fU30gxbGO8zW+sLiV6TdBvySTGeXcrardKkFW9gy6wtWrZJlQ4ZIzSlTpPa8eVJt6dKy7Gt2tnEpMIl0bdtKycEH+0qkS3hckUpsLsBRkVTCAOLWrQ1YVy9ce7me55PGhISkTOyxksVM2n3OP+QQY1O38eabZWOfPpJ3/fWS99RTUlS/vhRs9mxOOEabD2CX+g3K9zbRa+MZiGSJeVaYpKtkws+kPVmSB95l3bt3NzZ/gwYNMgWNUkEiJBpft394I+AAcHjHJqOvjI8dL8pUNV1u5GUPS4g2NMgWmeRWkcMDzLOykgBi2+FAAXEiS/WmEMJXXxmtKKAQIJFprTzW108/7SpdOh4AlDDJJrTML/IcY1NHSekFC/5JpItS/piSyoYZRjtMIl3Nmn7Ckti2KpVAyoHncKRUArCOVAIwfNJJUnLAAVKwYYPRwTIGSDoYFyYpql+1ZRNMFIOcyJlyxwcdZPq8fvx4KT7uOMlv0kSy582TjZdeKhsffDCxeGzemz5hi8hKBaswrDwF2Y9ALnLzQWx9vU4W0dTjLmIDYv4e6ThiSx4A+EG4Mah07YILLjAyChLe0Pe75iKQaAQcAE40gm7/uCKQKgDMixu7LxwZWBqHMeTlCQgOqiVa0CLS4QAgoEv1tmwilgk+oJDyy8g7VDsZSJGAoAIV0HGU9eXjCygMwrFDL60i2YRdyjnZsgnbwq3C4iSwr5Mnb9IO4+m7YkWZKGPjVUzp482AuGSvvQIaBW+HKZVKaAGOCKnExr33lp/q1ZM1xx8ve3TuLDVq1So9MJNVBWA8E2vWrCl9LhgLBcZ+k+vsK88ZOFCqX3zxJrsz5A4FBVKjdm3jzlEwZIgUnXqqt45WsJXtZAHw5f1T2ZhLJu06Fvy0x8KWr3z//fdmVQv5ShAAn3fjPffcIw8//LBcf/31ctddd/mz+Ut49NwBMjkCDgBn8uiGuG+wv7rkmYzL1Ex5GBdYI4ASy6mzZs0yjCigItEWraBFEBY8ulRvs8R8RCvSEdugENY3COYl0fgEvX8QrK/fa4ocC8YEYEbCkg2Ig7SaUvcDAARAAkmGp1ZUJNlz5mxih9EOz5u3xW7FBx30DztMcYfcXE+HDmQjWyrx7ruStWpVWbC+2VXCgHWkEhErF/ZYKBjT5DobEJeXXBetD9UuuEByhw6VoubNpeDttyV7wgTJ79jRbLp20SKRBDXzrPDAbjNZg71MR6GZQMYu4iC2nIg+cs/yTuf9h25bQTHvXl++1NZ5WP3473//azThr776qrRr167STRySEXt3zOAi4ABwcLF0R/IRgWQCYCQFai2E1MH2DsWWDLCSqAQilQUtbBP8SB0xHxhAAEv3++yzT2kCmI+hqBSb4gOLrCMZrK+fADAWtqab8Yj0wVUw5vfDzzMBg//jjz+aFQomaYlMqLD3yt6cSJfz3nuS9fffZQHndtuZBDoDOFu1EknAgstPDE3VunnzpNaXX8rB338vNd97r2KpBLrmKAVCVMJis8SRyXU6FlEdFkpKJP/AAyV76VLZcPvtUnjDDZJ3xx2S16+fFB94oKyfO9dPt8rGtqTEePtSspn3D/Zfmbgag+QBgKoJxYyJ6olhifk3ExJbOhGLsWef6dOnS48ePcxKFlXdglyxi3tQ3Y4ZFwEHgDNuSCtHh5IBgDkm9knYm+2yyy7G9SDywzdv3jyzNAdLGk+LZH3TZW2GtIN+InegwchoVaggdMTxxCYZ+6SD9fXbD7WaUsZel4f58Ecu1Zd3bPZl0kZjtYIxDLQVFEj29OmbpBIU4Vi4sCxgy8qS4iOPLC3CUXL44YEn0vHscM+yTB5Ztc5IJewCHJGuEvvuW6obxlVC8vKihodVJeJvO39ocQh7LAxjv3Ch1KCf6H83lzuu3rq15MyYIYX//a9seOKJuIaAZ5OxBIwHXbI5rgtK0k6aV0Fc6WdkQjHvY8gIO9GR1RPev/ZYMInXyQH79O/fX/r27WtszihukQx7uCSFxB22kkXAAeBKNmCZcrkANoBDUA2GkIIWfGQr+ujwYeLcLEf6adHkDukqaKG6ZpLdYAlhSeiTzYTFqyP2E5NkbxsW1tdvP3V5mKVhHZNosgkAMveVVgFDG4pbh1/m2O/1SUmJZH377T9SCSq+RQLO3Xc3xTcMO0wp7wSLUNgFH5h8VmjHp1IJLcARWSCkVi3DWJe6SlSQ5FlecQhifMC0abI/bG/NmvLXkiWSm50tNbBELCiQguefl6JzzvEdWnINWKkAYCNfiaXb932CEOzA/Y20jKQ+PzZukYw9zwYAGW92ChTxTmZCD6P8/PPPy1lnneUkDyEY70y+BAeAM3l0Q9y3oAAwwGLBggXGA5Yqbnj8VgQg2JaPcf369T1HJ9EkN88nirGhZpKzTA5rUlHxjnh0xEFdZ6LHqQysr58+liebsFcPWOJlIpN08BvtwtesESQSWqI569dfy2xFgQjcEUoT6fbd10/3zbPJc6dafF+gEFeJjz/e5DmMrnnBgrLXphZw6ioRRSoRebGaXFfr4ovlX+PHy68NGsjM226T2osWSaOrrzabr5wzR6ofeKBnAKbyFUAhybbIkSpbopuXQeXdSWELJA+4PCS6UkHckKVha/bhhx+a1QHGhxUCilxQ3Q3rs0Qq5Hnpl9umakbAAeCqOe5p73WiAFgrf/FhRVPm1Q0A8Ag7SjW4WC1MrC86U5glllXRE9YmUz0rK1YXSn9fkY44mX7Eni9w84aVlfX1009lfWF+sTdjSRgmjGdCZROaYOcLLPq5iPK2RUrz2WeSvTmRLmfOnC22LD7ggFLP4WLKz5YjR2Aiw/MJK8rENIgSuJ6lEhTgaNq03GuDBa+x774C2C+4805ZecEFkvPgg7Jz//6ybscdZcLzz0u1zYmOdkJXNE02zySsJVKLoKy/ghjKoI/BOLLKRjxgt4PwUOeef+6550xBiy5dushjjz1m7peZM2eaP4Dit956y7zvXHMRCDoCDgAHHVF3PE8RAAQw04+nAQZ5EbOEprXlvSYLkZSCdu1oMuAraGFhfflAYPwOM0J2NbrmoEBRsv2I/YytzfrC5CeaAObn3KnclqQh7l1AE2OJ7y2Ncba1q0zS1Pkj0m3Cz8Qn4b798otQ3MKww5MnS9aff5Y5ZAlyhBYtNgFinBt22cX83nY/8OVk4eeCV68uW4DDh1QCL+UaDRuas61//30pbthQqnfsaPpaeMYZsvrpp8toV22vbhsQ434AyIehZEUmCOsvPyFIxbbcm5qc6UfyEOvauN8vu+wyGTdunDz++OPG8SGl93asC3S/z/gIOACc8UMczg7GA4B5EQNgAYNYmfHBgf310wCT/GkKOxSlhYn15aMLWELzi38oiX3J/EAE5UfsZzzYtqqwvugb0U4CaLl3K5rIRDL2AGLAs12MgOVnwFjK3AU2bDBlj1Uqkf3NN1sMdVHDhvJb48bydZ06Uqt5c6lzwAGpuT6VSmgBjhhSiZxp06TaNddIybbbyrolS0zCX4099pCsNWtkQ//+UtizZ5m+RSbXMR5ayIcxYMmecU1F5Tq/z1ci2yN5gN3mHRSE5EGvhVyMrl27mvfZa6+9JvXq1UvkMt2+LgJxRcAB4LjC5nZKNAJ+ATCMEmAQ1liZs3jA4LJlywybcfzxx2/RBdvajF+my+GBDytAX90ssGwLYrnR75glW0dcVVhfwAPyFUATSW5+5Ss6bnbJWs2s53eArsgiHX7HOp7tsxYu/CeR7oMPJCtiRadkl10MK2yS1f7zHxGvfsbxXEzEPuba0A1TgGP69C2S/EqoqLd2rRQdeaQU4Ek8f77UQM4hIutmzZKSQw4p9yqIPTpY3g8AX0CiVq7zUi0tgO6l5BB4iwNUg5Q88I4dOHCgXHPNNdK+fXuT7IY23DUXgXREwAHgdETdndNEgCX4WE1BEt6oe+65pwEQiSwzIn/gpd6iRYvSUyvrC/Dk7+kCvlwQH1fAEowTQH+nnXaKFaKU/T5IHXFVYH0ZmJ9//tlUIgSkolNH8xtUs22m1PYrHbIJ7oulX38tq954Q/79xRey0+zZkr18eZluluTlCfZlpYl0++8fVBhiH8eDVKJ4jz0kh/LhtWrJOqwFs7O3OK5t48YkhneRzb5HTlBsOzy7nHOyqwjGDkjFWzDxxU6SlbIgE/pYwQD44uv70EMPyaWXXpqQz3Wi/XT7uwg4AOzugbRFgA8GH5Vojf8HrAIeYFXQESaaccx50OyRddy6dWtzbv7wwueP2prFwywnGkQALx8dgL4a56fFEcBnR/zqiKsK60s/tQQ3CWDompN9X8WSTShLHKRsgmeYlRlWaFipMGV+RSRr3jzjN2ycG2bPlqyI57x4v/026YZPPHFTslr16j7vvDg3LyqSnCFDTPnjqO+d3FxZR4W6iARTWHz6CahlIlOhjdvmA5dXRZDVHHssYEC95jDE2WvPu6nkgZ9IHsg7CKIh/Tn33HNN/IYNGxYzByOIc7pjuAjEioADwLEi5H6ftAiUB4B5+cKCwhKSdAELEdQHAqbso48+klatWpUC4HSzvvQTsEQfYX2D+ugkbeAqOHBFOmKYL+IPg8/HFSCWiU09qQE6SUsA8xg4ZSXtIh3sGuk2EU+xAe0n40o/yy3z+9tvkjNx4iZAPGnSliWQt95aik44YRMYbtNGSnbbzWPv4tss98knpdoNN0jJ9tvL+ilTJO+66yR34kRzsKJ69aTgww/LHBgpAOCX/tFPv3kHejD1wbWLdNjJdXZxiHRInrSf3Bv0M557InJE6POoUaNMUYtmzZqZksbkb7jmIhCGCDgAHIZRqKLXEAmAeVkuXrzYaHTVM5Sl4yAbH5wZM2YYDTDLl+lkfWEJv/76a7NMDkMI0E9ZQlOQQa3gWLBgsIOw27A/gHz+D9CkFev48AMuks2QJrvLgH+YLnTm+PoGOXEL6tqRTURWSuM+BNTZOuKKxsP2vPXdT5LVPvroH+3w/PlbdK24Xr1SqQTuDJKTE1T3zXGqnXmm5L79thSeeqoUXnKJVD/pJMkqLpbCTp1kw333iWy23LLdD/D15U9QE3HtkE4YtWAKP+3KdTomyXw+bMmDllMP4llkdahPnz5G53vnnXdK7969A49foDeGO1iVi4ADwFVuyMPTYT68vHxpfJRhWdCJsZQab6JQRb3TggQffPCBkVXoxwUgBusR9MetomtB3oF9EkwPjgCZzIbC5hNvlo6Z2DDGyoIBjmH8YYXD5Efs9ynRUsYAB/rJvVUZml0pTceE8dBkLnWaUNkEE0hcAQDBQXjeZi1e/I9UYto0yVq/vkzYSnbccVMiHRXp0O0nGteiIqmx556StXq1bOjbV3KfecbolYsPPFDWf/CByFZbmfNjtUg/maTDhqZqVSbWeChLzHgEIZFC2kFCX9CSB4gMClhQGGTIkCGGcAgCVFeGZ8pdY+WJgAPAlWesMu5KAcB8YLA1w/EAT1TsvoJYerODFan11UpQfPABYHiywrxqokoy7aVgRQC+LDfCEMKgpRJ4p+omitT6VsRu+9URp6oPXs7DBI77lw++arcrO4vPeMBEailnJqeGOa1WzSSuAsKCTugzJ1i7VrKnTfuHHf7pp7JgOCdHKLyh2uGSunW30OrGGrOsTz+VGpstEIuaNpWc6dOlpHp1WT9tmpQcdpiRRWnlOkAvk9N0yBHsftgyFsbFTq6zZRN+k+uSJXkYP3689OzZU4444ggDftXrOtbYuN+7CKQ6Ag4Apzri7nylEeBDA8tC40OTDMcDL9ZmgDWbkdQPPmylvUyfiPuEVq5jiZzlTPobtLwjLLdWog4P6fIj9hs/2FAcRbh/AISZqm1UNpSf3LuwhUlfpi8pkawvv/zHc/ijj4xMwW7F//73Jma4TRspxtYwPz/mEOb27y/V+vSREiQ3f/9ttt/w6KNSeMEFpk+auIjDAxOaMLKWWjRFZRO8uwDJdnIdwLi8VS170hak5IHn4K677pL+/fvLjTfeKHfccUcgLHXMQXUbuAjEGQEHgOMMnNst8QgAHngZkyUfNGuWiLUZy7v6cVEWjP8DsCog5qdXplqT+jgmfcXOLYwf1kRHlA8g+m00sEFqmpPtR+y331wPjC/ML+wWkp1EJkd+z5/K7ZHqIGHRxChYxoqW6W0dMRPIwJ7rlSs3VX2jIt3EiZIVWfWtZk0pat5cijcD4pI99ogaJq32VpKVZZwpCjt2lA0DB8rqNWvMZJzVGKQd9LeytMjkOgAxq1r0hTGwWWLuXfqJDAlpR1CTNvIYevToYe6VAQMGSNu2bTPyHVdZ7gl3nd4i4ACwtzi5rZIQARgXraYU1OFtuYNarGmiW7znsAEYgFjL1JI4ZANi/m0DW86PrRmgkO1weIg3gzzea0/Vfomyvn6uszy7r1ToiLUMNwCC8aQ6XyY2nk2kOgAbLzZutoyF5wN2nKYATIFxIHKCoiJjrWbAMDZrm1eR7HEoPvTQfxLpjjxyUyIdyX61a5cyvzDI62bMkMWrV5skTSzcmMwEBtrTeGPYqyhMvDW5jktiDJigUr450eQ6nkVyKgC/sMlYnHFs11wEKkMEHACuDKOUodcI+OVFHVRTuYOC4GQVtLAZMAXEJJPwYVFADDuMrlmT+qgYlYmsr+18ECTr6/eeiAbAiLctY0HjHS9Ty5iT0IOERbWhXlcA/PYl3dtrQh/PDyxhPJW67FUUrVrHvUIhEGUkeVb4d6LPRdZPP5lEumwA8dSppsKb3bA7K2rZUorr1JFq995rflWSmyt/jhsnn+fnG3Co1SXTHftknF8lD7yPYHx5TzEmdrKjTlAYa6/JdYzxww8/LHfffbdcdtll8uCDD6ZdL52M+LljZm4EHADO3LENfc+CAsBhKGjBx4SPysqVK02CG3IAPux85AFM/AyT4X0QNwdFRVjyhDFDAxsmJ4sgdcRaBAGgVFrsIaJQQhDxTPcxAEoLFy40E7egE/p4RlmWVzCsAExZexuAJcTArl8v2e+//4+zxA8/RA3rqj59ZOaxx5oVGSQPmboyw72L5IGVC/ppSx402dH2iGac1CNak4KjJdex4nPhhRcaT/UXXnhBOnXqlPBEJt33vzt/1YuAA8BVb8xD0+MgAHCqWF8vQQMgAQhJSGHZmI87DDF/1PA+0mnCK9vi5fyp2iYsrK+f/lakIwZ8KXNvLwlzbyEBQAqA/juRIgh+rjUd27JSgSafiVyyElIj+wU4sxO5ApdNkEj39df/SCU++MBUqSuqXl3eHjZM9t5331B6NQc1/kxQAb/c04BfgGxFTZPr7EkK7zJWOpi8fPLJJ6aYBe+sCy64wEzsR4wYIfunsqx1UMFxx3ERoGJliQolXThcBFIcAV64MKXxtDCwvnrdAHkSopYsWSJIHcggj1xqV0ZSATFOEzbbogAsEI1kPAH1uE+YWV+PXTCbVVQ2WDPolRnjA7/XXntlJMOl7iQUZOEehMlP1z0YSzahLHG8son1n30m2T17yrImTaTW7benzNvXz30ZxLaMqVpL+i5UYl2A+qYzSZk8ebKROLBCwMoWpaDPOeccad68uRxzzDFGT+yai0Bli4ADwJVtxDLoeuMFwLa1WToruTEUSB5gfbkmmDOvWdXKtigg1iQV2Bo7sS4Wa5Oq26Eysr5+Y6M6Yuz5WOJlTLm/Iln7eHXEfq8n2dvD7mH7RV/DaPtlyyZ0MgJrTPwj3SZieWkzpvQ13SA/2WPKPQzrC2PLikVQwJT3E+WMp02bZthfJiEffvihkUDA3A8dOlTOPvvsQLpHQuJDDz1kjs2qBN7w/IxslFW+7777jGSHFbfbb79dzjjjjDKbQbDcdttt8sorr5jVhqOOOkoeffRROfzww8tsx0rPlVdeKePGjTPuGaeccoqxc0tVAZRAAucO4jsCDgD7DpnbIagI+AXAiVibBXXNehy1/Fq6dKlhB/fbbz/PySPRrkU/9gqI1dvTLhkcVNKQ31hkCusbq9+AfJhQwBIZ7djV8XFX8MVP7lnkELZsIiyTlFj9s3/PmFJ5EbaX5XEmXpWhAYDt8VBpke02wYRFWWx7TAH5mWpByNgxpgBFwKkXyYPX8aZSXNeuXc3E47XXXjPH1gZrz32Eg0ZQYHvMmDEmqQ6wStIpz1wkAH799dcN2MVvuHXr1jJ69Gh5/PHHhSIc/Fsbx8GWjWQ92HBY7M8++8xMErRAB/dIo0aNjHQNQM27/YYbbjDVSN9///2MXPnxOvaZvp0DwJk+wiHuH6CPl46XZmt92T5RazMv5yxvG5LcYJPQwsH6JqPsrb1Er04TWjLYZogBY7HYr3j7WhVYX40NTD4fcnU+iJbQF6kjticpdlntRK2l4h0vL/sBWGDYsOfDtYOJW7LuHy/Xk+g2kcmOsHz0kTEACPJv+gfjF6YkzUT7be/PuwJpwqJFiwIdU44Ly3rttddKhw4d5Nlnn43LEcRvX3nO9J7EXg3tcSQAxrUDIA4g19amTRsz3jDHNMgJ7vHHHnvMsNc0JkxMbmGx77//fvN/w4cPN+w150ACRIPdPvbYYw0jfOKJJ/rtgtu+kkTAAeBKMlCZeJleAHCYktwA6zCEFAdIRFsX71gq+6WAWEs42+ArqOIDVYX1VUCIfhsm309Rllg6YmWJw+L+wf0C8wVo5EOficu7jAkgBzD466+/GocSxhhGWKUsjEtYxiTed4Huh+QB4Eafg5Q84Bpx9dVXC0zrI488IhdffHFaJkrRADBjS2n1kSNHSseOHUtDCFj/73//a8YdNvrll1+W8847zzDj9r3ONoBqrULavXt3wwrPmzevzHAAlE8++WTDLLuWmRFwADgzx7XS9IoXeLQWpiQ3dQMA/LLcDXgIQ6UoLeGsgFhLONuaVT72fpwmqhLrS7wADwCkoABhRX7Etm41lTpi7l8tyEK5cdizVJ4/lS8jJqkw+TwT9JOkVC+yCcamssWEVQtAHBZuMNxBSXF4z3Xr1s14mFPY4kgKiaSpRQPA77zzjrRr186swqEP1jZ79mxzrRTmaNq0qZExIH9A32u3fv36SZ8+fcx9AdPMPgBq+mo3zsHzPGnSpDT13p022RFwADjZEXbHrzAC0QBwmFhfXpK8aPnYsFwMSxjWJWPNoldArJpV9fW0i3REGxSb9U2WtCMMjwNLrLBI/CnPtSOo66zIj9hm7oMCL5HXzfMFIGRpGLCA7jHRwhNBxSbo4yggJJYsjyOBiNYqkk3Yk5TIyo5BX2+8x0um5AHGF93sCSecYBLH0r1KEA0ADx482GiS0eqrjpdYIu3BsQUNMUlsPXv2NGAYG0O74VvM73gmWAlgnxYtWsgzzzxTZjvOQYLz3Llz4x0qt1/II+AAcMgHKNMvD8ZGnfgik9zS6fDAtVD5izLGvCQBhOV9UMM6RqpZtRPr7GpcAGL+wBDTz2XLlhnNHGxIQsUIwhoQEVMQwPa7xc4plS2VOmKWgvmAo4fNZA9ju4BHPLpm9tciHZpgx8QB2YQNiJlIpnvya0seWLWA0Q+iMdG/6aab5KWXXpJ77rlHrrvuurT3lX5VBIBhdu1S5LzDSHR88803pX379gbkTp8+3RAYdnv++edNEQ9WgBhTAHDLli3l6aefLrNdly5dDHieM2dOECF2xwhhBBwADuGgVKVLUgAcJtYXkARwQFfHC5Vs4ExgzYgxfbMBsTLwAF6qf5HNHeYkrnifDVsGgFUdE5p0+d3afUiGjtiWsbBqgV49E+7faGNPYigyAH4C8r3aEFZ0HzEmkbIJADLgV+VF+jOVsglb8hBk9TpsxJA8ACixMzvuuONCc784CUS8bzy3n5cIOADsJUpum6RFAADM0j0sDH/SyfpyfpKhMJFn6Q8NYbKWppMWUI8HVnsoWF9AA2CQJUF0f7bPKgxxGJgvj92KuhngCBkAExpKGSN7CDMgTERHzBgCCOkfgDBTnQ8YaJJRmajSR9hQKpYlq6G316p1+lMt8ezkumTIJgDkyHVwetBEzSCYaI6LnhY2FBuwQYMGlWFUkxVLP8dNNAnu/PPPNz7XLgnOT9SrzrYOAFedsQ5dTwGa6LGoJITnI8xjEC/2eDoKOAIkwfwAkjJZK6laX2INcLBt3BR8qY5YfVZtvSof/MogkeADj06QpB6VsQBQKlvzoiNmfOgrIAkWn3u4MoxRPGPBhJkxZfKGaweyh1RPaFIlm4AgYELDcj0TmqAkDwD6vn37Gouwm2++2RSL8JMsG8+4xbNPRTZo9erVK5O4hl0ZEpZIG7QnnnjCuFjQYPJZEYm0QevcubN5/0N60DgG3yVngxbPqFWefRwArjxjlXFXStYuVjv8BKw0aNBAmjRpYvwX+QloSfaHzdbmrUzSAAAgAElEQVQPoicDOIRhaTwZg20vjWvxjlggSZkvBcSwXzQtPKCJdalcCvYSG4AD7CBgH41fJhVAiNQRMzZaUhwgzOSNcclEKQsTMgAhMUAGEBaG24tsgrHher0+K4wrfdWkvqAmb0yUAJZMIgYOHGgKRyT7PevlmdVtWIWCmaY9+eSTZkUOKzba8ccfbyYBI0aMkLPOOsvollu1amUS36jwFq0QBn2kEAYTJSrMoeklDyCyEAbPEIUweE9ef/31ZiLpCmH4GbnKt60DwJVvzDLqivlwsETNjJsym2Ttfvzxx4aJxdoHOxsAsdabD/JFDVsASOKFx8w/KHYljANUEevr53ph32CjbKcJ/i9M1dE0+QvAAGtWWaqc+RkHtlWGmyQfJiQk9GkyFyACRi/SIzpdKyx++xa5vSalUhmMfvK8hpGxtK/blk3wrmHyaFcS1LEB4NrvNfqKLhfgx8SNCVwQ48Zxp06darxyyW1A78vxw9boOx680dqUKVOkefPm5lf4/t57772lpZDvuOOOLUohMxGOVgoZ9thuTAoohQyAZiy0FHIQmvKwxdddzz8RcADY3Q2higAvaZbhMSpn9s2fmTNnGtDFcj3MsILieGUKAF6thkXiF8uoXlmZUAXLw8XEw/p6OGzpJroUrIBY2UjAp7LDfOhx0Ahy8hLtGgEcsFok8+BkwVJnEMDBTzxStS19BfhSlTAaw52IjjjePpw39jz5de2v8mjLR2W/7feL9zBb7EdfWZ4mCQwrN5i5ytjKcwBBu6xgmMkaAFDfd0G5lDBJpQwwDCdAjypomfrOq4z3hrvm9ETAAeD0xN2d1UcE+AB++umnpYAYaxuAFh9+lUyQuexlmVuZUMAYTgDp9rn0EQbfmwbF+vo5sboa2IAYNh9ZSWQJ5yABsZYyRtIB6wsjmqlN+woDigwA9j1W86IjZnziTfpcvHqxHPzcweYy8rLzpPth3eXMg8+UY2ofI9lZ2bEur9zfqwyA+4e+ZhKbr6tfar3G88qzQkMqAfuosolE2G4mSWheIRVefPFFUz0tyGcv7sF1O7oIpDkCDgCneQDc6f1HADYDbRzsMJIJ/pARjq5V2WF+wgIqA8iyONovWA+v+lf/VxaOPZLN+vrtJRIXPvIKirFiC2p5nnsB/08qnakHbCxds9/rD8v2MIgsiy9evDjhpfEg/YhXF6yW5oOayzcrv9kiVHtss4eccdAZcuZBZ8phOx3mGXjZxUqClAGEZSzt67AlD1guAnxVZsTPaLIJL3pgjoucjFK/yLtee+01s9rlmouAi8CmCDgA7O6ESh8BPhBoA9G3KSAGEGF3hX4YZoukCZLssPoJS+JMMgKfDtbXbz/Q5dmAmMQmGCm7hDN/j8V6oakkmYXxh/VlnDO1oe2lr8QOKVDQ2sR4/Yg3Fm2Ujm90lCmLp5SG/pxDzpE5y+fI1yu/LjMcB+1wkAHCAOJ9touu8WQHWFAmuEyUgiz2EMZ7Q0s38zzQ10jJgxfZBCwxqwC23If9cD9A/3reeedJ//7942b3wxg3d00uAkFEwAHgIKLojhGqCKhv5ujRo43ND96+yB1ggY8++mjDEvMH0BQLZIWqYxVcDKwvTOjSpUsrHcOty/O20wRjGFnCWd05bOcO9KAk9GTKOEYOsZ38teOOO5rkr1S5lMTSETNJufWTW2XQl4PKXPakzpPk6NpHy7xf58lr81+TEfNHyLK/lpXZ5qjdjzJguOOBHWWXrXYp/R3PKHpfJCw8n8n09k33sw3o/fzzz00fKyrdHMkW64qKSieYKLDqMXLkSANyGzZsaP5OUjHlfalo5iQP6R5td/4wRsAB4DCOirumhCNAhnOvXr1M0gxew3xQNakOlpgEIj7guEvAEgOIjzjiCCORqGwfi8rA+voZUABupNMEIBn9J3/4HdKHTGcHAaC4lDAxwJ4PsJ/OezNSR/zc/Odk0PJN4PfUPU+VMT+OMX//uMfHcuhOh5YOeXFJscz4aYa89tVrMuqbUfLH+j9Kf5eTlSMn/PsEOb3u6VK3pK6s/nW1ZHr1OiY1yFhIxCUJlwlcIsmasMishvzvf/+TSZMmmdUw8iaYLLVo0cK83/iTbMcHCAeS7Hi3ItHgnPybe9duuDfw/yT7Icm4/fbbt3Bv4PqjuTfgDOSai0BQEXAAOKhIuuOEKgJIHQCGl1122RYFAfgAwTTZgBgmBqcCCnIoIKY6EuxMOkFHRUGtzKyvn5uF8UImQZEHEnoAC4Bk2C6WfzW5LpN8b+kn4Fet3Lg3w9SGfzVcznv7PHNJLWu3lG57dpPuH3U3/37liFek7q51S8fGHpcNRRtk0qJJMnz+cHn7u7dlXeG60m5Vy6omrfduLV3rdZXW+7SW6rnJq+yWrljakgdWpfAeD6LxPLzyyity3XXXyWmnnSZUQCNxeMaMGeaPssbJ0scDvPET7tq1qymrDDuNLRmTVWX06efrr79uwO6NN95otgc0P/7441H9ewcMGGD8e3FzwcHis88+M9IY9e8NIm7uGFU7Ag4AV+3xd73f7KcKy6b6YYDx3LlzzbJ648aNSwEx4DgVdl5eBkWdAKJVc/Oyf2Xaho83+ld0sDD6gAZ0orbTBNvA3tvWa5WxhDPMNgweUha8UPmTCDuYjHGe/uN0aT+ivQBmG+3WSMadNU4+//VzaTGkhTndrE6zRNaJAUEV+RH/WfCnDJw9UIZ/OVw+/fNTKSopKr3cbatvKx0O6GBkEsfteZzkZOckoyspPSbxAMBxn8JkBjWp4bm46qqrZNSoUUbr27NnzzL3jPpFJ9M+DpeJyZMnm0mqEgazZs0yhAJFLdq2bWtiDSuN3IOEPG1t2rQxDHZkBTfka6zi0ZgA8yzYFdxSOnjuZBkZAQeAM3JYXacSiYAyjh9++KHR0WG7RrU6wIlWq0MykapqdXZflPX96aefMt71gHGg3C3evshVkDyUZ9MFIFZNJMAYUADbpf6qaieVLAYskftN94Uts5P67BLVQRw/iGPg9PCfwf8xMoZ/b/tvmdJlitHwTlw0UTq83sGcYtU1qyQvJ8/8vTwdMZMTlrmZuCAByN8hX0Z/M9pohmcunVnmUnfdalcjkTj74LPliF2OCO2KTHnxDVryYJ8HuQGMK8zy8OHDjf43HQ2nCRhnVtK0MZFD/vD222/LSSedJIsWLTLOPOiTsWLThiSC4hysyqFzf/nll03iHit4tk0l22DlxiTCNReBICLgAHAQUXTHyOgIqF8nlkLqNGFXq1PJRDKq1dmBrUqsr+pf6TMACa2kHykK4MoGxIBLmjpNKDAOQzEAGyDhXAJoCGNS329rf5MTBp0gi1Yvku2qbyeTu0yWujvUNXEd9fUo6fpmV6meU11WXrOy3PcBEzgmNdi50W/+RNp8/Znzp7y56E2jGf5yxZdljrX/v/YvdZLYf/v9Q//esYt4IHkIavmeuAF4r7jiClMK+KWXXkqrCwqrZuiNKVmsEgiuDZ0zwBgpGUxwu3btjEaYlRxtkAtHHnmkWYGDWLjhhhsE+QMFbezWr18/6dOnj1n9CduqSOhvRHeBUSPgALC7MVwEfEaAjw+MCy/uyGp1fOQ06YSXebzV6uxLqkqsL/3G05mPJEvEsL5BFD+AvWeZ1S7hDPCKdJpItesAH3NYX5Z4g9SE+rylY26+buM6OWn4STJr+SxT6OLNM96UZns1+4fF+79Xpdf4XrJjzR1l8aWLox5P3VlYJmdCQyEbJjX0XScr/OTZUn33L/KLTP5lsoz+frQsWbOkzHEb7NrAgGHY4d223i1mH1K9AfcbjGjQkgfuGQWJJJNdffXVoQCEY8eOlXPOOceMJ437+d133zVjTRs8eLDRCFN22J4IAJK5F8aMGWNKECPhAAwvWLCgzJCRzMzviGsmF7pJ9X1alc/nAHBVHn3X98AiYFer4+WNbAL2kixnBcReq9XZF1WVWF9iyEcPAJxsJwD1V7UBMecHdNuJdSSh+WGe/dxQMFwAfT7mFck7/BwzGdvi4tDtzW5GokB74aQXpPMhncuc6sGZD0rf6X3l37X+LV9d9NUWl6FAH2kKwKi8Er/l+REjXfkp6yeZ9sc0mbB0gqxc/w/LnCVZBoyfddBZcuoBp8p2+dslIwyej0kfsF7ElpDCFqxgBCW9YfJw7rnnmmRQnG6YZIehIRdD5tCjRw8DYgGp9957r2FrScLjHlcAzH1vJ/8RJ2L05ptvSvv27Q3I5f3Js2G3559/Xi688EKTWMfE1TUXgUQj4ABwohF0+7sIRIkAjCPMHhriyGp1KpngJ0Av2nKezfpSuQ4gHdRHNIwDht6PbHHYMvxfU/2BA7Tgp2on1iHDgBG2ATEFBxIFxABtdM0AAcaVCnaJHjOZY9pnah/pP7u/OcUtx94iNzW5aYvTNXqpkcz/fb4ARnse0VO6HdZN6u9S3/QLsMbYEjvG1m+55Ugd8R9r/pDP//xcPvzrQ5m+YrqsK7KcJHKqSZt92hgXiSN3O1IO3eUfO7ZkxkiPnUzJAwzrxRdfbOQCAwcOLHcSkYp+Rp4DxxzeU+h7tTHusL+w1Ndcc42TQKRjYNw5K4yAA8DuBnERSEEEtFodgBjZBAwHLBGaT5LpAMMwxGjjSBpB03fttdcawBDGZKigQqauByT1YXdU3oQgqPN5PQ6AONJpwnY0ULcJmC0/ekQANhMjJjNkw6ca6Hvtv273/KfPy1WTrjL/7HJIF3m27bNbgPV3vntHzhh1xhaHrvOvOtJipxZyRM4R0vTgpiaLPwigb/sR//z7zzJpySSZ+vtUmfvnXCksKSxzHftsu498ceEXfrsd1/YqeUC/jctDENIdLgRJCF65Tz75pNx6661yyy23hG4yzMoJ1mZ499qNMYcZ5tr9JMFh47ZixQqXBBfXneh28hoBB4C9Rspt5yIQYARUD2kDYrRwgF2W+Fq2bCk33XSTcZ0IY0JUEKFA7wkYpCEBCHspY4CIzRCjdQT82k4T/D0aU29Xr1P9a9gZ/fELx8sZI88QJBDH73W8jD59tFTLqVZm6D/75TNpPbS1/L3xb9mr1l5mu2lLpkXV6yJR6FS3U+B6XZWz/PDLDzLm2zHy+g+vy/drvzfXuVv+bjKlwxQzRkGw99Hue55lSq/jeoDVGEmMQY0tE0NkBSQN4m3OeyGISUQQz699DOzNkDGg49XGCges8D333CPXX3+9+W+2q1evngwbNqx0uxNPPNFowCNt0CjlDONNQzrDBNnZoAU9clX7eA4AV+3xd70PSQTw0MTmhyXUZs2aGaufyGp1sMT169evlNXq7DADWPigUw0LjSQJMJUR5MNERjpNAIZghRUUA+oBzgB9GGWAPlZPYW82sD1oh4Nk0jmTttDWLvtzmTQb1EyW/7XcWKFN6zpN9thmD+NhPGrOKJm1bpZMWzFNfl/3e2l3s7OypdmezeSsgzfpdfH7DbIVFBZI41cay/d/bALAtx1+mzTduukWfsRqi+eHvY92nTyvFCxBwgO4Y0UniMZ9xDsBJpRVIfS+mkwWxPGDPgZg9fLLL5dLL71UTj31VPNcoAHmGUf+onEZMWKEnHXWWWZyj3sFgPnRRx+NWggDmQeFMJAIPfTQQzJnzhzzHAXlpBF0DNzxKl8EHACufGPmrjjDIkAVJczgMbO/6667TCJWZLU6JBNklJOUhQaQ5BcAMYU6wlytLnKoYE35iAEKKwsY9Hq7IeeAvefjr0wx/0dD98pyMODXrwbW6/mD2u6nNT9J88HNDbDduebOMrXrVOP5a7e/NvxlmN95v86TGrk15N2z35XDdzzcJDHi5woLyuSmsLhQJi+ebCzNxn431jDF2rBMO3HfEw0YbrNvG8nPzU+4C3dOv1MemPmAOU62ZMvyK5fL1tW2LteP2J6sAIr92OIheWCiCtsbpOSBidUDDzxg/qCdhUH1c10JBzGOA/C+IkntqaeeMtZnsO28p7h2pD52w/cXcKylkKkYR3U4u/F+iFYKGfbYNReBoCLgAHBQkXTHcRGIMwKAJMp8VmRizwcGYEVCHRpiflKtjo8vIBgdMRpiPjphLAnM9fPBg/klAxxWK+wf9TiH0+ymJW9hBnE8oP+AYhhDJjE2QxyW6oJc95qCNdJySEvjv6vAtuFuZYsrFBUXydmjz5Z3vn/HJL0NPnWwNN+luQGDMKqAQQBQZPt7w9/y9vdvm2IXFM4AHGuDCYYRxtYMhjieym+w1s0GNiutKFdv53ryYfcPow6jrSPmuQLM8hxy3bakhbGKbMmUPDB50DLGFITAUSGMkodEng23r4tAWCLgAHBYRsJdh4uAjwjwEUYXh8WQAuKwVKuL7AbJYyyD4rIA8M30JUySd+gvzDzslyZDqcWXrSNGFlGtWrUyThMkxqUD9Gws2iinjzxdJv0wyQDbYR2Gycn7n7zFXdn7vd7yxJwnzP/f3exu6bhLR8P6+dG/rli7orTy24yfZpQ5h1Z+gxlWJ4lYjwbXjhyDkszolCnTfFH9i+SRlo/E2tX8XnXE5fkRKyhmTJEmMcbYuQUpecBKDL0vcaTIBVXTXHMRcBFIXgQcAE5ebN2RXQRSFgG7Wp1ar5FUAsAChKlkAqaYZfhUACyuCT0oyUEACABD2Jf/ExkwGEQ8Te0y1bE0ppFOE0wS0ENTsU6dJvh7rOMkct3su2r9Krl56s3y6v+9ag7V7z/9pFfDXlsc1naF6HZIN7lg5wsSLuKxZPUSGbFghGGGv/itrGODVn478+AzBVeJ8lq/j/rJHR/cYX6dm51r2OUX271oyifH0/R5sn2imcjRWHVB3gGzj4Qi0YQ3wPfjjz9ulvzxwP3f//5nJk+uuQi4CCQ3Ag4AJze+7uguAmmJgFar++STT0q9iGGY0Kgmo1pdZCcBdiQHwaiRHQ5gSAXoTkuwRQwIRNvM0jrWdfE6WiCdsBPrOC5xA2gpIGYyEXTS4J5P7Ckr120qLnHagafJgPYDthivCYsmyOlvnG4kBsfudqzcsPsNsu0225r+RpMKxDMWX/72pQHC/IlW+S2ak8T8FfOlyYAmhvU9ab+TjDSD9mXPL2Xv7faO5zLK7MOzxKQGfTNjgEwCyYRWPEukvDYAG6cDSqw/++yz0rlz54x+ThIeDHcAF4EAI+AAcIDBdIdyEQhzBNCfojVWhtiuVgczDEvMH6yLEgGrWuEMoECiGxrXTG121a9kaJttrSpgCeClJZwVEPMTGUW8Dd3vbo+VdS/Ye9u9jR4XGULdHeoKwLTFkBby54Y/ZZ+t95G797lbDq1zqFmmTwY7jfXax0s/NkD4ja/fKNdJ4uQ6J8tpb5wms5fPNvZqPev1lDtn3GmS9xb2WpjQfUw8iT8TOYo64PKAPEFbZHltPzpijoGGv1u3bkYigzsCx3fNRcBFIHURcAA4dbF2Z3IRCFUEtFodGmLVEVOGGACs5ZsBxF6LU8BeqgtAZahwluhgwHKj9YVVR9sclB60ousC/EY6TQDSAFF2Yp1fRrb5oOYGRG6dt7X8tfGvMpeADRqOEKsKVsl2edvJIwc/Iq0atSpTpCDRWFa0P/penCSGfzXcOEms3bhJikDLycopTXobfMpgeX3B6zLqm1Fyyv6nyNAOQxO6LBjeefPmVZjYZ5+AsUGXb8smeCaQ/TA2uLhg+YeV4SuvvCK9e/eWM8880zgnREsaTOji3c4uAi4CMSPgAHDMELkNXASqRgTsanVavplqdSStKSDWanWRrB/bUekJ7SKsb9grnCU6okwUSIYCeAYpAfB7XZoMqdZrgC8bdGkZ51jOIF3GdDFJaVR7u7D+hTJ8/nB5ff7r8uvaX8tc0v7b7C+XHXmZdDq4k/wr/19+Lzfh7W0niQkLJ5SCXw5cq1otWVe4TjYWb5Q7m90p1x51bVznU+065aph9WFm49H5RuqI8flmwsRYMHnC4eHqq682zi2p1Py++OKL8thjj5ly3Ehrjj76aHnzzTdLY4VNGeWL1aaMKnSRNmWsJkWzKcMBxDUXgcoSAQeAK8tIuet0EUhxBOxqdQBiJBMkee2www5yzDHHGLkEbNYzzzwjn376qYwaNUpgfpOxJJ7irpd7OthWgMPy5csNM051qkTkIkH3S0GXDYjXrVtnLOcUDPOTCYo9Tue/fb4M+2qYdDqwkww4ZYC5LKOpHX6SzFw6c4vLxGmhzT5tjEQCL98aeVvahQXdN/t4SCRaDW0lHy39qDTpzf79mXXPlJfbv+z7EhhfJjbYkUVKHnwfLGIHpBTnnXee0W+jw+dZUitDnicKXyT72cFzlyS7Pn36yFFHHSUrV640RSjQH9Nef/11A3Ypa9y6dWsZPXq0SdBjG/6t7bLLLpMBAwaYQhU8Aw8++KCRV2GFl+kuL4neB27/8ETAAeDwjIW7EheBUEdAmTGVTLz77rumBOz2228vjRo1Ml7EmVKtLtpAaOEDAC+sL8lPlaEVFBSUFueAIWaZHkbTdpq4ddat8sr/vWKSyEacNsJ0q/fE3vLEZ5vszq5ueLXU372+0eS+u/Bdw7Jqg3k95YBThAQ1SiHH4+HrN44vfPaCXDnxSrMbCXu4RQCIVb7xzYXfSO1ta/s6LJIHZAqMb3lexr4OuHljnhsquV155ZVC2V8YWCYhNFw/Pv74YwOGL7roongO73kfgD2OMO+8804ZMGsfANDPNq+99lrpf1Okh3s/slQxLHKvXpucQogdhV5cqWLPw+E2DEEEHAAOwSBU9UsgAWTw4MGm1CWMBMzaJZdcYj4INiPCixvmghc5ZUGpkqQvYDuGlM2kNCfJWLzM+/XrJ82bN6/qYQ6s/wAqlj9hf7p37y7/+c9/zMcxslodYBiWGHCMDjJMTKmfYCANQd7BHz9et37OkcptWb6OLOH8/E/Py9jfxspROx0lw9sNlwH/N0Bum3ObuayzDzpbXmj3Qun44RYx5psxRibxwY8flLl0SiKfXvd0A4Yb7NogKWP+45ofpdFLjQzYReuL9vecMefIW9+9ZTyAB7YfGNW/uLwYR0oe0HMH5bIB+37dddeZ9xss6RVXXJF0lre8fqI5ZpUGW8JojfubpMaRI0dKx44dSzdBEoF8A1YcC0UKdMBkU+SFya82tsF1BhbYNReByhABB4Arwyhl+DWiQaPeOy9dNHdTpkwxGjRKAwNeaTNnzpRmzZrJueeeK127djUFINCmsXQH66AN8HvzzTebUpsNGjQw5TlZxps1a9YWJTkzPKxJ6x7LofiVvvTSS9KqVavS89jV6rRinS7xAoIVELP0GkuTmrSL93lgvF+xN+Mny9Z4v2ZaIxnyxkk3ylOfPyWHbXuYnLnjmXLH93dIkRRJ/e3ry+ATB8uuO+4aVadK2WQ8fElQ+7/fygIfrx6+fuLJPdbxjY6mktx21beTT877RN769i25etLV5jAPtXhILmlwiedD2pIHgC8TnKAmahQHweUB1n3YsGFmhSSd7fjjjzcA9ogjjjCyBiZBSC8effRR838QDO3atTMEA7HQRoEddMo800xob7jhBiN/gGCwG+9qCAr0zcmWcqQzju7cmRMBB4AzZywrbU+wGNppp53KXD/s7tNPP21e0iSItG3b1rDDLBdqu/DCC2Xs2LHGo5MXLswkAJr/h22h8XGHBWZJk4+Qa8FEAEAYy95ME7TwH8Z6DYaYiQhjgnZYE+sABizHBwU8gugh147OF1cLlqtJ7EtlolIQffBzjHtn3Cv3fHiP7JW/l6wsXCl/Ff4le229lzzT8BkpWVtSWsLZtl7DacIes69WfFXq4bt49eIyp2+4a0NjqwY7vOvWu/q5tDLbDvpikFw0bpNU4Nm2z8rhOx8uOFgUFBVIuzrtZHiH4Z7vI5U8cCzeD0ElbnLvkFTGKhYAc+DAgQZ4prsdeOCBsmzZMuPJDUGAdV7fvn1NshsSjLffftuQC9z3to4XII97xZgxY0ziHpNfwDDPht1eeOEF8zvkEiTXueYiEPYIOAAc9hGqotfHRwO2lxc2y2y8UO+//36TNa0NUIW0gWW3hg0bGuaY5XhYRwCWNl7yLNfzYg4TyKpqQ6sJWoBgjP/5iNrV6pQhTmW1umhjgEQAFoyJGUU8kNtk8n2DxOOW8bfIo18+KrlZuVJYUmgcHqZ0mSL7b7+/MG5oVTWxjp9awtkGxFh5ESe2/3jZx4YVHvn1SFmxbkVpmLOzsqX5Xs2Fym6n7n+q1KruHShhxYb0ATu2Vvu0kkHtB5nyx1+v/Fpqb1NbZnafKTvU2CHmY8X18V4BwMHoo3sNSvKAA8ett95qJu8knN10001xOUjE7EQcGwBiAbOsaDChowF20e7eeeedBhgDgGF2IRK0AY55DgD17du3NyCXySzPiN1YbYN8wKYvqMlEHN10u7gIeI6AA8CeQ+U2TGUEeJG+8cYbRndG1j0v7HHjxpkkEm0AFD5ggGVe3PhpXnrppWa52vZBRWOM3yYJW4AZ18IRAbtanSbWIXVhooLcQJPqWHbFYzcVIJRVBgACrgmsHGS6PysaVTSbL377ogxaNsjcGHnZefLWmW/JcXseV+6Nwn42INYSzrbTBJNWqsaV5+Gbn5tvku5ghlvv01qq55Zf/pd7pfPozkbni1cx0of7PrzPlG4GVI87a5w03bNpzBub1QeAGzZ2MKJBVijk/YImHkYVzS+T8VTcszE7vXkDpEeLFy/eQrqA/KFevXpy1llnOQmE12C67TIiAg4AZ8QwZlYnYHRZOkTje8sttxi9LyAIcIReWBv6PYAKGjaSS+655x656667DDtlt0mTJhmtKqb2zqcy3PeKVqtTQKzV6kiMtL2IE61WFxkFWFDYMfyMOXam27nRf63YB2jtPru7fL/6exOWGrk1pPPBneWcQ86Ro2sf7QnEaQln9K78QV6ALMl2msitmSvjF403MolJP0ySwuLC0mFAz9vxwI4GDHHRQwAAACAASURBVANkAbV2e2PBG3LuW+ea/3q01aOybfVtpcfYHubffZr0kZuPvTnmjY37BS4PgOmgJQ8TJ040uQi4gwB+AdZhaz169DB2ZpHaXcAv+RIktnpNgjv//PNlxYoVLgkubIPsrsdXBBwA9hUut3GyI8DLGaYCppZlcgCuAmCWy/ldJADGjufyyy83APjuu+8W2Cm78XHCw5KPH6yea5UnAjB2FA/Q8s3IJrhHAKlavhlgnAhgBRjB+gLiADB2ZnvliZT3KyWmLP+z/M2yOLG8/r3r5dm5z0qxFJc50L7b7WuA8NkHny37bLeP55NoCWcFxCyLAzxZGkc2UZRfJFN+mSIjvx25hc/w7lvvLmccdIZxkkDj+/u636Xhyw1lxdoVhpV+ss2TcuyAY01Z5qZ7NJV3znonpvUakgeYX3INWF0ISvJAP9HTknyL2wPvn6CO7TnYHjdUj18Yf+5z2tKlSw3ofeCBB0zSMXIQALGdL8GqG2x/pA0aTjsXX3yxOQ7PEH7AzgbN42C4zUIRAQeAQzEM7iKIAEvfaHphcGH+KLhAw0DejwQCAIztljYngcic+wumFk2iaogBxFqtTgExqwV8yGNlogPIWLbmeAAj9mHClclNE7+UBbWTldYUrBEszmBoh3w5RL7949syoTh2j2MNGIaphYH107SEswJinnUt4by2+lqZtnKavL3kbaPntVvd7esaze/Pf/9smOnp3abLReMvkk+WfyLb528vH/X4yOh/y2vJlDwgo8AOjIk1pY1PPvlkT2y5n7gFuS2xwM2BewCgThIc2l+VmeHMwrsSKQTaZVbNSHxjhS1aIQykZ+RW4ODDBAAbSyaSrhBGkKPmjpXMCDgAnMzoumN7jgCgF8N1wAhSB16q2nB3cElwnkNZpTbUanW2ZMKuVgc7TPlmmH+bmQM0w34xWcLyKVUa43QNjoJ9PGABKLG8btkekAkQxubsj/V/lF462t2T65xswHCLvVuYSmx+G8cHiNk6Yp7z5cXLZeZfM2XiLxPl57VlbbbOq3eeKXfcf3Z/czocH07e/+RyT62SB8A3koegnAm4dibo+N7uueeehi0lkawyNMAuicQ4PiA3whqNynDoobXh+wurraWQSeaLLIXMakm0Usiwx665CFSWCDgAXFlGKoOvEybotNNOEwUx0XS62KDxsQQca2P5jczkSBs0/h/HCBqsB8cDADkbtAy+iTZ3LbJaHQwxKwhoUdGPA4jZBuaKxEkcQmLZuVX2qAFWiAEJfrDcgH0/raCwwFR/AwyPXzi+TBW4nWvubMohA4aRK8TbGBOSVxUQr/xjpcxdMVf+t/h/smLjCsmSLBlw4gDpNr6bOQVev3j+lteSJXkATAMYYU55z8B8ZrI9Xrzj6fZzEagMEXAAuDKMUoZfIxXfnnvuOePdC1tnN/R6MDdaCINEji5duhhdMAxEeYUwKKRBYgfelFQ2CqoQBuV/YUcAFOgaSXbp0KGDSdizS+O6qnXhuGkBVriFMLmaPHmyWeIFCKrWl/sNUNy4ceNKXa2uvGirqwUgjUlgomAfHS4JaYO/HCxzfp5T5rSH7nSoAcIksu22tT+QHe36/1r7lxz84sHy+/rfpdkOzWTe6nmyunC11Nm6jgxvNVx22WEX826grLM2W98MqxmkhR2x5F0F+8v7CmeZMLk8hOOJc1fhIlB5IuAAcOUZq4y9UpInsOeJ1vD21TLGgEqqvNmlkLE9sxuAR0sho9Hjow+wPuGEEwKJ39ChQ43mDy0dyTxo3lgiBGxPmDDBnMNVrQsk1IEeBH3iOeecY3SneLSy3A4ohiHmd4CoylqtLlqgYCoXLlxolrGT5Wqx4PcFMvTLoTL0q6Gy9M+lpZeBgwPSiC6HdDFSiRp5NeIayymLp8jJr22SOBy1+1HGWxgd8JBmQ2S7ou3MBJSmThPo/pG2BC154BzcI6wYcC4mUbZkIK7OuZ1cBFwE0h4BB4DTPgTuAip7BNQAHk0ppVRd1brwjWivXr0M6O3fv38Zk/5Y1eo0sS6M1erKizK6Zi3fTPJosquQFZcUy/tL3jcSidHfjJa/N/5demlodkmagxluskeTLezNKrpTLn/3cnnp85cEmcWva381mz7T9hnpdugmGQRsL8l0JNYx2cWLmIZ3M04e6klMsle8DTDN833jjTealSdKCJMs5pqLgItA5Y+AA8CVfwxdD9IcASQWnTp1MmwbCUYuYS/NAxLl9IAle6m8vCsEEJOQScltrNdgifk7oBLZBA4TSCYAxDhHhG0JHCCIPId7kOtNtT717w1/y5vfvmnAMAxuiZSUhvrf2/7b+At3PqSz1PlXnQpvEjyC931qX2OBBqMMyEZa8VK7l8rEnHGlUA6aXyzdYGjtxDoYf2QfdsU6mGIv4wbDjL0iCWMAXxwfvOwXvrvfXZGLgItAtAg4AOzuCxeBOCLAh5csasAGH0aWmUnI82vZ5qrWxRH8FO4SWa0OycSHH35omEcSyrQ4Ryqr1UXrvg0E8UTGRSXdYA1ZBOWQAcPzfy9bNhdJA6xwp7qdTNnlyDb5h8lyyohTSv8bP+IZ584oUzoZxhc5En1H6mRr8NlR2f1IpwkmBTYghtGNjBUMOpIH2muvvSZUS3PNRcBFILMi4ABwZo2n602KIkByDZIHGkbxmMzzIXVV61I0AGk8DRMfqgpqcQ6Son7//XehWp3tRZwqEGrbfUUDgmkMlTk1QPSzXz4ziXMj5o+QFetWlF5StZxq0m6/dgYMt9qnleTlbPJhvmTcJTLgiwHm75Rmfq/Le9Jg1wal+1HEg1wAvMJJlPXi38x1RJZwZgLKvhSHoLIZtmDoiClqga8v8odIYJ3ueLrzuwi4CAQTAQeAg4mjO0oViwDME8CDKmWUX4Z1o+Ic1ZJgA13VuqpzQ6AThTFUG79kVKuLFk0AHRaAePvuvPPOhpEOaxUyvf6NRRtl4qKJhhV++/u3ZUPRhtKu7VhzRzmj7qYKcG2Ht5V1hZsqOt7b/F65svGV5u82033AAQcYH95EmG504TDEL730kpDgSuIgx+N57ty5swHEVJ9M1D0jnqeB9wt+zUy0Z8+ebZI0teHVi9ONevXiQhPp1ctELZpXrysHH89ouH0yMQIOAGfiqLo+pTQCZIjzcSI7HDbKVa1LafhDdzKtVqcaYhhiXE7Qh8MQa3EOwI0XXXK0Dqr8BtZSvX0TAYLpCCLFNUYuGGnA8EfLPop6CU1qN5F3O79rdMAqeUDXC4gLkpmleEq3bt0MQ4y/L3FlIgPwZKKBA03Lli1TGqbevXsLQBddtw2AtaQxiXmUeB89erTRKEer1jZgwADjeY3TDm44n332mWG7XbW2lA6lO1lII+AAcEgHxl1W5YkArBS6QsqLUmXJJcFVnrFLxZUCoGDqVDIBsAJw4VSggJhVA0CdFwYX1wMYZ5bukTxkgivBd398J8O+HCZDvhoii1f/Y4m4qNci2XmrneXnn382+npixgTTi+TBy9gyNqNGjRJcQpo1a2YAp5ZgZ38AMeCTscFVIlVtwYIFZlINeAWQ2wCYCQ/jjjZZG1U00aWz8kSDNUaC89hjj5m+0ai8R8W6Cy64oLRQUKr6487jIhDGCDgAHMZRcddUqSIAw0dBheHDhxtzfFe1rlINX8ovFtCFa4HNECOlYeJEtTp1msBbGqCnzC7M59y5c43/LUv/uB5kZ2en/PqTeULcHh748AF5eNbD0ni3xjL2jLFG4gGgo78kmwbFdCN/uOWWW0xRCyq7wbiGJZ4wu4BudMh4mCsAXrRokey7776muE/Hjh1LhwLgTmlmSh1je/fyyy+b5Fy06UwatLHNJ598Ylhg11wEqnoEHACu6neA67+vCFCyGWaGj1ONGjVMMhRLi7vssov5SOE5Gpaqdb465jZOWwS0Wh3MMKCYCRX3FXZdFFxBMkHhBdhAABqMJRZsmdw0YQ2tPXKPoCUPJLqde+658uOPPxrtL1rfoIB1ouOCxIECP6wSMOGxATBSjHbt2pkEQCQ02nj3cK9wDzGBuuGGGwT5A8y53fr16yd9+vQxVn9hAfuJxsvt7yIQbwQcAI43cm6/KhmB+++/3zC933//vak4hbYOUEzWOAyetjBUrYs2QC6xJvy3LeCPxCyAMIl1Y8aMMfcbrC/L2iRlseLAz2gWXuHvYewrRPcKK45dGX7GQUoeKGfes2dPqVevngwZMiRUelhcKQC2VJeEwZ06dWoZADx48GBjz4YLhq3j/e677wxDzr1yyimnmP4BhpFS2I3S8PwOuYT9voo9Im4LF4HMi4ADwJk3pq5HLgLlRsAl1lSemwOW7vrrrzelmykBjjwCmz2AzaxZs4wjAv606kXMTxLDwsJkxhNpJpVIHnC3CFrygIQEnf4jjzxi5A59+/b1pLmOpx/x7sM44yZD8RUY2vIAMMwuq07aYItxxcCLvH379gbkMoGCKbabVq1ERrPNNtvEe5luPxeBjIiAA8AZMYyuEy4CsSPgEmtixyhMW0yYMEEuvPBCw1KSLKctslodQAfZDewhyVEAYZbBw1qtrrwYc/0qeaAfQSadARh79OhhEumQBqDTD9tEAacQQCwSFx1vxhZAO2XKFCO9YkXASSDC9JS6a6nMEXAAuDKPnrt2FwEfEXCJNT6CFZJNYYHRAsdqJHRhx6dexHa1Ors4x2677RY64EfftIQzoBeXB7T0QTQmCzDmgF8cEIYNG2ZkJGFsyvaWd21IXtAre02CO//8842dm0uCC+Nou2sKQwQcAA7DKLhrcBFIcgRcYk2SAxyyw2u1OgXEkdXq1Is4VdXqyguPLXkIuoQzEhHkDhSqIamMBLCggHUyhhvdNz69duPfWCs+88wz0rhxY8EZBBs09MuAeW1Uo2T/SBu0J554wtio0dD/k7PgbNCSMXrumJUxAg4AV8ZRc9fsIuAjAi6xxkewMnRTu1odjCh/SKQisc7WEKfSWg2PXSQPsNdB++xi/4V8BGkIutfTTz89lMx3rNstUgPM9hTcOeuss+Smm26SVq1amcS3Rx99NGohjIEDBxr3ECY6Dz30kFklwEPaFcKIFXn3+6oQAQeAq8Iouz5W6Qi4xJoqPfxROw8gxjkAgKWAGA0qiVW2ZAK2Md5qdRVFHb9aXB5I2sPlIUhmlgTB7t27GwcJikWgq62sLRoApi/4/t57772lpZBxjYgshbxhw4aopZBhj11zEXAREHEA2N0FLgIZHAGXWJPBgxtg17RanUomEq1WV96laZlo/Hf3228/syQfVDIax0YqwIQPAAwrWrNmzQCj5A7lIuAikEkRcAA4k0bT9cVFICICLrHG3RLxRECr1QGItTiHXa1OnSYiq9VVdC5b8oDLAwxtUA1bL0r+4vH75JNPGgAcFLAO6hrdcVwEXATCFQEHgMM1Hu5qXAQCjYBLrAk0nFX2YHa1OkAxDHFktTqs10jUwrUiEnyiN8aGLxmSB8r6UhwiNzfXSB4A1665CLgIuAjEioADwLEi5H7vIpBhEXCJNRk2oGnozv+3d+ehMn5xHMePP2yJP+yhpOwUUiLZkyVLlCW6su/LtVOy7xEhskVkz74WkTVlScheKPu+k6V+fU4901yun2HumXuemfdTv/p1zZznPK8zf3znzPd8vwqI1U1MgbACYlWZ0AErBb6qVxvsECvfVK13lYqj9ISsTHnQHHTIa8SIEaZt27Zm+fLldDfLhs8Ct0QgrAIEwGFdOeaNwD8K+H6wZu3ataZHjx6/PJ26d6kVdXDpINCsWbMiB4EmTZr0y0EglQObOHGi0ZgK2FRLVbmhqjrAlXUCCkY/fvxoVH84SJlQNzMdoMudO7dtz6sGDjpgp1q/8aYn6F4KfLXjq1JnAwYMsJ3TuBBAAIFYBQiAY5XidQggkBCBIAA+dOiQ/ck8uEqWLGnLdulSXWOdeh83bpxRg49du3aZxYsXZ1oKSp2/VApKu49z5861tVb1szmloNwtp0pzqfmEavs2btzYXLx4Mcu61d28edOkpaXZgHvLli2mVq1a7h6EkRFAIGkFCICTdml5MATCKRAEwM+fPzeFCxfO9CFUnku5ntoBDK5mzZrZXd6fmwEsWrTIHpDS9f79e9sRjGYA7j4b2gFu0qSJmTJliq1VG+zM/q5bXcWKFSO1iJVHXKJEiUx3iLXLvH37djN48GDTsGFDu6sf3eXM3RMxMgIIJKMAAXAyrirPhECIBf4UAN+9ezfmdrA9e/Y0aopAO9jEfSAUqOqAXPXq1f/3pt+/f7evU8CsXGLlEat1r1r9Rtci1s69atoqmF69erWZMWOGGTVqVMJTHtSAYsOGDTbX+dWrV7aMm1Iv+vXrl2EuBw4csHnP169fN6VKlbKpGsEXsGgQNaZQp7YnT57YL3PqVKfAngsBBBIjQACcGGfuggACMQoEAXDRokVtQKQuVn369DFjxoyxOaUKMJRPqgBDu4fBde7cOftzuIIp7STq9Up/UIARfSnQUIDy5cuXhAdRMRKk5MtUx1el1oKAOOhWpx1hrZWaZaj9b/369ePOIf4X4Nq1a9vPYrt27WzDkGPHjtkc9PT0dBu86lLnOc2vW7dutjLF6dOnjXLTdUBPvzoEl4Jf1StWMwuVklO3OqXxqIkHVSz+ZXV4DwJ/L0AA/PdmvAMBBBwKqJarDlDpwJoOS+3Zs8csW7bM7rZpx0y7cAouVForOo9Xnc3Uylf5pzp0paBZQZTKb0Vfq1atsv+mdIkCBQo4fBKGjkcg6FanXHCt+9GjR+2OanZdSskpUqRIhttrd1efTZUb1GG/Fi1a2N1hfX6DSy2Z9+3bZx48eGC/cCkVRAG0/q6cdF0/fvywga8OZyrI50IAAfcCBMDujbkDAgjEKTB69GizYMECow5iCoQUAGtnV4FEcN2+fdu2vVXA3Lp1axvk6md17RRHX9ptU/Ch5gn58+ePc2a8PZUFVIZNu72PHj2yaTb6QqVKJcOHD4+waEdbqQ3nz583NWvWtDvHwcHAGjVqRF6nnGkd1tQXs3irZKTymvDsCMQqQAAcqxSvQwCBbBMI0huU/qAcU1Igsm0puHGUgL5I6WDes2fPjKpTVKlSxRw8eNA0b9488irtHCudR8GyvrgtXbrUDBo0yHz69MnkzZs38jrlGHfs2NF+ycvOnW4WGIFUESAATpWV5jkRCLGAciOVEqEAWHm/Oii1Y8cOm48ZXKoLrPrBCkZUPWLNmjWmV69eNo+YQ3AhXnxPp64d3Tp16tgc3wkTJth8X+WeKw9Y+cLBpcN+OXPmtPWnhw4dag/xTZs2zeY1R19HjhwxTZs2tQcDqVPt6aIzraQSIABOquXkYRBIToGRI0faAEJ5lMr7VRk0dRmLzpfUrptyMX8ug6b80f79+1uYDx8+2HrAlEFLzs9Jop5K6Tf6QqadWjWWUYAbBMD6/Onffg6AVY5vyJAhNgCePn26+fz5c4bpHj582Na0vnz5MgfhErWQ3CelBQiAU3r5eXgE/BNQPV/Vka1ataqdnHJ6V6xYYYYNG2bzgHXp5+JOnTrZ0ljaNdPBNwXIOjClICK4VDNWPz0rt1In+HX6XmWsrl69SiMM/5Y+FDNSjq5yerWDqxzzQoUK2Xlfu3btr1IgFADnyZMn8sykQIRi+ZlkEgkQACfRYvIoCCSDgAJd5VFqt1eVAHSwTTu22j2LPhyklAeVkbp3757tODZ58uRfWiGrfmxmrZC1e+ziUp1a7fQpH1QHovRTuAL44KJ9swv1xI2poFdf0HTgUqkO+lIVXKruwCG4xK0Fd0IgXgEC4HgFeT8CCCBgjA3AtUOtGsP6CVzlsLQjrRqwumjfHO6PiXJ527dvb06cOGH/yyxPV2XQlIaj4Di4lH6jL0E/l0HT31UxQpfKoGk8lUKjDFq4PyfMPjwCBMDhWStmigACngqo1JqCFx3Si07BiJ4u7Zs9XbwYp6WOb0rFUe3eevXqZXhX5cqV7e5v0Aije/fupmvXrjYvWL9A/K4RhhppqBGGalPrUCeNMGJcDF6GQBYIEABnASJDIIBAaguMHTvW7Ny509y6dStTCNo3h//zocOT9+/fz/RBVNs3aGOsL0Hq8hbdClllz6IvlfILWiE/ffrUfnlSYN2oUaPwQ/EECIREgAA4JAvFNBFAwF+BBg0a2NJr1atXN4sXL7Y/g6tElg7m6W+0b/Z37ZgZAgikpgABcGquO0+NAAJZKFChQgXbDaxkyZL2YF6uXLmMOnvpgJ4OTO3fv5/2zVnozVAIIIBAvAIEwPEK8n4EEEh5gXLlypk7d+7Y8mrqBqbr8ePHpkyZMmbq1Kk2MKZ9c8p/TABAAAGPBAiAPVoMpoIAAuEUUNUH5YeqQUL0pfQHlVxTzWLaN4dzbZk1AggkpwABcHKuK0+FAAIJFNCpf5U8+zkAVvCrU/6qBED75gQuCLdCAAEE/iBAAMxHBAEEEIhTIKjxe+XKlUgHu4cPH9qgd86cOSY9PZ32zXEa83YEEEAgKwUIgLNSk7EQQCAlBdTIoFatWub9+/dm+vTp9hCccn+fPXtmu8Lly5eP9s0p+cngoRFAwFcBAmBfV4Z5IYBAqAQU7A4fPtxWfPj27ZtRaTR1hlOFiODysX1zqJCZLAIIIJBFAgTAWQTJMAgggEDYBNS84fjx45lOe9OmTaZz58723xS4q2uZyrqVLVvWTJo0yXTo0CHD+xT0K9d57dq15u3bt7YdtOogZ9YyOGxOzBcBBJJPgAA4+daUJ0IAAQRiErh27Zp59+5dhtcuXLjQbN++3ZZxU3OPIL953Lhxts3zrl27bLMPHfqLbvs8ePBgs27dOjN//nyjrmnqbHbp0iWjvOjixYvHNB9ehAACCCRKgAA4UdLcBwEEEAiBgA7uVapUyaZy6NL/q1Xv1q1bI7Nv1qyZ3eU9e/as/ZsO/JUuXdosWrTIDBw40P5N+dCqg9y7d28ze/bsEDw5U0QAgVQSIABOpdXmWRFAAIH/EThz5oypW7eu2bBhg+nSpYu5e/duzOXbevbsaV6+fGkKFiwYuUOPHj3M+fPn7S4wFwIIIOCTAAGwT6vBXBBAAIFsFFAaw5o1a2z1ClWuOHDgAA08snE9uDUCCLgTIAB2Z8vICCCAQGgEvn//bls2N2nSxGzcuNHOWzvBauGsfODoPF61fVb75927d5s2bdqYPn36mJMnT5obN25keN5Vq1bZf1O6RIECBUJjwUQRQCD5BQiAk3+NeUIEEEDgjwIHDx40LVu2NHv37jWtWrXKEACrw12xYsUiY9y+fduUL1/e7Nmzx7Ru3doGuadOnTLXr1/PcJ+VK1eavn372oN2+fPn/+MceAECCCCQKAEC4ERJcx8EEEDAY4G0tDSjIFi7vTlz5rQzJQXC4wVjagggEJcAAXBcfLwZAQQQCL/A58+f7Q5v165dzbJlyyIP9DeH4Hr16mVevHjBIbjwfxx4AgRSQoAAOCWWmYdEAAEEfi+wZcsW2/TixIkTpl69ehleqDJo1apVM5s3b478vXnz5ubNmze/lEFbsmSJ6d+/v33dhw8fbD1gyqDxyUMAAR8FCIB9XBXmhAACCCRQoG3btrZphTq95ciRI8Odt23bZjp16mTGjx9vmjZtag++qcNbZo0w1q9fbxthqCbwvHnzzIULF8zVq1dphJHAteRWCCAQmwABcGxOvAoBBBBISoHXr1/bADU9Pd3MmTMn02dUK+SZM2dGWiFPnjz5l1bIX79+zbQVsnaPuRBAAAHfBAiAfVsR5oMAAggggAACCCDgVIAA2CkvgyOAAAIIIIAAAgj4JkAA7NuKMB8EEEAAAQQQQAABpwIEwE55GRwBBBBAAAEEEEDANwECYN9WhPkggAACCCCAAAIIOBUgAHbKy+AIIIAAAggggAACvgkQAPu2IswHAQQQQAABBBBAwKkAAbBTXgZHAAEEEEAAAQQQ8E2AANi3FWE+CCCAAAIIIIAAAk4FCICd8jI4AggggAACCCCAgG8CBMC+rQjzQQABBBBAAAEEEHAqQADslJfBEUAAAQQQQAABBHwTIAD2bUWYDwIIIIAAAggggIBTAQJgp7wMjgACCCCAAAIIIOCbAAGwbyvCfBBAAAEEEEAAAQScChAAO+VlcAQQQAABBBBAAAHfBAiAfVsR5oMAAggggAACCCDgVIAA2CkvgyOAAAIIIIAAAgj4JkAA7NuKMB8EEEAAAQQQQAABpwIEwE55GRwBBBBAAAEEEEDANwECYN9WhPkggAACCCCAAAIIOBUgAHbKy+AIIIAAAggggAACvgkQAPu2IswHAQQQQAABBBBAwKkAAbBTXgZHAAEEEEAAAQQQ8E2AANi3FWE+CCCAAAIIIIAAAk4FCICd8jI4AggggAACCCCAgG8CBMC+rQjzQQABBBBAAAEEEHAqQADslJfBEUAAAQQQQAABBHwTIAD2bUWYDwIIIIAAAggggIBTAQJgp7wMjgACCCCAAAIIIOCbAAGwbyvCfBBAAAEEEEAAAQScChAAO+VlcAQQQAABBBBAAAHfBAiAfVsR5oMAAggggAACCCDgVIAA2CkvgyOAAAIIIIAAAgj4JkAA7NuKMB8EEEAAAQQQQAABpwIEwE55GRwBBBBAAAEEEEDANwECYN9WhPkggAACCCCAAAIIOBUgAHbKy+AIIIAAAggggAACvgkQAPu2IswHAQQQQAABBBBAwKkAAbBTXgZHAAEEEEAAAQQQ8E2AANi3FWE+CCCAAAIIIIAAAk4FCICd8jI4AggggAACCCCAgG8CBMC+rQjzQQABBBBAAAEEEHAqQADslJfBEUAAAQQQQAABBHwTIAD2bUWYDwIIIIAAAggggIBTAQJgp7wMjgACCCCAAAIIIOCbAAGwbyvCfBBAAAEEEEAAAQScChAAO+VlcAQQQAABBBBAAAHfBAiAfVsR5oMAP8snWAAAAFlJREFUAggggAACCCDgVIAA2CkvgyOAAAIIIIAAAgj4JkAA7NuKMB8EEEAAAQQQQAABpwIEwE55GRwBBBBAAAEEEEDANwECYN9WhPkggAACCCCAAAIIOBX4D8UnMcQB8WRcAAAAAElFTkSuQmCC\" width=\"639.9999861283738\">"
      ],
      "text/plain": [
       "<IPython.core.display.HTML object>"
      ]
     },
     "metadata": {},
     "output_type": "display_data"
    }
   ],
   "source": [
    "fig = plt.figure()\n",
    "ax = plt.axes(projection='3d')\n",
    "\n",
    "for ivica in iviceModem:\n",
    "    ax.plot3D([rekonstruisane400[ivica[0] - 1][0], rekonstruisane400[ivica[1] - 1][0]], [rekonstruisane400[ivica[0] - 1][1], rekonstruisane400[ivica[1] - 1][1]], [rekonstruisane400[ivica[0] - 1][2], rekonstruisane400[ivica[1] - 1][2]], 'red')\n",
    "\n",
    "for ivica in iviceCaj:\n",
    "    ax.plot3D([rekonstruisane400[ivica[0] - 1][0], rekonstruisane400[ivica[1] - 1][0]], [rekonstruisane400[ivica[0] - 1][1], rekonstruisane400[ivica[1] - 1][1]], [rekonstruisane400[ivica[0] - 1][2], rekonstruisane400[ivica[1] - 1][2]], 'blue')\n",
    "\n",
    "for ivica in iviceKeks:\n",
    "    ax.plot3D([rekonstruisane400[ivica[0] - 1][0], rekonstruisane400[ivica[1] - 1][0]], [rekonstruisane400[ivica[0] - 1][1], rekonstruisane400[ivica[1] - 1][1]], [rekonstruisane400[ivica[0] - 1][2], rekonstruisane400[ivica[1] - 1][2]], 'green')"
   ]
  },
  {
   "cell_type": "code",
   "execution_count": null,
   "metadata": {},
   "outputs": [],
   "source": []
  }
 ],
 "metadata": {
  "kernelspec": {
   "display_name": "Python 3",
   "language": "python",
   "name": "python3"
  },
  "language_info": {
   "codemirror_mode": {
    "name": "ipython",
    "version": 3
   },
   "file_extension": ".py",
   "mimetype": "text/x-python",
   "name": "python",
   "nbconvert_exporter": "python",
   "pygments_lexer": "ipython3",
   "version": "3.7.6"
  }
 },
 "nbformat": 4,
 "nbformat_minor": 2
}
